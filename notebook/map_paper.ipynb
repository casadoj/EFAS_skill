{
 "cells": [
  {
   "cell_type": "code",
   "execution_count": 1,
   "id": "edb181aa-67cd-42f0-bb04-40999380f44a",
   "metadata": {},
   "outputs": [],
   "source": [
    "import os\n",
    "path_root = os.getcwd()\n",
    "import numpy as np\n",
    "import pandas as pd\n",
    "import xarray as xr\n",
    "import matplotlib.pyplot as plt\n",
    "from matplotlib import cm\n",
    "from matplotlib.colors import ListedColormap\n",
    "from matplotlib.ticker import MultipleLocator\n",
    "import seaborn as sns\n",
    "from datetime import datetime, timedelta\n",
    "from tqdm import tqdm_notebook\n",
    "os.environ['USE_PYGEOS'] = '0'\n",
    "import pickle\n",
    "import yaml\n",
    "from sklearn.model_selection import StratifiedShuffleSplit, train_test_split, KFold\n",
    "import warnings\n",
    "warnings.filterwarnings(\"ignore\")\n",
    "\n",
    "os.chdir('../py/')\n",
    "# from compute import *\n",
    "# #from compute import hits2skill, define_area_ranges, hits_by_area, summarize_by_area\n",
    "# from convert import dict2da\n",
    "# from optimize import find_best_criterion, find_best_criteria, find_best_criteria_cv\n",
    "# from plot.results import * #lineplot_hits, lineplot_skill, plot_skill_training, plot_hits_by_variable, plot_skill_by_variable, plot_skill_by_probability\n",
    "from plot.maps import create_cmap, map_stations, map_hits, map_skill, map_events\n",
    "os.chdir(path_root)"
   ]
  },
  {
   "cell_type": "code",
   "execution_count": 2,
   "id": "de483b1b-8a9b-4a04-a7b4-794e5d6d9643",
   "metadata": {},
   "outputs": [],
   "source": [
    "# Set the default text font size\n",
    "plt.rc('font', size=15)\n",
    "# Set the axes title font size\n",
    "plt.rc('axes', titlesize=16)\n",
    "# Set the axes labels font size\n",
    "plt.rc('axes', labelsize=15)\n",
    "# Set the font size for x tick labels\n",
    "plt.rc('xtick', labelsize=13)\n",
    "# Set the font size for y tick labels\n",
    "plt.rc('ytick', labelsize=13)\n",
    "# Set the legend font size\n",
    "plt.rc('legend', fontsize=13)\n",
    "# Set the font size of the figure title\n",
    "plt.rc('figure', titlesize=17)"
   ]
  },
  {
   "cell_type": "markdown",
   "id": "ba6d96d3-ad5d-4763-ab64-0a51eb59b7d4",
   "metadata": {},
   "source": [
    "## 1 Configuration"
   ]
  },
  {
   "cell_type": "code",
   "execution_count": 3,
   "id": "96a15653-4680-494d-a886-f1fc2d5ac578",
   "metadata": {},
   "outputs": [],
   "source": [
    "# with open(\"../conf/config_NWP_leadtime_ranges.yml\", \"r\", encoding='utf8') as ymlfile:\n",
    "with open(\"../conf/config_NWP_daily.yml\", \"r\", encoding='utf8') as ymlfile:\n",
    "    cfg = yaml.load(ymlfile, Loader=yaml.FullLoader)"
   ]
  },
  {
   "cell_type": "markdown",
   "id": "ab804b3f-dfb9-4669-9f08-535eaf635257",
   "metadata": {},
   "source": [
    "### 1.1 Reporting points"
   ]
  },
  {
   "cell_type": "code",
   "execution_count": 4,
   "id": "8ba2b49a-5f84-48ee-a809-ee046e481371",
   "metadata": {},
   "outputs": [],
   "source": [
    "# area threshold\n",
    "area_threshold = cfg.get('reporting_points', {}).get('area', 500)\n",
    "\n",
    "# reporting points\n",
    "path_stations = cfg.get('reporting_points', {}).get('output', '../results/reporting_points/')\n",
    "file_stations = f'{path_stations}reporting_points_over_{area_threshold}km2.parquet'\n",
    "\n",
    "# catchments\n",
    "catchments = cfg.get('reporting_points', {}).get('catchments', None)\n",
    "\n",
    "# minimum performance required from the reporting points\n",
    "min_kge = cfg.get('reporting_points', {}).get('KGE', None)"
   ]
  },
  {
   "cell_type": "markdown",
   "id": "ae820305-6597-44c7-8c62-da9d78252885",
   "metadata": {},
   "source": [
    "### 1.2 Hits"
   ]
  },
  {
   "cell_type": "code",
   "execution_count": 5,
   "id": "40fe2fe7-da87-4c52-a2c7-1efd697495ba",
   "metadata": {},
   "outputs": [],
   "source": [
    "# lead time ranges\n",
    "leadtime = cfg.get('hits', {}).get('leadtime', None)\n",
    "\n",
    "# parameters of the rolling window used to compute hits\n",
    "window = cfg.get('hits', {}).get('window', 1)\n",
    "\n",
    "# dissagregate the analysis by seasons?\n",
    "seasonality = cfg.get('hits', {}).get('seasonality', False)\n",
    "\n",
    "# path that contains the NetCDFs with hit, misses and false alarms pro\n",
    "path_in = cfg.get('hits', {}).get('output', '../results/hits/')\n",
    "if leadtime is None:\n",
    "    folder = 'all_leadtimes'\n",
    "elif len(leadtime) == 10:\n",
    "    folder = 'daily'\n",
    "elif len(leadtime) == 20:\n",
    "    folder = '12h'\n",
    "else:\n",
    "    folder = '_'.join([str(lt + 12) for lt in leadtime])\n",
    "path_in = f'{path_in}NWP/{folder}/window_{window}/'"
   ]
  },
  {
   "cell_type": "markdown",
   "id": "ab0433b6-a162-4ef8-ba72-fd40b7a0bb4a",
   "metadata": {},
   "source": [
    "### 1.3 Skill"
   ]
  },
  {
   "cell_type": "code",
   "execution_count": 6,
   "id": "e5bc71cf-1379-4b6e-8f6c-e550cbac8df6",
   "metadata": {},
   "outputs": [],
   "source": [
    "# current operationa criteria\n",
    "current_criteria = cfg.get('skill', {}).get('current_criteria', None)\n",
    "\n",
    "# fixed notification criteria\n",
    "min_leadtime = cfg.get('skill', {}).get('leadtime', 60)\n",
    "min_area = cfg.get('skill', {}).get('area', 2000)\n",
    "\n",
    "# coefficient of the fbeta-score\n",
    "beta = cfg.get('skill', {}).get('beta', 1) #[.8, 1, 1.2]\n",
    "metric = f'f{beta}'\n",
    "\n",
    "# optimization parameters\n",
    "kfold = cfg.get('skill', {}).get('optimization', {}).get('kfold', None)\n",
    "train_size = cfg.get('skill', {}).get('optimization', {}).get('train_size', .8)\n",
    "stratify = cfg.get('skill', {}).get('optimization', {}).get('stratify', False)\n",
    "tolerance = cfg.get('skill', {}).get('optimization', {}).get('tolerance', 1e-2)\n",
    "min_spread = cfg.get('skill', {}).get('optimization', {}).get('minimize_spread', True)\n",
    "\n",
    "# path where results will be saved\n",
    "path_out_root = cfg.get('skill', {}).get('output', f'../results/skill/')\n",
    "path_out = f'{path_out_root}NWP/{folder}/'\n",
    "if min_kge is not None:\n",
    "    path_out = f'{path_out}window_{window}/kge_{min_kge}/'\n",
    "else:\n",
    "    path_out = f'{path_out}window_{window}/no_kge/'\n",
    "for path in [path_out_root, path_out, f'{path_out}{metric}/']:\n",
    "    if os.path.exists(path) is False:\n",
    "        os.makedirs(path)"
   ]
  },
  {
   "cell_type": "markdown",
   "id": "4481f695-6a85-43d2-9f3f-0e7178013a2e",
   "metadata": {},
   "source": [
    "## 2 Data\n",
    "### 2.1 Reporting points"
   ]
  },
  {
   "cell_type": "code",
   "execution_count": 7,
   "id": "085f351a-b6e3-4ff9-b2a4-1ca5c7241cae",
   "metadata": {},
   "outputs": [],
   "source": [
    "# load table of fixed reporting points\n",
    "stations = pd.read_parquet(file_stations)\n",
    "stations[['X', 'Y', 'area']] = stations[['X', 'Y', 'area']].astype(int)\n",
    "\n",
    "# select stations that belong to the selected catchments\n",
    "if catchments is not None:\n",
    "    if isinstance(catchments, list) is False:\n",
    "        catchments = [catchments]\n",
    "    stations = stations.loc[stations.catchment.isin(catchments),:]\n",
    "\n",
    "# remove points with a performance (KGE) lower than the established threshold\n",
    "if min_kge is not None:\n",
    "    mask_kge = ~(stations.KGE <= min_kge)\n",
    "    stations = stations.loc[mask_kge]\n",
    "else:\n",
    "    # remove station with erroneous behaviour\n",
    "    stations = stations.loc[~(stations.n_events_obs >= 6)]"
   ]
  },
  {
   "cell_type": "code",
   "execution_count": null,
   "id": "906e4a76-ac16-4a48-9a29-388e34d59167",
   "metadata": {},
   "outputs": [],
   "source": []
  },
  {
   "cell_type": "code",
   "execution_count": null,
   "id": "4ca15084-90d2-43a3-bd30-c314fd1711eb",
   "metadata": {},
   "outputs": [],
   "source": []
  },
  {
   "cell_type": "code",
   "execution_count": null,
   "id": "bec15cea-45ae-4db0-a8e7-ad32827c9f0f",
   "metadata": {},
   "outputs": [],
   "source": []
  },
  {
   "cell_type": "code",
   "execution_count": null,
   "id": "d61670fa-c63c-4929-93aa-0b7a4ef883f3",
   "metadata": {},
   "outputs": [],
   "source": []
  },
  {
   "cell_type": "code",
   "execution_count": null,
   "id": "cb42618d-c3d1-4983-9a04-a93a2370892b",
   "metadata": {},
   "outputs": [],
   "source": []
  },
  {
   "cell_type": "code",
   "execution_count": null,
   "id": "fc2cf481-497e-43f4-8210-99a8e0540ef0",
   "metadata": {},
   "outputs": [],
   "source": []
  },
  {
   "cell_type": "code",
   "execution_count": null,
   "id": "f2e00a29-8917-4f98-b6da-044482edf2e7",
   "metadata": {},
   "outputs": [],
   "source": [
    "import os\n",
    "os.environ['USE_PYGEOS'] = '0'\n",
    "import pandas as pd\n",
    "import geopandas as gpd"
   ]
  },
  {
   "cell_type": "code",
   "execution_count": 10,
   "id": "1354b9af-1804-4bfd-9e07-79d74a5cd8eb",
   "metadata": {},
   "outputs": [],
   "source": [
    "from pathlib import Path"
   ]
  },
  {
   "cell_type": "code",
   "execution_count": 11,
   "id": "efad04d5-f0e9-4e7d-a44e-51186d458bda",
   "metadata": {},
   "outputs": [],
   "source": [
    "path = Path('../results/skill/2020_2023/')"
   ]
  },
  {
   "cell_type": "code",
   "execution_count": 12,
   "id": "083ff17c-d584-498f-bcb6-9700eabc82bf",
   "metadata": {},
   "outputs": [],
   "source": [
    "path_NWP = path / 'NWP/12_60_144_180/window_1/kge_0.5/f0.8/'\n",
    "path_COMB = path / 'combination/12_60_144_180/window_1/kge_0.5/f0.8/'"
   ]
  },
  {
   "cell_type": "code",
   "execution_count": 13,
   "id": "9fe126ac-28d5-4108-a5da-174c9a2239bd",
   "metadata": {},
   "outputs": [],
   "source": [
    "points_NWP = pd.read_parquet(path_NWP / 'reporting_points_over_500km2.parquet')"
   ]
  },
  {
   "cell_type": "code",
   "execution_count": 14,
   "id": "afcf079a-6274-49d9-8992-338eec451a35",
   "metadata": {},
   "outputs": [],
   "source": [
    "points_COMB = pd.read_parquet(path_COMB / 'reporting_points_over_500km2.parquet')"
   ]
  },
  {
   "cell_type": "code",
   "execution_count": 22,
   "id": "2a46fc57-aa9d-4c33-9d81-b14f0e576d9a",
   "metadata": {},
   "outputs": [
    {
     "data": {
      "text/plain": [
       " 0.000000    908\n",
       " 1.000000     25\n",
       " 0.280702      9\n",
       " 0.719298      5\n",
       " 0.561644      5\n",
       "-0.378788      5\n",
       "-0.280702      3\n",
       "-0.233645      3\n",
       " 0.170068      3\n",
       " 0.378788      3\n",
       " 0.164414      2\n",
       " 0.054002      2\n",
       "-0.549451      2\n",
       "-0.085034      1\n",
       "-0.050868      1\n",
       " 0.132275      1\n",
       "-0.187215      1\n",
       " 0.115108      1\n",
       " 0.159413      1\n",
       " 0.071535      1\n",
       "-1.000000      1\n",
       "-0.244062      1\n",
       " 0.064685      1\n",
       " 0.189394      1\n",
       " 0.248299      1\n",
       "-0.081788      1\n",
       " 0.089771      1\n",
       "-0.062668      1\n",
       " 0.219298      1\n",
       "-0.275091      1\n",
       "-0.219298      1\n",
       "-0.005654      1\n",
       "-0.170663      1\n",
       " 0.621212      1\n",
       "-0.132275      1\n",
       " 0.120098      1\n",
       "-0.110215      1\n",
       " 0.233645      1\n",
       " 0.275091      1\n",
       " 0.280342      1\n",
       " 0.145143      1\n",
       " 0.165594      1\n",
       " 0.047057      1\n",
       " 0.157654      1\n",
       " 0.589928      1\n",
       "-0.116667      1\n",
       "-0.089771      1\n",
       "-0.203561      1\n",
       " 0.266355      1\n",
       " 0.836735      1\n",
       "Name: f0.8, dtype: int64"
      ]
     },
     "execution_count": 22,
     "metadata": {},
     "output_type": "execute_result"
    }
   ],
   "source": [
    "(points_COMB[metric] - points_NWP[metric]).value_counts()"
   ]
  },
  {
   "cell_type": "code",
   "execution_count": 21,
   "id": "8174ee36-6e27-472b-b5a2-28501e7257e0",
   "metadata": {},
   "outputs": [
    {
     "data": {
      "text/plain": [
       "<AxesSubplot:xlabel='f0.8', ylabel='Density'>"
      ]
     },
     "execution_count": 21,
     "metadata": {},
     "output_type": "execute_result"
    },
    {
     "data": {
      "image/png": "[encoded data removed]",
      "text/plain": [
       "<Figure size 640x480 with 1 Axes>"
      ]
     },
     "metadata": {},
     "output_type": "display_data"
    }
   ],
   "source": [
    "sns.distplot(points_COMB[metric] - points_NWP[metric]);"
   ]
  },
  {
   "cell_type": "code",
   "execution_count": null,
   "id": "ba505b7b-78d5-44ef-b5c1-fd0d9dc89f85",
   "metadata": {},
   "outputs": [],
   "source": []
  }
 ],
 "metadata": {
  "kernelspec": {
   "display_name": "Python 3 (ipykernel)",
   "language": "python",
   "name": "python3"
  },
  "language_info": {
   "codemirror_mode": {
    "name": "ipython",
    "version": 3
   },
   "file_extension": ".py",
   "mimetype": "text/x-python",
   "name": "python",
   "nbconvert_exporter": "python",
   "pygments_lexer": "ipython3",
   "version": "3.9.13"
  }
 },
 "nbformat": 4,
 "nbformat_minor": 5
}
