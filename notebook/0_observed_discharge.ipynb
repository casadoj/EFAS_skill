{
 "cells": [
  {
   "cell_type": "code",
   "execution_count": 1,
   "id": "298bf3b0-621d-42dd-a650-808bc6f4cd55",
   "metadata": {},
   "outputs": [],
   "source": [
    "import glob\n",
    "import numpy as np\n",
    "import pandas as pd\n",
    "import matplotlib.pyplot as plt\n",
    "from datetime import datetime, timedelta"
   ]
  },
  {
   "cell_type": "markdown",
   "id": "7c47cd87-bf20-406a-95b2-fcd4e744145c",
   "metadata": {},
   "source": [
    "## Observed data "
   ]
  },
  {
   "cell_type": "code",
   "execution_count": 25,
   "id": "690b0236-87aa-48b7-924a-3783a8e73e26",
   "metadata": {},
   "outputs": [
    {
     "data": {
      "text/html": [
       "<div>\n",
       "<style scoped>\n",
       "    .dataframe tbody tr th:only-of-type {\n",
       "        vertical-align: middle;\n",
       "    }\n",
       "\n",
       "    .dataframe tbody tr th {\n",
       "        vertical-align: top;\n",
       "    }\n",
       "\n",
       "    .dataframe thead th {\n",
       "        text-align: right;\n",
       "    }\n",
       "</style>\n",
       "<table border=\"1\" class=\"dataframe\">\n",
       "  <thead>\n",
       "    <tr style=\"text-align: right;\">\n",
       "      <th></th>\n",
       "      <th>name</th>\n",
       "      <th>X</th>\n",
       "      <th>Y</th>\n",
       "      <th>area</th>\n",
       "      <th>subcatchment</th>\n",
       "      <th>river</th>\n",
       "      <th>catchment</th>\n",
       "      <th>country</th>\n",
       "    </tr>\n",
       "    <tr>\n",
       "      <th>id</th>\n",
       "      <th></th>\n",
       "      <th></th>\n",
       "      <th></th>\n",
       "      <th></th>\n",
       "      <th></th>\n",
       "      <th></th>\n",
       "      <th></th>\n",
       "      <th></th>\n",
       "    </tr>\n",
       "  </thead>\n",
       "  <tbody>\n",
       "    <tr>\n",
       "      <th>1</th>\n",
       "      <td>Schwabelweis</td>\n",
       "      <td>4477500.0</td>\n",
       "      <td>2882500.0</td>\n",
       "      <td>35525.0</td>\n",
       "      <td>Danube</td>\n",
       "      <td>Danube</td>\n",
       "      <td>Danube</td>\n",
       "      <td>DE</td>\n",
       "    </tr>\n",
       "    <tr>\n",
       "      <th>2</th>\n",
       "      <td>Hofkirchen</td>\n",
       "      <td>4547500.0</td>\n",
       "      <td>2847500.0</td>\n",
       "      <td>47525.0</td>\n",
       "      <td>Danube</td>\n",
       "      <td>Danube</td>\n",
       "      <td>Danube</td>\n",
       "      <td>DE</td>\n",
       "    </tr>\n",
       "    <tr>\n",
       "      <th>3</th>\n",
       "      <td>Pfelling</td>\n",
       "      <td>4517500.0</td>\n",
       "      <td>2867500.0</td>\n",
       "      <td>37725.0</td>\n",
       "      <td>Danube</td>\n",
       "      <td>Danube</td>\n",
       "      <td>Danube</td>\n",
       "      <td>DE</td>\n",
       "    </tr>\n",
       "    <tr>\n",
       "      <th>4</th>\n",
       "      <td>Barby</td>\n",
       "      <td>4452500.0</td>\n",
       "      <td>3207500.0</td>\n",
       "      <td>93975.0</td>\n",
       "      <td>Elbe, below Saale</td>\n",
       "      <td>Elbe</td>\n",
       "      <td>Elbe</td>\n",
       "      <td>DE</td>\n",
       "    </tr>\n",
       "    <tr>\n",
       "      <th>5</th>\n",
       "      <td>Wittenberg / Lutherstadt</td>\n",
       "      <td>4497500.0</td>\n",
       "      <td>3197500.0</td>\n",
       "      <td>61675.0</td>\n",
       "      <td>Elbe</td>\n",
       "      <td>Elbe</td>\n",
       "      <td>Elbe</td>\n",
       "      <td>DE</td>\n",
       "    </tr>\n",
       "  </tbody>\n",
       "</table>\n",
       "</div>"
      ],
      "text/plain": [
       "                        name          X          Y     area  \\\n",
       "id                                                            \n",
       "1               Schwabelweis  4477500.0  2882500.0  35525.0   \n",
       "2                 Hofkirchen  4547500.0  2847500.0  47525.0   \n",
       "3                   Pfelling  4517500.0  2867500.0  37725.0   \n",
       "4                      Barby  4452500.0  3207500.0  93975.0   \n",
       "5   Wittenberg / Lutherstadt  4497500.0  3197500.0  61675.0   \n",
       "\n",
       "         subcatchment   river catchment country  \n",
       "id                                               \n",
       "1              Danube  Danube    Danube      DE  \n",
       "2              Danube  Danube    Danube      DE  \n",
       "3              Danube  Danube    Danube      DE  \n",
       "4   Elbe, below Saale    Elbe      Elbe      DE  \n",
       "5                Elbe    Elbe      Elbe      DE  "
      ]
     },
     "execution_count": 25,
     "metadata": {},
     "output_type": "execute_result"
    }
   ],
   "source": [
    "stations = pd.read_parquet('../results/reporting_points/reporting_points_over_500km2.parquet')\n",
    "stations = stations[['name', 'X', 'Y', 'area', 'subcatchment', 'river', 'catchment', 'country']]\n",
    "stations.head()"
   ]
  },
  {
   "cell_type": "code",
   "execution_count": 26,
   "id": "9c476cea-0e41-4483-a891-21f9c5aeaffd",
   "metadata": {},
   "outputs": [],
   "source": [
    "stations.to_csv('../results/reporting_points/reporting_points_over_500km2.csv')"
   ]
  },
  {
   "cell_type": "code",
   "execution_count": 2,
   "id": "59a3aadc-f67c-48db-8aae-c733eb61277d",
   "metadata": {},
   "outputs": [],
   "source": [
    "stations = pd.read_csv('../data/discharge/observed/6hourData.csv', index_col='station_id')"
   ]
  },
  {
   "cell_type": "code",
   "execution_count": 3,
   "id": "4f26db1c-8bbf-4336-a70e-76663168016f",
   "metadata": {},
   "outputs": [],
   "source": [
    "data = pd.read_csv('../data/discharge/observed/output-6h-nrt-operational.txt', index_col='Station ID', na_values=[-9999, -999, -99])\n",
    "data.Timestamp = pd.to_datetime(data.Timestamp)"
   ]
  },
  {
   "cell_type": "code",
   "execution_count": 13,
   "id": "de595a4e-81b7-40b8-af7c-24de017204bd",
   "metadata": {},
   "outputs": [
    {
     "name": "stdout",
     "output_type": "stream",
     "text": [
      "46 from 46\r"
     ]
    }
   ],
   "source": [
    "stns = data.index.unique().tolist()\n",
    "stns.sort()\n",
    "dates = pd.date_range(datetime(2018, 1, 1), data.Timestamp.max() + timedelta(hours=1), freq='6h')\n",
    "obs = pd.DataFrame(index=dates, columns=stns, dtype=float)\n",
    "for i, stn in enumerate(stns):\n",
    "    \n",
    "    print(f'{i+1:02d} from {len(stns):02d}', end='\\r')\n",
    "    \n",
    "    aux = data.loc[stn, ['Timestamp', 'AvgValue']]\n",
    "    aux.set_index('Timestamp', drop=True, inplace=True)\n",
    "    aux = aux.loc['2018-01-01':, 'AvgValue']\n",
    "    aux[(aux < 0) | (aux > 10000)] = np.nan\n",
    "    obs.loc[aux.index, stn] = aux.values"
   ]
  },
  {
   "cell_type": "markdown",
   "id": "c311b225-91e2-426d-8ec5-20b2635f40bb",
   "metadata": {},
   "source": [
    "## Reanalysis data"
   ]
  },
  {
   "cell_type": "code",
   "execution_count": 6,
   "id": "01b8345e-1dc5-473f-ba58-b27cde1e889e",
   "metadata": {},
   "outputs": [],
   "source": [
    "def KGE(observado, simulado, sa=1, sb=1, sr=1):\n",
    "    \"\"\"Calcula el coeficiente de eficiencia de Kling-Gupta.\n",
    "    \n",
    "    Parámetros:\n",
    "    -----------\n",
    "    observado:   series. Serie observada\n",
    "    simulado:    series. Serie simulada\n",
    "    sa, sb, sr: integer. Factores de escala de los tres términos del KGE: alpha, beta y coeficiente de correlación, respectivamente\n",
    "    \n",
    "    Salida:\n",
    "    -------\n",
    "    KGE:        float. Eficienica de Kling-Gupta\"\"\"\n",
    "    \n",
    "    # Eliminar pasos sin dato\n",
    "    data = pd.concat((observado, simulado), axis=1)\n",
    "    data.columns = ['obs', 'sim']\n",
    "    data.dropna(axis=0, how='any', inplace=True)\n",
    "    # Para la función si no hay datos\n",
    "    if data.shape[0] == 0:\n",
    "        return\n",
    "\n",
    "    # calcular cada uno de los términos del KGE\n",
    "    alpha = data.sim.std() / data.obs.std()\n",
    "    beta = data.sim.mean() / data.obs.mean()\n",
    "    r = np.corrcoef(data.obs, data.sim)[0, 1]\n",
    "    \n",
    "    # Cacular KGE\n",
    "    ED = np.sqrt((sr * (r - 1))**2 + (sa * (alpha - 1))**2 + (sb * (beta - 1))**2)\n",
    "    KGE = 1 - ED\n",
    "    \n",
    "    return KGE"
   ]
  },
  {
   "cell_type": "code",
   "execution_count": 15,
   "id": "39c3efe3-c1df-4c98-864b-5fa7b732d4c5",
   "metadata": {},
   "outputs": [],
   "source": [
    "rea = pd.DataFrame(dtype=float)\n",
    "files = glob.glob('../data/discharge/reanalysis/*.csv')\n",
    "for file in files:\n",
    "    aux = pd.read_csv(file, parse_dates=True, index_col=0)\n",
    "    aux.columns = aux.columns.astype(int)\n",
    "    rea = pd.concat((rea, aux), axis=0)"
   ]
  },
  {
   "cell_type": "markdown",
   "id": "ca3f8bab-3684-4dd1-a79f-3beb3810167c",
   "metadata": {},
   "source": [
    "## Comparison"
   ]
  },
  {
   "cell_type": "code",
   "execution_count": 8,
   "id": "7a9778cc-a971-4cd7-9e92-6fa7e42d7ec2",
   "metadata": {},
   "outputs": [],
   "source": [
    "# cut series so that they have the same extent\n",
    "start = max(obs.index.min(), rea.index.min())\n",
    "end = min(obs.index.max(), rea.index.max())\n",
    "obs = obs.loc[start:end,:]\n",
    "rea = rea.loc[start:end,:]"
   ]
  },
  {
   "cell_type": "code",
   "execution_count": 9,
   "id": "38a29b54-d4a0-406b-8ac4-94b9a5e083c5",
   "metadata": {},
   "outputs": [],
   "source": [
    "kge = pd.Series(index=stns, dtype=float)\n",
    "for stn in stns:\n",
    "    kge[stn] = KGE(obs[stn], rea[stn])"
   ]
  },
  {
   "cell_type": "code",
   "execution_count": 10,
   "id": "76d83bc4-78b4-4761-aea6-1d8a00fb081e",
   "metadata": {},
   "outputs": [
    {
     "data": {
      "text/plain": [
       "968    -3.436861\n",
       "1281   -0.387989\n",
       "1140    0.208123\n",
       "606     0.216671\n",
       "1076    0.241898\n",
       "1048    0.284587\n",
       "1020    0.287224\n",
       "1082    0.359251\n",
       "136     0.375601\n",
       "1107    0.385396\n",
       "1026    0.415423\n",
       "1036    0.416172\n",
       "1110    0.424264\n",
       "1141    0.471373\n",
       "26      0.487261\n",
       "870     0.489061\n",
       "1040    0.490725\n",
       "1263    0.493988\n",
       "1068    0.518509\n",
       "1083    0.548672\n",
       "1132    0.558133\n",
       "1077    0.580610\n",
       "1088    0.598616\n",
       "1114    0.611008\n",
       "1056    0.619308\n",
       "1037    0.622514\n",
       "1131    0.631329\n",
       "142     0.632886\n",
       "323     0.657919\n",
       "1103    0.658761\n",
       "19      0.668787\n",
       "1119    0.678481\n",
       "1101    0.683321\n",
       "132     0.706199\n",
       "1181    0.727229\n",
       "1086    0.738451\n",
       "1075    0.754684\n",
       "1041    0.756734\n",
       "1099    0.757605\n",
       "1017    0.778312\n",
       "1060    0.805553\n",
       "366     0.806714\n",
       "830     0.821280\n",
       "393     0.853351\n",
       "953     0.889151\n",
       "153     0.897011\n",
       "dtype: float64"
      ]
     },
     "execution_count": 10,
     "metadata": {},
     "output_type": "execute_result"
    }
   ],
   "source": [
    "kge.sort_values()"
   ]
  },
  {
   "cell_type": "code",
   "execution_count": 11,
   "id": "dccfa6d7-59cc-44dc-9c03-1ff685ec5c7c",
   "metadata": {},
   "outputs": [
    {
     "name": "stdout",
     "output_type": "stream",
     "text": [
      "968\n"
     ]
    }
   ],
   "source": [
    "stn = kge.idxmin()\n",
    "print(stn)"
   ]
  },
  {
   "cell_type": "code",
   "execution_count": 12,
   "id": "ae201f3a-f3fe-4116-aa76-01cbe44e2015",
   "metadata": {},
   "outputs": [
    {
     "ename": "KeyError",
     "evalue": "'2996'",
     "output_type": "error",
     "traceback": [
      "\u001b[1;31m---------------------------------------------------------------------------\u001b[0m",
      "\u001b[1;31mKeyError\u001b[0m                                  Traceback (most recent call last)",
      "File \u001b[1;32mC:\\DEV\\Anaconda3\\envs\\xr\\lib\\site-packages\\pandas\\core\\indexes\\base.py:3621\u001b[0m, in \u001b[0;36mIndex.get_loc\u001b[1;34m(self, key, method, tolerance)\u001b[0m\n\u001b[0;32m   3620\u001b[0m \u001b[38;5;28;01mtry\u001b[39;00m:\n\u001b[1;32m-> 3621\u001b[0m     \u001b[38;5;28;01mreturn\u001b[39;00m \u001b[38;5;28;43mself\u001b[39;49m\u001b[38;5;241;43m.\u001b[39;49m\u001b[43m_engine\u001b[49m\u001b[38;5;241;43m.\u001b[39;49m\u001b[43mget_loc\u001b[49m\u001b[43m(\u001b[49m\u001b[43mcasted_key\u001b[49m\u001b[43m)\u001b[49m\n\u001b[0;32m   3622\u001b[0m \u001b[38;5;28;01mexcept\u001b[39;00m \u001b[38;5;167;01mKeyError\u001b[39;00m \u001b[38;5;28;01mas\u001b[39;00m err:\n",
      "File \u001b[1;32mC:\\DEV\\Anaconda3\\envs\\xr\\lib\\site-packages\\pandas\\_libs\\index.pyx:136\u001b[0m, in \u001b[0;36mpandas._libs.index.IndexEngine.get_loc\u001b[1;34m()\u001b[0m\n",
      "File \u001b[1;32mC:\\DEV\\Anaconda3\\envs\\xr\\lib\\site-packages\\pandas\\_libs\\index.pyx:144\u001b[0m, in \u001b[0;36mpandas._libs.index.IndexEngine.get_loc\u001b[1;34m()\u001b[0m\n",
      "File \u001b[1;32mpandas\\_libs\\index_class_helper.pxi:41\u001b[0m, in \u001b[0;36mpandas._libs.index.Int64Engine._check_type\u001b[1;34m()\u001b[0m\n",
      "\u001b[1;31mKeyError\u001b[0m: '2996'",
      "\nThe above exception was the direct cause of the following exception:\n",
      "\u001b[1;31mKeyError\u001b[0m                                  Traceback (most recent call last)",
      "Cell \u001b[1;32mIn [12], line 4\u001b[0m\n\u001b[0;32m      1\u001b[0m stn \u001b[38;5;241m=\u001b[39m \u001b[38;5;124m'\u001b[39m\u001b[38;5;124m2996\u001b[39m\u001b[38;5;124m'\u001b[39m\n\u001b[0;32m      3\u001b[0m fig, ax \u001b[38;5;241m=\u001b[39m plt\u001b[38;5;241m.\u001b[39msubplots(figsize\u001b[38;5;241m=\u001b[39m(\u001b[38;5;241m16\u001b[39m, \u001b[38;5;241m5\u001b[39m))\n\u001b[1;32m----> 4\u001b[0m ax\u001b[38;5;241m.\u001b[39mplot(obs\u001b[38;5;241m.\u001b[39mindex, \u001b[43mobs\u001b[49m\u001b[43m[\u001b[49m\u001b[43mstn\u001b[49m\u001b[43m]\u001b[49m, label\u001b[38;5;241m=\u001b[39m\u001b[38;5;124m'\u001b[39m\u001b[38;5;124mobs\u001b[39m\u001b[38;5;124m'\u001b[39m)\n\u001b[0;32m      5\u001b[0m ax\u001b[38;5;241m.\u001b[39mplot(rea\u001b[38;5;241m.\u001b[39mindex, rea[stn], label\u001b[38;5;241m=\u001b[39m\u001b[38;5;124m'\u001b[39m\u001b[38;5;124msim\u001b[39m\u001b[38;5;124m'\u001b[39m)\n\u001b[0;32m      6\u001b[0m ax\u001b[38;5;241m.\u001b[39mlegend();\n",
      "File \u001b[1;32mC:\\DEV\\Anaconda3\\envs\\xr\\lib\\site-packages\\pandas\\core\\frame.py:3505\u001b[0m, in \u001b[0;36mDataFrame.__getitem__\u001b[1;34m(self, key)\u001b[0m\n\u001b[0;32m   3503\u001b[0m \u001b[38;5;28;01mif\u001b[39;00m \u001b[38;5;28mself\u001b[39m\u001b[38;5;241m.\u001b[39mcolumns\u001b[38;5;241m.\u001b[39mnlevels \u001b[38;5;241m>\u001b[39m \u001b[38;5;241m1\u001b[39m:\n\u001b[0;32m   3504\u001b[0m     \u001b[38;5;28;01mreturn\u001b[39;00m \u001b[38;5;28mself\u001b[39m\u001b[38;5;241m.\u001b[39m_getitem_multilevel(key)\n\u001b[1;32m-> 3505\u001b[0m indexer \u001b[38;5;241m=\u001b[39m \u001b[38;5;28;43mself\u001b[39;49m\u001b[38;5;241;43m.\u001b[39;49m\u001b[43mcolumns\u001b[49m\u001b[38;5;241;43m.\u001b[39;49m\u001b[43mget_loc\u001b[49m\u001b[43m(\u001b[49m\u001b[43mkey\u001b[49m\u001b[43m)\u001b[49m\n\u001b[0;32m   3506\u001b[0m \u001b[38;5;28;01mif\u001b[39;00m is_integer(indexer):\n\u001b[0;32m   3507\u001b[0m     indexer \u001b[38;5;241m=\u001b[39m [indexer]\n",
      "File \u001b[1;32mC:\\DEV\\Anaconda3\\envs\\xr\\lib\\site-packages\\pandas\\core\\indexes\\base.py:3623\u001b[0m, in \u001b[0;36mIndex.get_loc\u001b[1;34m(self, key, method, tolerance)\u001b[0m\n\u001b[0;32m   3621\u001b[0m     \u001b[38;5;28;01mreturn\u001b[39;00m \u001b[38;5;28mself\u001b[39m\u001b[38;5;241m.\u001b[39m_engine\u001b[38;5;241m.\u001b[39mget_loc(casted_key)\n\u001b[0;32m   3622\u001b[0m \u001b[38;5;28;01mexcept\u001b[39;00m \u001b[38;5;167;01mKeyError\u001b[39;00m \u001b[38;5;28;01mas\u001b[39;00m err:\n\u001b[1;32m-> 3623\u001b[0m     \u001b[38;5;28;01mraise\u001b[39;00m \u001b[38;5;167;01mKeyError\u001b[39;00m(key) \u001b[38;5;28;01mfrom\u001b[39;00m \u001b[38;5;21;01merr\u001b[39;00m\n\u001b[0;32m   3624\u001b[0m \u001b[38;5;28;01mexcept\u001b[39;00m \u001b[38;5;167;01mTypeError\u001b[39;00m:\n\u001b[0;32m   3625\u001b[0m     \u001b[38;5;66;03m# If we have a listlike key, _check_indexing_error will raise\u001b[39;00m\n\u001b[0;32m   3626\u001b[0m     \u001b[38;5;66;03m#  InvalidIndexError. Otherwise we fall through and re-raise\u001b[39;00m\n\u001b[0;32m   3627\u001b[0m     \u001b[38;5;66;03m#  the TypeError.\u001b[39;00m\n\u001b[0;32m   3628\u001b[0m     \u001b[38;5;28mself\u001b[39m\u001b[38;5;241m.\u001b[39m_check_indexing_error(key)\n",
      "\u001b[1;31mKeyError\u001b[0m: '2996'"
     ]
    },
    {
     "data": {
      "image/png": "[encoded data removed]",
      "text/plain": [
       "<Figure size 1600x500 with 1 Axes>"
      ]
     },
     "metadata": {},
     "output_type": "display_data"
    }
   ],
   "source": [
    "stn = '2996'\n",
    "\n",
    "fig, ax = plt.subplots(figsize=(16, 5))\n",
    "ax.plot(obs.index, obs[stn], label='obs')\n",
    "ax.plot(rea.index, rea[stn], label='sim')\n",
    "ax.legend();\n",
    "\n",
    "stations.loc[stn]"
   ]
  },
  {
   "cell_type": "code",
   "execution_count": null,
   "id": "5011de7e-2703-4e92-9e8d-ba6af5eba32e",
   "metadata": {},
   "outputs": [],
   "source": [
    "rea.plot(figsize=(16, 5));"
   ]
  },
  {
   "cell_type": "code",
   "execution_count": null,
   "id": "baca1593-0399-485c-99dd-c92b8022e382",
   "metadata": {},
   "outputs": [],
   "source": []
  }
 ],
 "metadata": {
  "kernelspec": {
   "display_name": "Python 3 (ipykernel)",
   "language": "python",
   "name": "python3"
  },
  "language_info": {
   "codemirror_mode": {
    "name": "ipython",
    "version": 3
   },
   "file_extension": ".py",
   "mimetype": "text/x-python",
   "name": "python",
   "nbconvert_exporter": "python",
   "pygments_lexer": "ipython3",
   "version": "3.9.13"
  }
 },
 "nbformat": 4,
 "nbformat_minor": 5
}
