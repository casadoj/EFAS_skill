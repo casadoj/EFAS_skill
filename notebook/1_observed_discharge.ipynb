{
 "cells": [
  {
   "cell_type": "markdown",
   "id": "cdd23ab2-76e4-4848-a89a-598d5bc03b40",
   "metadata": {},
   "source": [
    "# Observed discharge\n",
    "***\n",
    "\n",
    "__Author__: Chus Casado<br>\n",
    "__Date__:   08-06-2022<br>\n",
    "\n",
    "__Introduction__:<br>\n"
   ]
  },
  {
   "cell_type": "code",
   "execution_count": null,
   "id": "298bf3b0-621d-42dd-a650-808bc6f4cd55",
   "metadata": {},
   "outputs": [],
   "source": [
    "import glob\n",
    "import numpy as np\n",
    "import pandas as pd\n",
    "import matplotlib.pyplot as plt\n",
    "from datetime import datetime, timedelta"
   ]
  },
  {
   "cell_type": "code",
   "execution_count": null,
   "id": "551a970f-0e6f-499d-8614-cb91a47c66be",
   "metadata": {},
   "outputs": [],
   "source": [
    "import xarray as xr"
   ]
  },
  {
   "cell_type": "code",
   "execution_count": null,
   "id": "c16536fd-3b9c-4afa-802c-c889d106490b",
   "metadata": {},
   "outputs": [],
   "source": [
    "import os\n",
    "path_root = os.getcwd()"
   ]
  },
  {
   "cell_type": "code",
   "execution_count": null,
   "id": "a249fba1-b366-4f72-b1c0-ede0c54f33e8",
   "metadata": {},
   "outputs": [],
   "source": [
    "os.chdir('../py/')\n",
    "from convert import dict2da\n",
    "os.chdir(path_root)"
   ]
  },
  {
   "cell_type": "markdown",
   "id": "7c47cd87-bf20-406a-95b2-fcd4e744145c",
   "metadata": {},
   "source": [
    "## Observed data "
   ]
  },
  {
   "cell_type": "code",
   "execution_count": null,
   "id": "690b0236-87aa-48b7-924a-3783a8e73e26",
   "metadata": {},
   "outputs": [],
   "source": [
    "stations = pd.read_parquet('../results/reporting_points/reporting_points_over_500km2.parquet')\n",
    "stations = stations[['name', 'X', 'Y', 'area', 'subcatchment', 'river', 'catchment', 'country', 'n_events_obs', 'rl5', 'rl20', 'rl100']]\n",
    "stations.head()"
   ]
  },
  {
   "cell_type": "code",
   "execution_count": null,
   "id": "0db8d881-49ae-40fb-8aaa-1d55adc665a0",
   "metadata": {},
   "outputs": [],
   "source": [
    "stations.loc[stations.catchment == 'Ebro'].sort_values('n_events_obs', ascending=False)"
   ]
  },
  {
   "cell_type": "code",
   "execution_count": null,
   "id": "9c476cea-0e41-4483-a891-21f9c5aeaffd",
   "metadata": {},
   "outputs": [],
   "source": [
    "stations.to_csv('../results/reporting_points/reporting_points_over_500km2.csv')"
   ]
  },
  {
   "cell_type": "code",
   "execution_count": null,
   "id": "59a3aadc-f67c-48db-8aae-c733eb61277d",
   "metadata": {},
   "outputs": [],
   "source": [
    "stations = pd.read_csv('../data/discharge/observed/6hourData.csv', index_col='station_id')"
   ]
  },
  {
   "cell_type": "code",
   "execution_count": null,
   "id": "4f26db1c-8bbf-4336-a70e-76663168016f",
   "metadata": {},
   "outputs": [],
   "source": [
    "data = pd.read_csv('../data/discharge/observed/output-6h-nrt-operational.txt', index_col='Station ID', na_values=[-9999, -999, -99])\n",
    "data.Timestamp = pd.to_datetime(data.Timestamp)"
   ]
  },
  {
   "cell_type": "code",
   "execution_count": null,
   "id": "de595a4e-81b7-40b8-af7c-24de017204bd",
   "metadata": {},
   "outputs": [],
   "source": [
    "stns = data.index.unique().tolist()\n",
    "stns.sort()\n",
    "dates = pd.date_range(datetime(2018, 1, 1), data.Timestamp.max() + timedelta(hours=1), freq='6h')\n",
    "obs = pd.DataFrame(index=dates, columns=stns, dtype=float)\n",
    "for i, stn in enumerate(stns):\n",
    "    \n",
    "    print(f'{i+1:02d} from {len(stns):02d}', end='\\r')\n",
    "    \n",
    "    aux = data.loc[stn, ['Timestamp', 'AvgValue']]\n",
    "    aux.set_index('Timestamp', drop=True, inplace=True)\n",
    "    aux = aux.loc['2018-01-01':, 'AvgValue']\n",
    "    aux[(aux < 0) | (aux > 10000)] = np.nan\n",
    "    obs.loc[aux.index, stn] = aux.values"
   ]
  },
  {
   "cell_type": "markdown",
   "id": "c311b225-91e2-426d-8ec5-20b2635f40bb",
   "metadata": {},
   "source": [
    "## Reanalysis data"
   ]
  },
  {
   "cell_type": "code",
   "execution_count": null,
   "id": "01b8345e-1dc5-473f-ba58-b27cde1e889e",
   "metadata": {},
   "outputs": [],
   "source": [
    "def KGE(observado, simulado, sa=1, sb=1, sr=1):\n",
    "    \"\"\"Calcula el coeficiente de eficiencia de Kling-Gupta.\n",
    "    \n",
    "    Parámetros:\n",
    "    -----------\n",
    "    observado:   series. Serie observada\n",
    "    simulado:    series. Serie simulada\n",
    "    sa, sb, sr: integer. Factores de escala de los tres términos del KGE: alpha, beta y coeficiente de correlación, respectivamente\n",
    "    \n",
    "    Salida:\n",
    "    -------\n",
    "    KGE:        float. Eficienica de Kling-Gupta\"\"\"\n",
    "    \n",
    "    # Eliminar pasos sin dato\n",
    "    data = pd.concat((observado, simulado), axis=1)\n",
    "    data.columns = ['obs', 'sim']\n",
    "    data.dropna(axis=0, how='any', inplace=True)\n",
    "    # Para la función si no hay datos\n",
    "    if data.shape[0] == 0:\n",
    "        return\n",
    "\n",
    "    # calcular cada uno de los términos del KGE\n",
    "    alpha = data.sim.std() / data.obs.std()\n",
    "    beta = data.sim.mean() / data.obs.mean()\n",
    "    r = np.corrcoef(data.obs, data.sim)[0, 1]\n",
    "    \n",
    "    # Cacular KGE\n",
    "    ED = np.sqrt((sr * (r - 1))**2 + (sa * (alpha - 1))**2 + (sb * (beta - 1))**2)\n",
    "    KGE = 1 - ED\n",
    "    \n",
    "    return KGE"
   ]
  },
  {
   "cell_type": "code",
   "execution_count": null,
   "id": "39c3efe3-c1df-4c98-864b-5fa7b732d4c5",
   "metadata": {},
   "outputs": [],
   "source": [
    "rea = pd.DataFrame(dtype=float)\n",
    "files = glob.glob('../data/discharge/reanalysis/*.csv')\n",
    "for file in files:\n",
    "    aux = pd.read_csv(file, parse_dates=True, index_col=0)\n",
    "    aux.columns = aux.columns.astype(int)\n",
    "    rea = pd.concat((rea, aux), axis=0)"
   ]
  },
  {
   "cell_type": "markdown",
   "id": "ca3f8bab-3684-4dd1-a79f-3beb3810167c",
   "metadata": {},
   "source": [
    "## Comparison"
   ]
  },
  {
   "cell_type": "code",
   "execution_count": null,
   "id": "7a9778cc-a971-4cd7-9e92-6fa7e42d7ec2",
   "metadata": {},
   "outputs": [],
   "source": [
    "# cut series so that they have the same extent\n",
    "start = max(obs.index.min(), rea.index.min())\n",
    "end = min(obs.index.max(), rea.index.max())\n",
    "obs = obs.loc[start:end,:]\n",
    "rea = rea.loc[start:end,:]"
   ]
  },
  {
   "cell_type": "code",
   "execution_count": null,
   "id": "38a29b54-d4a0-406b-8ac4-94b9a5e083c5",
   "metadata": {},
   "outputs": [],
   "source": [
    "kge = pd.Series(index=stns, dtype=float)\n",
    "for stn in stns:\n",
    "    kge[stn] = KGE(obs[stn], rea[stn])"
   ]
  },
  {
   "cell_type": "code",
   "execution_count": null,
   "id": "76d83bc4-78b4-4761-aea6-1d8a00fb081e",
   "metadata": {},
   "outputs": [],
   "source": [
    "kge.sort_values()"
   ]
  },
  {
   "cell_type": "code",
   "execution_count": null,
   "id": "dccfa6d7-59cc-44dc-9c03-1ff685ec5c7c",
   "metadata": {},
   "outputs": [],
   "source": [
    "stn = kge.idxmin()\n",
    "print(stn)"
   ]
  },
  {
   "cell_type": "code",
   "execution_count": null,
   "id": "ae201f3a-f3fe-4116-aa76-01cbe44e2015",
   "metadata": {},
   "outputs": [],
   "source": [
    "stn = '2996'\n",
    "\n",
    "fig, ax = plt.subplots(figsize=(16, 5))\n",
    "ax.plot(obs.index, obs[stn], label='obs')\n",
    "ax.plot(rea.index, rea[stn], label='sim')\n",
    "ax.legend();\n",
    "\n",
    "stations.loc[stn]"
   ]
  },
  {
   "cell_type": "code",
   "execution_count": null,
   "id": "5011de7e-2703-4e92-9e8d-ba6af5eba32e",
   "metadata": {},
   "outputs": [],
   "source": [
    "rea.plot(figsize=(16, 5));"
   ]
  },
  {
   "cell_type": "markdown",
   "id": "2e00aaa8-b9da-4323-b946-550299ec8eb1",
   "metadata": {},
   "source": [
    "***\n",
    "\n",
    "Analyse the availability of data in the Hydro Database.\n",
    "\n",
    "**Historical**"
   ]
  },
  {
   "cell_type": "code",
   "execution_count": null,
   "id": "c8ef3f14-e34c-4c84-aa56-850980c9aa2d",
   "metadata": {},
   "outputs": [],
   "source": [
    "historic_operational = pd.read_excel('../data/discharge/observed/DB/OP_hdata_ranges_EHDCC_8029.xlsx', sheet_name='6h', header=0, index_col=0)\n",
    "historic = pd.read_csv('../data/discharge/observed/DB/hdata_ranges_EHDCC_8029_202305151428_EFAS3_Hydro_ro.csv', sep=';', parse_dates=True, index_col='ID')\n",
    "\n",
    "print('no. points with historic operational data:\\t{0}'.format(historic_operational.shape[0]))\n",
    "print('no. points with historic data:\\t\\t\\t{0}'.format(historic.shape[0]))"
   ]
  },
  {
   "cell_type": "markdown",
   "id": "f398692c-bd71-4e93-b44c-6f813fbeb3d8",
   "metadata": {},
   "source": [
    "**Real time**"
   ]
  },
  {
   "cell_type": "code",
   "execution_count": null,
   "id": "0fa9a591-a002-4a30-8c0b-c6ecd760e430",
   "metadata": {},
   "outputs": [],
   "source": [
    "real_time_operational = pd.read_excel('../data/discharge/observed/DB/OP_rtdata_ranges_EHDCC_8029.xlsx', sheet_name='6h', header=0, index_col=0)\n",
    "real_time = pd.read_csv('../data/discharge/observed/DB/rtdata_ranges_EHDCC_8029_202305151623_EFAS3_Hydro_ro.csv', sep=';', parse_dates=True, index_col='ID')\n",
    "\n",
    "print('no. points with real time operational data:\\t{0}'.format(real_time_operational.shape[0]))\n",
    "print('no. points with real time data:\\t\\t\\t{0}'.format(real_time.shape[0]))"
   ]
  },
  {
   "cell_type": "code",
   "execution_count": null,
   "id": "bf4bb849-bfc5-43a0-98b8-ee60ec5973d2",
   "metadata": {},
   "outputs": [],
   "source": [
    "print('no. stations in both historic and real time data:', len(set(historic.index).intersection(real_time.index)))\n",
    "print('no. stations in both historic operational and real time data operational:', len(set(historic_operational.index).intersection(real_time_operational.index)))"
   ]
  },
  {
   "cell_type": "code",
   "execution_count": null,
   "id": "42546507-c9a1-49da-a2bb-fc2d8eb3e54e",
   "metadata": {},
   "outputs": [],
   "source": [
    "stns = [2996,\n",
    " 1569,\n",
    " 1469,\n",
    " 1454,\n",
    " 1688,\n",
    " 1572,\n",
    " 4292,\n",
    " 2390,\n",
    " 2275,\n",
    " 2999,\n",
    " 4324,\n",
    " 2388,\n",
    " 4001,\n",
    " 1573,\n",
    " 2951,\n",
    " 3018,\n",
    " 2707,\n",
    " 1680,\n",
    " 3166,\n",
    " 1580,\n",
    " 4627,\n",
    " 310,\n",
    " 4174,\n",
    " 187,\n",
    " 223,\n",
    " 1568,\n",
    " 2701,\n",
    " 1194,\n",
    " 3017,\n",
    " 4114,\n",
    " 2997,\n",
    " 4490,\n",
    " 4015,\n",
    " 4500,\n",
    " 4013,\n",
    " 4504,\n",
    " 4578,\n",
    " 2685,\n",
    " 119,\n",
    " 2596,\n",
    " 2428,\n",
    " 166,\n",
    " 167,\n",
    " 195,\n",
    " 247,\n",
    " 578,\n",
    " 581,\n",
    " 954,\n",
    " 1410,\n",
    " 1411,\n",
    " 1529,\n",
    " 1652,\n",
    " 1653,\n",
    " 1737,\n",
    " 1738,\n",
    " 2016,\n",
    " 165,\n",
    " 2149,\n",
    " 2341,\n",
    " 2373,\n",
    " 2148]"
   ]
  },
  {
   "cell_type": "code",
   "execution_count": null,
   "id": "57134289-a252-40e2-9b09-8aba3b0c068c",
   "metadata": {},
   "outputs": [],
   "source": [
    "for stn in stns:\n",
    "    if stn in historic.index:\n",
    "        print(stn, 'historic', *historic.loc[stn, ['start', 'end']], sep='\\t')\n",
    "    if stn in historic_operational.index:\n",
    "        print(stn, 'historic op.', *historic_operational.loc[stn, ['start', 'end']], sep='\\t')\n",
    "    if stn in real_time.index:\n",
    "        print(stn, 'real time', *real_time.loc[stn, ['start', 'end']], sep='\\t')\n",
    "    if stn in real_time_operational.index:\n",
    "        print(stn, 'real time op.', *real_time_operational.loc[stn, ['start', 'end']], sep='\\t')\n",
    "    print()"
   ]
  },
  {
   "cell_type": "code",
   "execution_count": null,
   "id": "549d8859-b66e-4f36-b046-591dc634616b",
   "metadata": {
    "tags": []
   },
   "outputs": [],
   "source": [
    "path_hist_op = '../data/discharge/observed/historic_operational/'\n",
    "files_obs = glob.glob(f'{path_hist_op}*.csv')\n",
    "stns = [int(file.split('\\\\')[-1].split('_')[0]) for file in files_obs]\n",
    "\n",
    "Qobs = pd.DataFrame(index=pd.date_range(datetime(2020, 1, 1), datetime(2023, 1, 1), freq='6h'),\n",
    "                    columns=stns,\n",
    "                    dtype=float)\n",
    "for file, stn in zip(files_obs, stns):\n",
    "    raw = pd.read_csv(file, parse_dates=True, index_col=0)\n",
    "    raw.drop_duplicates(keep='first', inplace=True)\n",
    "    raw = raw.loc[raw.Variable == 'D', 'Value']\n",
    "    Qobs.loc[raw.index, stn] = raw\n",
    "    \n",
    "Qobs = Qobs.loc[Qobs.first_valid_index():Qobs.last_valid_index()]\n",
    "print(Qobs.shape)\n",
    "Qobs.head()"
   ]
  },
  {
   "cell_type": "markdown",
   "id": "699d1d89-074e-4629-9b4f-64fee353893c",
   "metadata": {},
   "source": [
    "<font color='red'>**Negative discharge!!!**</font>"
   ]
  },
  {
   "cell_type": "code",
   "execution_count": null,
   "id": "f2de4a7a-5d28-4e9d-9762-5b20bb0d0a57",
   "metadata": {},
   "outputs": [],
   "source": [
    "path_rean = '../data/discharge/reanalysis/'"
   ]
  },
  {
   "cell_type": "code",
   "execution_count": null,
   "id": "6414f665-34a8-4f1f-9ea6-ff5a4ab1ee50",
   "metadata": {},
   "outputs": [],
   "source": [
    "xr.open_dataarray(f'{path_rean}{954:04}.nc')"
   ]
  },
  {
   "cell_type": "code",
   "execution_count": null,
   "id": "632a829b-e596-4377-9bc2-12471eb25280",
   "metadata": {},
   "outputs": [],
   "source": [
    "Qrean = dict2da({stn: xr.open_dataarray(f'{path_rean}{stn:04}.nc') for stn in Qobs.columns}, dim='id').transpose()\n",
    "Qrean = Qrean.sel(datetime=slice(Qobs.index.min(), Qobs.index.max()))\n",
    "Qrean = Qrean.to_pandas()"
   ]
  },
  {
   "cell_type": "code",
   "execution_count": null,
   "id": "c287c9cf-ee54-475d-bc84-d23dd423306d",
   "metadata": {},
   "outputs": [],
   "source": [
    "lw = .7\n",
    "alpha = .1\n",
    "\n",
    "fig, axes = plt.subplots(nrows=len(stns), figsize=(16, 3 * len(stns)), sharex=True)\n",
    "\n",
    "start, end = Qobs.index.min(), Qobs.index.max()\n",
    "\n",
    "for ax, stn in zip(axes, stns):\n",
    "    ax.plot(Qobs[stn], c='dimgray', lw=lw, label='observed')\n",
    "    ax.plot(Qrean[stn], c='steelblue', lw=lw, label='reanalysis')\n",
    "    ax.fill_between([start, end], *stations.loc[stn, ['rl5', 'rl20']], alpha=alpha, color='red', edgecolor=None)\n",
    "    ax.fill_between([start, end], *stations.loc[stn, ['rl20', 'rl100']], alpha=alpha, color='purple', edgecolor=None)\n",
    "    ax.set_title('{0} - River {1} ({2})'.format(stn, *stations.loc[stn, ['river', 'catchment']]))\n",
    "    ax.set_ylabel('discharge (m3/s)')\n",
    "    kge = KGE(Qobs[stn], Qrean[stn])\n",
    "    ax.text(.005, .92, f'KGE = {kge:.2f}', transform=ax.transAxes)\n",
    "ax.set_xlim(start, end);"
   ]
  },
  {
   "cell_type": "code",
   "execution_count": null,
   "id": "02b96b85-8c6e-4f38-aa5b-d639030c3331",
   "metadata": {},
   "outputs": [],
   "source": []
  }
 ],
 "metadata": {
  "kernelspec": {
   "display_name": "Python 3 (ipykernel)",
   "language": "python",
   "name": "python3"
  },
  "language_info": {
   "codemirror_mode": {
    "name": "ipython",
    "version": 3
   },
   "file_extension": ".py",
   "mimetype": "text/x-python",
   "name": "python",
   "nbconvert_exporter": "python",
   "pygments_lexer": "ipython3",
   "version": "3.9.13"
  }
 },
 "nbformat": 4,
 "nbformat_minor": 5
}
