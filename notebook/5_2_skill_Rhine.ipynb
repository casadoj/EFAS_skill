{
 "cells": [
  {
   "cell_type": "markdown",
   "id": "5fd5f453-13c1-47c1-ad27-8af80b47ee08",
   "metadata": {},
   "source": [
    "# Forecast\n",
    "***\n",
    "\n",
    "**Author**: Chus Casado<br>\n",
    "**Date**: 20-01-2023<br>\n",
    "\n",
    "**Introduction**:<br>\n",
    "\n",
    "\n",
    "**Questions**:<br>\n",
    "\n",
    "\n",
    "**Tasks to do**:<br>\n",
    "\n",
    "\n",
    "**Interesting links**<br>\n",
    "[Pythonic way to perform statistics across multiple variables with Xarray](https://towardsdatascience.com/pythonic-way-to-perform-statistics-across-multiple-variables-with-xarray-d0221c78e34a)"
   ]
  },
  {
   "cell_type": "code",
   "execution_count": 1,
   "id": "a4ee7a0f-f62b-4a8b-8147-c46a2e2471ae",
   "metadata": {},
   "outputs": [],
   "source": [
    "import os\n",
    "import glob\n",
    "import numpy as np\n",
    "import pandas as pd\n",
    "import xarray as xr\n",
    "import matplotlib.pyplot as plt\n",
    "import matplotlib.gridspec as gridspec\n",
    "import cartopy.crs as ccrs\n",
    "import cartopy.feature as cf\n",
    "from datetime import datetime, timedelta\n",
    "import seaborn as sns\n",
    "from sklearn.metrics import f1_score, recall_score, precision_score, confusion_matrix\n",
    "\n",
    "path_root = os.getcwd()\n",
    "path_forecast = '../data/CDS/forecast/'\n",
    "\n",
    "import warnings\n",
    "warnings.filterwarnings(\"ignore\")\n",
    "\n",
    "os.environ['USE_PYGEOS'] = '0'\n",
    "import geopandas as gpd\n",
    "\n",
    "os.chdir('../py/')\n",
    "from notifications import *\n",
    "os.chdir(path_root)"
   ]
  },
  {
   "cell_type": "markdown",
   "id": "b9ca1667-e5d2-45fb-83a1-647f9c9c4e7a",
   "metadata": {},
   "source": [
    "# 1 Data"
   ]
  },
  {
   "cell_type": "code",
   "execution_count": 2,
   "id": "6f59d008-a915-4cdb-90e1-48ddd1bcb6da",
   "metadata": {},
   "outputs": [],
   "source": [
    "catchment = 'Rhine'\n",
    "\n",
    "# shapefile with rivers\n",
    "rivers = gpd.read_file(f'../data/GIS/rivers_{catchment}.shp')"
   ]
  },
  {
   "cell_type": "markdown",
   "id": "3b284a86-2d64-4907-a259-e3c67b6de2d5",
   "metadata": {},
   "source": [
    "### 1.1 Stations "
   ]
  },
  {
   "cell_type": "code",
   "execution_count": 394,
   "id": "1ad2ba6a-e095-4c1c-8f2c-3738dee497be",
   "metadata": {},
   "outputs": [
    {
     "name": "stdout",
     "output_type": "stream",
     "text": [
      "no. stations:\t44\n"
     ]
    }
   ],
   "source": [
    "# load selected points\n",
    "stations = pd.read_csv(f'results/{catchment}/points_selected.csv', index_col='station_id')\n",
    "n_stations = stations.shape[0]\n",
    "print('no. stations:\\t{0}'.format(n_stations))\n",
    "\n",
    "# add columns where skill will be saved\n",
    "new_cols = [f'f1_{model}' for model in ['current', 'model_mean', 'grand_ensemble']]\n",
    "stations[new_cols] = np.nan"
   ]
  },
  {
   "cell_type": "markdown",
   "id": "20c23cc9-47d1-45a9-9387-66788d90aed1",
   "metadata": {},
   "source": [
    "### 1.2 Exceedance reanalysis"
   ]
  },
  {
   "cell_type": "code",
   "execution_count": 13,
   "id": "9cd238e0-6e93-4dbd-98dc-af76011a2228",
   "metadata": {},
   "outputs": [],
   "source": [
    "# load events\n",
    "path_reanalysis = '../data/exceedance/reanalysis/'\n",
    "rean_events = pd.read_parquet(f'{path_reanalysis}/events_rl5.parquet')\n",
    "rean_events.columns = rean_events.columns.astype(int)\n",
    "rean_events = rean_events[stations.index.tolist()]"
   ]
  },
  {
   "cell_type": "markdown",
   "id": "ccda4dbe-2b16-46fd-b057-6d7dd431fae8",
   "metadata": {},
   "source": [
    "### 1.3 Exceedance forecast"
   ]
  },
  {
   "cell_type": "code",
   "execution_count": 62,
   "id": "6c536ab4-b79b-46f3-86ea-dea512bbbb5f",
   "metadata": {},
   "outputs": [],
   "source": [
    "# probability threshold\n",
    "p_thr = .3"
   ]
  },
  {
   "cell_type": "code",
   "execution_count": 42,
   "id": "e5f8870a-1354-474e-a119-0dc9876ed3dd",
   "metadata": {},
   "outputs": [],
   "source": [
    "# models\n",
    "models = {'COS': {'members': 20, 'leadtimes': 23},\n",
    "          'DWD': {'members': 1, 'leadtimes': 29},\n",
    "          'EUD': {'members': 1, 'leadtimes': 41},\n",
    "          'EUE': {'members': 51, 'leadtimes': 41},}"
   ]
  },
  {
   "cell_type": "code",
   "execution_count": 38,
   "id": "bf58032a-a82c-41db-9a48-f86a3dc0a242",
   "metadata": {},
   "outputs": [],
   "source": [
    "# load exceedance data\n",
    "path_forecast = '../data/exceedance/forecast/'\n",
    "\n",
    "fore_exc = {}\n",
    "for stn in stations.index:\n",
    "    fore_exc[stn] = xr.open_dataarray(f'{path_forecast}{stn:04d}.nc')\n",
    "\n",
    "# convert into a Dataset\n",
    "stn = stations.index[0]\n",
    "fore_exc = xr.Dataset(fore_exc, coords={'model': fore_exc[stn].model, 'forecast': fore_exc[stn].forecast, 'leadtime': fore_exc[stn].leadtime})\n",
    "\n",
    "# convert the dataset into a DataArray in which models is a dimension instead of different variables\n",
    "# da_list = [ds[stn].expand_dims('id', axis=0).assign_coords(id=[stn]).rename('exceedance') for stn in stations.index]\n",
    "# da = xr.merge(da_list)['exceedance']"
   ]
  },
  {
   "cell_type": "code",
   "execution_count": 43,
   "id": "56b14c06-ce43-4cda-8ba9-d3aab511f223",
   "metadata": {},
   "outputs": [],
   "source": [
    "# DataArray with weights for each model and leadtime\n",
    "# max_leadtimes = max([models[model]['leadtimes'] for model in models])\n",
    "weights = np.zeros((len(fore_exc.model), len(fore_exc.leadtime)))\n",
    "for i, (key, value) in enumerate(models.items()):\n",
    "    leadtimes = value['leadtimes']\n",
    "    members = value['members']\n",
    "    weights[i,:leadtimes] = members\n",
    "weights = xr.DataArray(weights, coords={'model': list(models), 'leadtime': fore_exc.leadtime})"
   ]
  },
  {
   "cell_type": "markdown",
   "id": "a2c9a1f0-2e0d-475a-9b19-cc35c9ff5b6b",
   "metadata": {},
   "source": [
    "## 2 Prediction skill"
   ]
  },
  {
   "cell_type": "code",
   "execution_count": 685,
   "id": "f8d42ecc-f04a-471f-8041-bc5f5779627f",
   "metadata": {},
   "outputs": [],
   "source": [
    "# probability thresholds\n",
    "probabilities = np.arange(0.05, .51, .05).round(2)"
   ]
  },
  {
   "cell_type": "code",
   "execution_count": 747,
   "id": "8f79a2f4-f76e-48af-98af-8bcb9b334012",
   "metadata": {},
   "outputs": [
    {
     "name": "stdout",
     "output_type": "stream",
     "text": [
      "Station 2203 (  44 of   44)\r"
     ]
    }
   ],
   "source": [
    "obs_events = {}\n",
    "pred_events = {}\n",
    "\n",
    "for i, stn in enumerate(stations.index):  \n",
    "    \n",
    "    print(f'Station {stn:>4d} ({i+1:>4d} of {n_stations:>4d})', end='\\r')\n",
    "\n",
    "    # OBSERVED EVENTS\n",
    "    # ...............\n",
    "    \n",
    "    # find events\n",
    "    mask = rean_events[stn]\n",
    "    events = rean_events.index[mask].tolist()\n",
    "    # create DataArray of the occurrence of events\n",
    "    obs_events[stn] = dataarray_events(events, fore_exc.forecast, fore_exc.leadtime)\n",
    "    \n",
    "    # COMPUTE MODEL COMBINATIONS\n",
    "    # ..........................\n",
    "\n",
    "    # mean across equally-weighted models\n",
    "    model_mean = fore_exc[stn].mean('model')\n",
    "    model_mean = model_mean.expand_dims('model', axis=0).assign_coords(model=['model_mean']).rename(stn)\n",
    "\n",
    "    # weighted-mean across models\n",
    "    weighted_mean = fore_exc[stn].weighted(weights).mean('model')\n",
    "    weighted_mean = weighted_mean.expand_dims('model', axis=0).assign_coords(model=['weighted_mean']).rename(stn)\n",
    "\n",
    "    # join all exceedance DataArrays\n",
    "    exceedance = xr.merge([fore_exc[stn], model_mean, weighted_mean])[stn]\n",
    "\n",
    "    pred_events_stn = xr.DataArray(dims=['model', 'forecast', 'leadtime', 'probability'],\n",
    "                                   coords={'model': ['current', 'model_mean', 'weighted_mean'],\n",
    "                                         'forecast': exceedance.forecast,\n",
    "                                         'leadtime': exceedance.leadtime,\n",
    "                                         'probability': probabilities})\n",
    "    \n",
    "    for j, p in enumerate(probabilities):\n",
    "        \n",
    "        # TIMSTEPS AT WHICH CRITERIA IS MET\n",
    "        # .................................\n",
    "        \n",
    "        # dataset where all criteria will ve saved\n",
    "        criteria = xr.Dataset(coords={'forecast': exceedance.forecast,\n",
    "                                      'leadtime': exceedance.leadtime})\n",
    "\n",
    "        # boolean auxiliary Dataset of exceedance over threshold\n",
    "        aux = exceedance > p\n",
    "\n",
    "        # find where the deterministic criteria was fulfilled\n",
    "        deterministic = aux.sel(model=['DWD', 'EUD']).sum('model')\n",
    "        # find where the probabilistic criteria was fulfilled\n",
    "        probabilistic = aux.sel(model=['COS', 'EUE']).sum('model')\n",
    "        # find where both the deterministic and the probabilistic criteria was fulfilled\n",
    "        criteria['current'] = ((deterministic >= 1) & (probabilistic >= 1))\n",
    "        # find where the combinations of models exceeds the probability threshold \n",
    "        for model in ['model_mean', 'weighted_mean']:\n",
    "            criteria[model] = aux.sel(model=model)\n",
    "        # remove variable model\n",
    "        criteria = criteria.drop_vars('model')\n",
    "\n",
    "        # FORECAST EVENTS\n",
    "        # ...............\n",
    "\n",
    "        # compute the onset of the events\n",
    "        steps = criteria.astype(int).diff('leadtime') == 1\n",
    "        step0 = criteria.isel(leadtime=0)\n",
    "        onsets = xr.concat((step0, steps), 'leadtime')\n",
    "        da_list = [onsets[model].expand_dims('model', axis=0).assign_coords(model=[model]).rename('event') for model in list(onsets)]\n",
    "        onsets = xr.merge(da_list)['event']\n",
    "\n",
    "        pred_events_stn.loc[dict(probability=p)] = onsets\n",
    "        \n",
    "    pred_events[stn] = pred_events_stn\n",
    "\n",
    "obs_events = xr.Dataset(obs_events)\n",
    "pred_events = xr.Dataset(pred_events)"
   ]
  },
  {
   "cell_type": "markdown",
   "id": "f624936a-4b34-49a1-af94-0205e485ecbe",
   "metadata": {},
   "source": [
    "### 2.1 Regardless leadtime"
   ]
  },
  {
   "cell_type": "code",
   "execution_count": 795,
   "id": "9473f3ff-0598-4de9-a355-801b6eafc649",
   "metadata": {},
   "outputs": [
    {
     "name": "stdout",
     "output_type": "stream",
     "text": [
      "Station 2203 (  44 of   44)\r"
     ]
    }
   ],
   "source": [
    "# number of timesteps surrounding the actual event\n",
    "windows = np.arange(0, 5).astype(int)\n",
    "\n",
    "# Dataset where results will be saved\n",
    "results = xr.Dataset(coords={'model': ['current', 'model_mean', 'weighted_mean'],\n",
    "                             'probability': probabilities,\n",
    "                             'window': windows})\n",
    "\n",
    "for i, stn in enumerate(stations.index):  \n",
    "    \n",
    "    print(f'Station {stn:>4d} ({i+1:>4d} of {n_stations:>4d})', end='\\r')\n",
    "    \n",
    "    # array where station results will be saved temporarily\n",
    "    results_station = np.zeros((len(results.model), len(results.probability), len(results.window))) * np.nan\n",
    "    \n",
    "    for j, p in enumerate(probabilities):\n",
    "        \n",
    "        # PERFORMANCE\n",
    "        # -----------\n",
    "        for k, w in enumerate(windows):\n",
    "            # compute f1 score and add values to the station table\n",
    "            obs = obs_events[stn]\n",
    "            pred = pred_events[stn].sel(probability=p).to_dataset(dim='model').drop_vars('probability')\n",
    "            f1 = compute_f1(obs, pred, window=w)\n",
    "            results_station[:, j, k] = f1.max(axis=1).values\n",
    "    \n",
    "    results[stn] = xr.DataArray(results_station, coords=results.coords)\n",
    "\n",
    "# merge all variables in a new dimension\n",
    "da_list = [results[stn].expand_dims('id', axis=0).assign_coords(id=[stn]).rename('f1') for stn in list(results)]\n",
    "results = xr.merge(da_list)['f1']"
   ]
  },
  {
   "cell_type": "markdown",
   "id": "056207c7-3f01-4f7e-a002-84a313b53054",
   "metadata": {},
   "source": [
    "Revise this procedure (inclunding function `compute_f1`) to avoid the `for` loop along the probabilities."
   ]
  },
  {
   "cell_type": "code",
   "execution_count": 833,
   "id": "cf346ebc-652d-494d-af57-a500a6d0192e",
   "metadata": {},
   "outputs": [
    {
     "data": {
      "image/png": "[encoded data removed]",
      "text/plain": [
       "<Figure size 700x1000 with 6 Axes>"
      ]
     },
     "metadata": {},
     "output_type": "display_data"
    }
   ],
   "source": [
    "nrows = len(results.model)\n",
    "fig, axes = plt.subplots(nrows=nrows, figsize=(7, 10), sharex=True, sharey=True)\n",
    "\n",
    "results_mean = results.mean('id')\n",
    "vmax = np.ceil(results_mean.max() / .05) * .05\n",
    "for i, (ax, model) in enumerate(zip(axes, results.model.data)):\n",
    "\n",
    "    da = results_mean.sel(model=model).transpose()\n",
    "    sns.heatmap(da, mask=da == 0, cmap='Blues', vmin=0, vmax=vmax, ax=ax,\n",
    "                cbar_kws={'label': 'f1 (-)', 'shrink': .66})\n",
    "    \n",
    "    if i + 1 == nrows:\n",
    "        ax.set_xlabel('probability (-)')\n",
    "    ax.set_xticklabels(results.probability.data)\n",
    "    ax.set_yticklabels([x * 6 for x in results.window.data])\n",
    "    ax.set_ylabel('window (h)')\n",
    "    \n",
    "    ax.set_title(model)"
   ]
  },
  {
   "cell_type": "markdown",
   "id": "39928d67-c95f-4e4c-ad88-c8f696bb313a",
   "metadata": {},
   "source": [
    "* The graph above shows that the mean performance is poor when leadtime is disregarded. \n",
    "* The performance is extremely poor when predicting the exact timestep of the onset of the flood; this performace improves monotonically as we increase the time window accepted as a correct prediction. \n",
    "* Regarding the probability threshold, the highest performance depends on the model, but it is always lower than the current value of 30 %. It is around 10 and 15 %."
   ]
  },
  {
   "cell_type": "markdown",
   "id": "afa657e0-80d9-464e-bd1a-e5e71102e472",
   "metadata": {},
   "source": [
    "### 2.2 Daily resampled"
   ]
  },
  {
   "cell_type": "code",
   "execution_count": 824,
   "id": "56cd2f08-75ba-4d97-bdd4-2e94a63bf811",
   "metadata": {},
   "outputs": [
    {
     "name": "stdout",
     "output_type": "stream",
     "text": [
      "Station 2203 (  44 of   44)\r"
     ]
    }
   ],
   "source": [
    "# resample data daily\n",
    "resample_dict = {'leadtime': 'd'}\n",
    "obs_events_d = obs_events.resample(resample_dict).any()\n",
    "pred_events_d = pred_events.resample(resample_dict).any()\n",
    "\n",
    "# Dataset where results will be saved\n",
    "results_d = xr.Dataset(coords={'model': ['current', 'model_mean', 'weighted_mean'],\n",
    "                               'probability': probabilities,\n",
    "                               'leadtime': obs_events_d.leadtime})\n",
    "\n",
    "for i, stn in enumerate(stations.index):  \n",
    "    \n",
    "    print(f'Station {stn:>4d} ({i+1:>4d} of {n_stations:>4d})', end='\\r')\n",
    "    \n",
    "    # array where station results will be saved temporarily\n",
    "    results_station = np.zeros((len(results_d.model), len(results_d.probability), len(results_d.leadtime))) * np.nan\n",
    "    \n",
    "    for j, p in enumerate(probabilities):\n",
    "        \n",
    "        # PERFORMANCE\n",
    "        # -----------\n",
    "        \n",
    "        for k, lt in enumerate(obs_events_d.leadtime):\n",
    "            obs = obs_events_d[stn].sel(leadtime=lt)\n",
    "            if obs.sum('forecast') == 0:\n",
    "                continue\n",
    "            else:\n",
    "                pred = pred_events_d[stn].sel(probability=p, leadtime=lt).to_dataset(dim='model').drop_vars('probability')\n",
    "                f1 = [f1_score(obs, pred[model]) for model in list(pred)]\n",
    "                results_station[:, j, k] = f1\n",
    "    \n",
    "    results_d[stn] = xr.DataArray(results_station, coords=results_d.coords)\n",
    "\n",
    "# merge all variables in a new dimension\n",
    "da_list = [results_d[stn].expand_dims('id', axis=0).assign_coords(id=[stn]).rename('f1') for stn in list(results_d)]\n",
    "results_d = xr.merge(da_list)['f1']"
   ]
  },
  {
   "cell_type": "code",
   "execution_count": 846,
   "id": "98aaa796-9c92-4966-ba30-9d0f6d019e9e",
   "metadata": {},
   "outputs": [
    {
     "data": {
      "image/png": "[encoded data removed]",
      "text/plain": [
       "<Figure size 400x1000 with 6 Axes>"
      ]
     },
     "metadata": {},
     "output_type": "display_data"
    }
   ],
   "source": [
    "nrows = len(results_d.model)\n",
    "fig, axes = plt.subplots(nrows=nrows, figsize=(4, 10), sharex=True, sharey=True)\n",
    "\n",
    "results_d_mean = results_d.mean('id')\n",
    "vmax = np.ceil(results_d_mean.max() / .05) * .05\n",
    "\n",
    "for i, (ax, model) in enumerate(zip(axes, results_d.model)):\n",
    "    da = results_d_mean.sel(model=model)\n",
    "    sns.heatmap(da, cmap='Blues', mask=da == 0, vmin=0, vmax=vmax, ax=ax,\n",
    "                cbar_kws={'label': 'f1 (-)', 'shrink': .66})\n",
    "    ax.set_ylabel('exceedance probability (-)')\n",
    "    ax.set_yticklabels(results_d.probability.values, rotation=0)\n",
    "    if i == nrows - 1:\n",
    "        ax.set_xlabel('leadtime (d)')\n",
    "    ax.set_xticklabels((results_d.leadtime / np.timedelta64(1, 'D')).values.astype(int), rotation=0)\n",
    "    ax.set_title(model.data)"
   ]
  },
  {
   "cell_type": "code",
   "execution_count": 843,
   "id": "d8c0f6a3-27d4-41c2-add0-b1ba22a58b81",
   "metadata": {},
   "outputs": [
    {
     "data": {
      "text/html": [
       "<div><svg style=\"position: absolute; width: 0; height: 0; overflow: hidden\">\n",
       "<defs>\n",
       "<symbol id=\"icon-database\" viewBox=\"0 0 32 32\">\n",
       "<path d=\"M16 0c-8.837 0-16 2.239-16 5v4c0 2.761 7.163 5 16 5s16-2.239 16-5v-4c0-2.761-7.163-5-16-5z\"></path>\n",
       "<path d=\"M16 17c-8.837 0-16-2.239-16-5v6c0 2.761 7.163 5 16 5s16-2.239 16-5v-6c0 2.761-7.163 5-16 5z\"></path>\n",
       "<path d=\"M16 26c-8.837 0-16-2.239-16-5v6c0 2.761 7.163 5 16 5s16-2.239 16-5v-6c0 2.761-7.163 5-16 5z\"></path>\n",
       "</symbol>\n",
       "<symbol id=\"icon-file-text2\" viewBox=\"0 0 32 32\">\n",
       "<path d=\"M28.681 7.159c-0.694-0.947-1.662-2.053-2.724-3.116s-2.169-2.030-3.116-2.724c-1.612-1.182-2.393-1.319-2.841-1.319h-15.5c-1.378 0-2.5 1.121-2.5 2.5v27c0 1.378 1.122 2.5 2.5 2.5h23c1.378 0 2.5-1.122 2.5-2.5v-19.5c0-0.448-0.137-1.23-1.319-2.841zM24.543 5.457c0.959 0.959 1.712 1.825 2.268 2.543h-4.811v-4.811c0.718 0.556 1.584 1.309 2.543 2.268zM28 29.5c0 0.271-0.229 0.5-0.5 0.5h-23c-0.271 0-0.5-0.229-0.5-0.5v-27c0-0.271 0.229-0.5 0.5-0.5 0 0 15.499-0 15.5 0v7c0 0.552 0.448 1 1 1h7v19.5z\"></path>\n",
       "<path d=\"M23 26h-14c-0.552 0-1-0.448-1-1s0.448-1 1-1h14c0.552 0 1 0.448 1 1s-0.448 1-1 1z\"></path>\n",
       "<path d=\"M23 22h-14c-0.552 0-1-0.448-1-1s0.448-1 1-1h14c0.552 0 1 0.448 1 1s-0.448 1-1 1z\"></path>\n",
       "<path d=\"M23 18h-14c-0.552 0-1-0.448-1-1s0.448-1 1-1h14c0.552 0 1 0.448 1 1s-0.448 1-1 1z\"></path>\n",
       "</symbol>\n",
       "</defs>\n",
       "</svg>\n",
       "<style>/* CSS stylesheet for displaying xarray objects in jupyterlab.\n",
       " *\n",
       " */\n",
       "\n",
       ":root {\n",
       "  --xr-font-color0: var(--jp-content-font-color0, rgba(0, 0, 0, 1));\n",
       "  --xr-font-color2: var(--jp-content-font-color2, rgba(0, 0, 0, 0.54));\n",
       "  --xr-font-color3: var(--jp-content-font-color3, rgba(0, 0, 0, 0.38));\n",
       "  --xr-border-color: var(--jp-border-color2, #e0e0e0);\n",
       "  --xr-disabled-color: var(--jp-layout-color3, #bdbdbd);\n",
       "  --xr-background-color: var(--jp-layout-color0, white);\n",
       "  --xr-background-color-row-even: var(--jp-layout-color1, white);\n",
       "  --xr-background-color-row-odd: var(--jp-layout-color2, #eeeeee);\n",
       "}\n",
       "\n",
       "html[theme=dark],\n",
       "body.vscode-dark {\n",
       "  --xr-font-color0: rgba(255, 255, 255, 1);\n",
       "  --xr-font-color2: rgba(255, 255, 255, 0.54);\n",
       "  --xr-font-color3: rgba(255, 255, 255, 0.38);\n",
       "  --xr-border-color: #1F1F1F;\n",
       "  --xr-disabled-color: #515151;\n",
       "  --xr-background-color: #111111;\n",
       "  --xr-background-color-row-even: #111111;\n",
       "  --xr-background-color-row-odd: #313131;\n",
       "}\n",
       "\n",
       ".xr-wrap {\n",
       "  display: block;\n",
       "  min-width: 300px;\n",
       "  max-width: 700px;\n",
       "}\n",
       "\n",
       ".xr-text-repr-fallback {\n",
       "  /* fallback to plain text repr when CSS is not injected (untrusted notebook) */\n",
       "  display: none;\n",
       "}\n",
       "\n",
       ".xr-header {\n",
       "  padding-top: 6px;\n",
       "  padding-bottom: 6px;\n",
       "  margin-bottom: 4px;\n",
       "  border-bottom: solid 1px var(--xr-border-color);\n",
       "}\n",
       "\n",
       ".xr-header > div,\n",
       ".xr-header > ul {\n",
       "  display: inline;\n",
       "  margin-top: 0;\n",
       "  margin-bottom: 0;\n",
       "}\n",
       "\n",
       ".xr-obj-type,\n",
       ".xr-array-name {\n",
       "  margin-left: 2px;\n",
       "  margin-right: 10px;\n",
       "}\n",
       "\n",
       ".xr-obj-type {\n",
       "  color: var(--xr-font-color2);\n",
       "}\n",
       "\n",
       ".xr-sections {\n",
       "  padding-left: 0 !important;\n",
       "  display: grid;\n",
       "  grid-template-columns: 150px auto auto 1fr 20px 20px;\n",
       "}\n",
       "\n",
       ".xr-section-item {\n",
       "  display: contents;\n",
       "}\n",
       "\n",
       ".xr-section-item input {\n",
       "  display: none;\n",
       "}\n",
       "\n",
       ".xr-section-item input + label {\n",
       "  color: var(--xr-disabled-color);\n",
       "}\n",
       "\n",
       ".xr-section-item input:enabled + label {\n",
       "  cursor: pointer;\n",
       "  color: var(--xr-font-color2);\n",
       "}\n",
       "\n",
       ".xr-section-item input:enabled + label:hover {\n",
       "  color: var(--xr-font-color0);\n",
       "}\n",
       "\n",
       ".xr-section-summary {\n",
       "  grid-column: 1;\n",
       "  color: var(--xr-font-color2);\n",
       "  font-weight: 500;\n",
       "}\n",
       "\n",
       ".xr-section-summary > span {\n",
       "  display: inline-block;\n",
       "  padding-left: 0.5em;\n",
       "}\n",
       "\n",
       ".xr-section-summary-in:disabled + label {\n",
       "  color: var(--xr-font-color2);\n",
       "}\n",
       "\n",
       ".xr-section-summary-in + label:before {\n",
       "  display: inline-block;\n",
       "  content: '►';\n",
       "  font-size: 11px;\n",
       "  width: 15px;\n",
       "  text-align: center;\n",
       "}\n",
       "\n",
       ".xr-section-summary-in:disabled + label:before {\n",
       "  color: var(--xr-disabled-color);\n",
       "}\n",
       "\n",
       ".xr-section-summary-in:checked + label:before {\n",
       "  content: '▼';\n",
       "}\n",
       "\n",
       ".xr-section-summary-in:checked + label > span {\n",
       "  display: none;\n",
       "}\n",
       "\n",
       ".xr-section-summary,\n",
       ".xr-section-inline-details {\n",
       "  padding-top: 4px;\n",
       "  padding-bottom: 4px;\n",
       "}\n",
       "\n",
       ".xr-section-inline-details {\n",
       "  grid-column: 2 / -1;\n",
       "}\n",
       "\n",
       ".xr-section-details {\n",
       "  display: none;\n",
       "  grid-column: 1 / -1;\n",
       "  margin-bottom: 5px;\n",
       "}\n",
       "\n",
       ".xr-section-summary-in:checked ~ .xr-section-details {\n",
       "  display: contents;\n",
       "}\n",
       "\n",
       ".xr-array-wrap {\n",
       "  grid-column: 1 / -1;\n",
       "  display: grid;\n",
       "  grid-template-columns: 20px auto;\n",
       "}\n",
       "\n",
       ".xr-array-wrap > label {\n",
       "  grid-column: 1;\n",
       "  vertical-align: top;\n",
       "}\n",
       "\n",
       ".xr-preview {\n",
       "  color: var(--xr-font-color3);\n",
       "}\n",
       "\n",
       ".xr-array-preview,\n",
       ".xr-array-data {\n",
       "  padding: 0 5px !important;\n",
       "  grid-column: 2;\n",
       "}\n",
       "\n",
       ".xr-array-data,\n",
       ".xr-array-in:checked ~ .xr-array-preview {\n",
       "  display: none;\n",
       "}\n",
       "\n",
       ".xr-array-in:checked ~ .xr-array-data,\n",
       ".xr-array-preview {\n",
       "  display: inline-block;\n",
       "}\n",
       "\n",
       ".xr-dim-list {\n",
       "  display: inline-block !important;\n",
       "  list-style: none;\n",
       "  padding: 0 !important;\n",
       "  margin: 0;\n",
       "}\n",
       "\n",
       ".xr-dim-list li {\n",
       "  display: inline-block;\n",
       "  padding: 0;\n",
       "  margin: 0;\n",
       "}\n",
       "\n",
       ".xr-dim-list:before {\n",
       "  content: '(';\n",
       "}\n",
       "\n",
       ".xr-dim-list:after {\n",
       "  content: ')';\n",
       "}\n",
       "\n",
       ".xr-dim-list li:not(:last-child):after {\n",
       "  content: ',';\n",
       "  padding-right: 5px;\n",
       "}\n",
       "\n",
       ".xr-has-index {\n",
       "  font-weight: bold;\n",
       "}\n",
       "\n",
       ".xr-var-list,\n",
       ".xr-var-item {\n",
       "  display: contents;\n",
       "}\n",
       "\n",
       ".xr-var-item > div,\n",
       ".xr-var-item label,\n",
       ".xr-var-item > .xr-var-name span {\n",
       "  background-color: var(--xr-background-color-row-even);\n",
       "  margin-bottom: 0;\n",
       "}\n",
       "\n",
       ".xr-var-item > .xr-var-name:hover span {\n",
       "  padding-right: 5px;\n",
       "}\n",
       "\n",
       ".xr-var-list > li:nth-child(odd) > div,\n",
       ".xr-var-list > li:nth-child(odd) > label,\n",
       ".xr-var-list > li:nth-child(odd) > .xr-var-name span {\n",
       "  background-color: var(--xr-background-color-row-odd);\n",
       "}\n",
       "\n",
       ".xr-var-name {\n",
       "  grid-column: 1;\n",
       "}\n",
       "\n",
       ".xr-var-dims {\n",
       "  grid-column: 2;\n",
       "}\n",
       "\n",
       ".xr-var-dtype {\n",
       "  grid-column: 3;\n",
       "  text-align: right;\n",
       "  color: var(--xr-font-color2);\n",
       "}\n",
       "\n",
       ".xr-var-preview {\n",
       "  grid-column: 4;\n",
       "}\n",
       "\n",
       ".xr-var-name,\n",
       ".xr-var-dims,\n",
       ".xr-var-dtype,\n",
       ".xr-preview,\n",
       ".xr-attrs dt {\n",
       "  white-space: nowrap;\n",
       "  overflow: hidden;\n",
       "  text-overflow: ellipsis;\n",
       "  padding-right: 10px;\n",
       "}\n",
       "\n",
       ".xr-var-name:hover,\n",
       ".xr-var-dims:hover,\n",
       ".xr-var-dtype:hover,\n",
       ".xr-attrs dt:hover {\n",
       "  overflow: visible;\n",
       "  width: auto;\n",
       "  z-index: 1;\n",
       "}\n",
       "\n",
       ".xr-var-attrs,\n",
       ".xr-var-data {\n",
       "  display: none;\n",
       "  background-color: var(--xr-background-color) !important;\n",
       "  padding-bottom: 5px !important;\n",
       "}\n",
       "\n",
       ".xr-var-attrs-in:checked ~ .xr-var-attrs,\n",
       ".xr-var-data-in:checked ~ .xr-var-data {\n",
       "  display: block;\n",
       "}\n",
       "\n",
       ".xr-var-data > table {\n",
       "  float: right;\n",
       "}\n",
       "\n",
       ".xr-var-name span,\n",
       ".xr-var-data,\n",
       ".xr-attrs {\n",
       "  padding-left: 25px !important;\n",
       "}\n",
       "\n",
       ".xr-attrs,\n",
       ".xr-var-attrs,\n",
       ".xr-var-data {\n",
       "  grid-column: 1 / -1;\n",
       "}\n",
       "\n",
       "dl.xr-attrs {\n",
       "  padding: 0;\n",
       "  margin: 0;\n",
       "  display: grid;\n",
       "  grid-template-columns: 125px auto;\n",
       "}\n",
       "\n",
       ".xr-attrs dt,\n",
       ".xr-attrs dd {\n",
       "  padding: 0;\n",
       "  margin: 0;\n",
       "  float: left;\n",
       "  padding-right: 10px;\n",
       "  width: auto;\n",
       "}\n",
       "\n",
       ".xr-attrs dt {\n",
       "  font-weight: normal;\n",
       "  grid-column: 1;\n",
       "}\n",
       "\n",
       ".xr-attrs dt:hover span {\n",
       "  display: inline-block;\n",
       "  background: var(--xr-background-color);\n",
       "  padding-right: 10px;\n",
       "}\n",
       "\n",
       ".xr-attrs dd {\n",
       "  grid-column: 2;\n",
       "  white-space: pre-wrap;\n",
       "  word-break: break-all;\n",
       "}\n",
       "\n",
       ".xr-icon-database,\n",
       ".xr-icon-file-text2 {\n",
       "  display: inline-block;\n",
       "  vertical-align: middle;\n",
       "  width: 1em;\n",
       "  height: 1.5em !important;\n",
       "  stroke-width: 0;\n",
       "  stroke: currentColor;\n",
       "  fill: currentColor;\n",
       "}\n",
       "</style><pre class='xr-text-repr-fallback'>&lt;xarray.DataArray &#x27;f1&#x27; (model: 3, leadtime: 11)&gt;\n",
       "array([[0.28190565, 0.23248485, 0.20987879, 0.17454545, 0.11333333,\n",
       "        0.04965079, 0.        , 0.03809524, 0.03809524, 0.02      ,\n",
       "        0.        ],\n",
       "       [0.29336597, 0.40542857, 0.37131313, 0.32361905, 0.15320635,\n",
       "        0.076     , 0.01      , 0.05142857, 0.05676768, 0.01142857,\n",
       "        0.        ],\n",
       "       [0.307112  , 0.43415473, 0.35406926, 0.33688889, 0.2860404 ,\n",
       "        0.18463492, 0.02133333, 0.05666667, 0.05155556, 0.06666667,\n",
       "        0.05128205]])\n",
       "Coordinates:\n",
       "  * model     (model) &lt;U13 &#x27;current&#x27; &#x27;model_mean&#x27; &#x27;weighted_mean&#x27;\n",
       "  * leadtime  (leadtime) timedelta64[ns] 0 days 06:00:00 ... 10 days 06:00:00</pre><div class='xr-wrap' hidden><div class='xr-header'><div class='xr-obj-type'>xarray.DataArray</div><div class='xr-array-name'>'f1'</div><ul class='xr-dim-list'><li><span class='xr-has-index'>model</span>: 3</li><li><span class='xr-has-index'>leadtime</span>: 11</li></ul></div><ul class='xr-sections'><li class='xr-section-item'><div class='xr-array-wrap'><input id='section-b7d3a547-5aed-4cec-a6f3-86ce23535015' class='xr-array-in' type='checkbox' checked><label for='section-b7d3a547-5aed-4cec-a6f3-86ce23535015' title='Show/hide data repr'><svg class='icon xr-icon-database'><use xlink:href='#icon-database'></use></svg></label><div class='xr-array-preview xr-preview'><span>0.2819 0.2325 0.2099 0.1745 0.1133 ... 0.05667 0.05156 0.06667 0.05128</span></div><div class='xr-array-data'><pre>array([[0.28190565, 0.23248485, 0.20987879, 0.17454545, 0.11333333,\n",
       "        0.04965079, 0.        , 0.03809524, 0.03809524, 0.02      ,\n",
       "        0.        ],\n",
       "       [0.29336597, 0.40542857, 0.37131313, 0.32361905, 0.15320635,\n",
       "        0.076     , 0.01      , 0.05142857, 0.05676768, 0.01142857,\n",
       "        0.        ],\n",
       "       [0.307112  , 0.43415473, 0.35406926, 0.33688889, 0.2860404 ,\n",
       "        0.18463492, 0.02133333, 0.05666667, 0.05155556, 0.06666667,\n",
       "        0.05128205]])</pre></div></div></li><li class='xr-section-item'><input id='section-fe6215cb-280a-4117-94b7-10aa00bf1e13' class='xr-section-summary-in' type='checkbox'  checked><label for='section-fe6215cb-280a-4117-94b7-10aa00bf1e13' class='xr-section-summary' >Coordinates: <span>(2)</span></label><div class='xr-section-inline-details'></div><div class='xr-section-details'><ul class='xr-var-list'><li class='xr-var-item'><div class='xr-var-name'><span class='xr-has-index'>model</span></div><div class='xr-var-dims'>(model)</div><div class='xr-var-dtype'>&lt;U13</div><div class='xr-var-preview xr-preview'>&#x27;current&#x27; ... &#x27;weighted_mean&#x27;</div><input id='attrs-75189019-3dbf-444e-bf6d-e96379649b60' class='xr-var-attrs-in' type='checkbox' disabled><label for='attrs-75189019-3dbf-444e-bf6d-e96379649b60' title='Show/Hide attributes'><svg class='icon xr-icon-file-text2'><use xlink:href='#icon-file-text2'></use></svg></label><input id='data-c404680f-90a1-4b9b-be3d-ad95706841de' class='xr-var-data-in' type='checkbox'><label for='data-c404680f-90a1-4b9b-be3d-ad95706841de' title='Show/Hide data repr'><svg class='icon xr-icon-database'><use xlink:href='#icon-database'></use></svg></label><div class='xr-var-attrs'><dl class='xr-attrs'></dl></div><div class='xr-var-data'><pre>array([&#x27;current&#x27;, &#x27;model_mean&#x27;, &#x27;weighted_mean&#x27;], dtype=&#x27;&lt;U13&#x27;)</pre></div></li><li class='xr-var-item'><div class='xr-var-name'><span class='xr-has-index'>leadtime</span></div><div class='xr-var-dims'>(leadtime)</div><div class='xr-var-dtype'>timedelta64[ns]</div><div class='xr-var-preview xr-preview'>0 days 06:00:00 ... 10 days 06:0...</div><input id='attrs-2f5f8a80-6fc8-4976-9c69-fd2950f3be6e' class='xr-var-attrs-in' type='checkbox' disabled><label for='attrs-2f5f8a80-6fc8-4976-9c69-fd2950f3be6e' title='Show/Hide attributes'><svg class='icon xr-icon-file-text2'><use xlink:href='#icon-file-text2'></use></svg></label><input id='data-793f8bcd-774a-4460-8b62-6505e8fe6e70' class='xr-var-data-in' type='checkbox'><label for='data-793f8bcd-774a-4460-8b62-6505e8fe6e70' title='Show/Hide data repr'><svg class='icon xr-icon-database'><use xlink:href='#icon-database'></use></svg></label><div class='xr-var-attrs'><dl class='xr-attrs'></dl></div><div class='xr-var-data'><pre>array([ 21600000000000, 108000000000000, 194400000000000, 280800000000000,\n",
       "       367200000000000, 453600000000000, 540000000000000, 626400000000000,\n",
       "       712800000000000, 799200000000000, 885600000000000],\n",
       "      dtype=&#x27;timedelta64[ns]&#x27;)</pre></div></li></ul></div></li><li class='xr-section-item'><input id='section-702348aa-6dfd-4ab6-ba2a-3399b258620f' class='xr-section-summary-in' type='checkbox' disabled ><label for='section-702348aa-6dfd-4ab6-ba2a-3399b258620f' class='xr-section-summary'  title='Expand/collapse section'>Attributes: <span>(0)</span></label><div class='xr-section-inline-details'></div><div class='xr-section-details'><dl class='xr-attrs'></dl></div></li></ul></div></div>"
      ],
      "text/plain": [
       "<xarray.DataArray 'f1' (model: 3, leadtime: 11)>\n",
       "array([[0.28190565, 0.23248485, 0.20987879, 0.17454545, 0.11333333,\n",
       "        0.04965079, 0.        , 0.03809524, 0.03809524, 0.02      ,\n",
       "        0.        ],\n",
       "       [0.29336597, 0.40542857, 0.37131313, 0.32361905, 0.15320635,\n",
       "        0.076     , 0.01      , 0.05142857, 0.05676768, 0.01142857,\n",
       "        0.        ],\n",
       "       [0.307112  , 0.43415473, 0.35406926, 0.33688889, 0.2860404 ,\n",
       "        0.18463492, 0.02133333, 0.05666667, 0.05155556, 0.06666667,\n",
       "        0.05128205]])\n",
       "Coordinates:\n",
       "  * model     (model) <U13 'current' 'model_mean' 'weighted_mean'\n",
       "  * leadtime  (leadtime) timedelta64[ns] 0 days 06:00:00 ... 10 days 06:00:00"
      ]
     },
     "execution_count": 843,
     "metadata": {},
     "output_type": "execute_result"
    }
   ],
   "source": [
    "results_d_mean.max('probability')"
   ]
  },
  {
   "cell_type": "markdown",
   "id": "fe7fd9b0-dee7-4248-9620-430c43c98604",
   "metadata": {},
   "source": [
    "***"
   ]
  },
  {
   "cell_type": "code",
   "execution_count": 390,
   "id": "21dbfbda-25f7-420e-9320-484c4b53cc9b",
   "metadata": {},
   "outputs": [
    {
     "data": {
      "image/png": "[encoded data removed]",
      "text/plain": [
       "<Figure size 1200x400 with 3 Axes>"
      ]
     },
     "metadata": {},
     "output_type": "display_data"
    }
   ],
   "source": [
    "# stations with observed events\n",
    "mask_stn = rean_events.sum() > 0\n",
    "stations_ = stations.loc[mask_stn]\n",
    "\n",
    "p = .5\n",
    "\n",
    "ncols = len(results.model)\n",
    "\n",
    "fig, axes = plt.subplots(ncols=ncols, figsize=(12, 4), sharex=True, sharey=True)\n",
    "\n",
    "for ax, model in zip(axes, results.model.data):\n",
    "    \n",
    "    data = results.sel(id=stations_.index.to_list(), probability=p, model=model).data\n",
    "    df = pd.DataFrame(data, index=stations_.index, columns=results.window)\n",
    "    df['id'] = df.index\n",
    "    df = pd.melt(df, id_vars='id', value_vars=[0, 1, 2, 3, 4])\n",
    "    df.columns = ['id', 'window', 'f1']\n",
    "    \n",
    "    sns.boxplot(x=df.window, y=df.f1, ax=ax)\n",
    "    \n",
    "    ax.set(ylabel='f1-score (-)', ylim=(-.05, 1.05), title=model)"
   ]
  },
  {
   "cell_type": "markdown",
   "id": "b023657b-bd81-4602-aa1e-52462d5a0e88",
   "metadata": {},
   "source": [
    "* The figures are very low even with a 4 timestep window, i.e., when we accept a 24 h error in the prediction of the onset of the event.\n",
    "* The results are underrated because they take into account all leadtimes together. I should repeat the process grouping the f1 score by lead time.\n",
    "* What if I simply check if a forecast predicts flooding (no matter when) and there actually was flooding during that forecast period."
   ]
  },
  {
   "cell_type": "markdown",
   "id": "6075387f-5a14-4302-82d7-45f55c500abe",
   "metadata": {},
   "source": [
    "***"
   ]
  },
  {
   "cell_type": "markdown",
   "id": "6a1b0aa6-fc90-4921-83a9-4978e164f97d",
   "metadata": {},
   "source": [
    "**Daily resample**"
   ]
  },
  {
   "cell_type": "code",
   "execution_count": null,
   "id": "7b02ff4b-67b9-4811-8c0b-2e3bd79b3be5",
   "metadata": {},
   "outputs": [],
   "source": [
    "resample_dict = {'leadtime': 'd'}\n",
    "events_daily = events_da.resample(resample_dict).any()\n",
    "notification_d = xr.Dataset({variable: da.resample(resample_dict).any() for variable, da in notification.data_vars.items()})\n",
    "notification_d = xr.Dataset(notification_d)"
   ]
  },
  {
   "cell_type": "code",
   "execution_count": null,
   "id": "6018454f-8a0c-4803-adc3-a0275e7d37bd",
   "metadata": {},
   "outputs": [],
   "source": [
    "fig, axes = plt.subplots(nrows=3, figsize=(16, 12), sharex=True)\n",
    "for ax, (variable, da) in zip(axes, notification_d.data_vars.items()):\n",
    "    heatmap_forecast(da, events, leadtime_grid=1, title=variable, ax=ax)\n",
    "    heatmap_forecast(events_daily, vmax=2, cmap='Reds', alpha=.1, leadtime_grid=1, cbar=False, ax=ax)"
   ]
  },
  {
   "cell_type": "code",
   "execution_count": null,
   "id": "2c807e50-06a9-42c4-902e-4ae1523f91da",
   "metadata": {},
   "outputs": [],
   "source": [
    "compute_performance(notification_d, events_daily)"
   ]
  },
  {
   "cell_type": "markdown",
   "id": "d66f755e-38ed-4ca2-bca9-209b44676098",
   "metadata": {},
   "source": [
    "**Rolling sum**"
   ]
  },
  {
   "cell_type": "code",
   "execution_count": null,
   "id": "b4adb003-3f8a-41f2-b474-07edbcd792d9",
   "metadata": {},
   "outputs": [],
   "source": [
    "w = 5\n",
    "rolling_dict = {'leadtime': w}\n",
    "mp = int(w / 2) + 1\n",
    "notification_r = xr.Dataset({var: da.rolling(rolling_dict, center=True, min_periods=mp).sum() > 0 for var, da in notification.data_vars.items()})\n",
    "events_r = events_da.rolling(rolling_dict, center=True, min_periods=mp).sum() > 0"
   ]
  },
  {
   "cell_type": "code",
   "execution_count": null,
   "id": "0b6752eb-dd1f-4c23-a900-490ad8da8c87",
   "metadata": {},
   "outputs": [],
   "source": [
    "fig, axes = plt.subplots(nrows=3, figsize=(16, 12), sharex=True)\n",
    "for ax, (variable, da) in zip(axes, notification_r.data_vars.items()):\n",
    "    heatmap_forecast(da, events=None, vmax=2, title=variable, ax=ax)\n",
    "    heatmap_forecast(events_da, vmax=2, cmap='Reds', alpha=.5, cbar=False, ax=ax)"
   ]
  },
  {
   "cell_type": "code",
   "execution_count": null,
   "id": "1a082c5b-e335-45dc-9e45-7f31784d44b3",
   "metadata": {},
   "outputs": [],
   "source": [
    "compute_performance(notification_r, events_da)"
   ]
  },
  {
   "cell_type": "code",
   "execution_count": null,
   "id": "cc63be6d-8094-4039-a0f0-a6c9bd07ec9e",
   "metadata": {},
   "outputs": [],
   "source": [
    "compute_performance(notification_r, events_r)"
   ]
  },
  {
   "cell_type": "code",
   "execution_count": null,
   "id": "b954a240-a2b1-4249-8ee2-d08e8596769e",
   "metadata": {},
   "outputs": [],
   "source": [
    "events_da.sum('leadtime')"
   ]
  },
  {
   "cell_type": "code",
   "execution_count": null,
   "id": "4dc1adfb-c61f-4618-a082-b7d7df8c2a02",
   "metadata": {},
   "outputs": [],
   "source": [
    "ev = events_da.isel(forecast=i)"
   ]
  },
  {
   "cell_type": "code",
   "execution_count": null,
   "id": "eda42699-d4d1-4d98-979e-127fef9ebf34",
   "metadata": {},
   "outputs": [],
   "source": [
    "da = notification['model_mean']\n",
    "da.sum('leadtime')"
   ]
  },
  {
   "cell_type": "code",
   "execution_count": null,
   "id": "ef2622c4-2624-4d94-8364-cbec79efd02b",
   "metadata": {},
   "outputs": [],
   "source": [
    "i = 47"
   ]
  },
  {
   "cell_type": "code",
   "execution_count": null,
   "id": "5a72a6eb-bf25-46e9-b80c-ae27bf0ebcd5",
   "metadata": {},
   "outputs": [],
   "source": [
    "y_true = events_da.isel(forecast=i).data.astype(float)\n",
    "\n",
    "y_pred1 = da.isel(forecast=i).data.astype(float)\n",
    "cm1 = confusion_matrix(y_true, y_pred1)"
   ]
  },
  {
   "cell_type": "code",
   "execution_count": null,
   "id": "99108819-9a35-45b6-ba09-f53944c61f79",
   "metadata": {},
   "outputs": [],
   "source": [
    "y_pred0 = da.isel(forecast=i).shift(leadtime=1).data.astype(float)\n",
    "y_pred0[0] = 0\n",
    "cm0 = confusion_matrix(y_true, y_pred0)"
   ]
  },
  {
   "cell_type": "code",
   "execution_count": null,
   "id": "06d67605-ff83-49bd-a95f-f92829fe7860",
   "metadata": {},
   "outputs": [],
   "source": [
    "y_pred2 = da.isel(forecast=i).shift(leadtime=-1).data.astype(float)\n",
    "y_pred2[-1] = 0\n",
    "cm2 = confusion_matrix(y_true, y_pred2)"
   ]
  },
  {
   "cell_type": "code",
   "execution_count": null,
   "id": "7e4439a1-becc-476a-8443-04ce514f0ce8",
   "metadata": {},
   "outputs": [],
   "source": [
    "np.max(cm0, cm1, cm2)"
   ]
  },
  {
   "cell_type": "code",
   "execution_count": null,
   "id": "9a8b1cef-8711-44a3-bd10-e6d4baa822c8",
   "metadata": {},
   "outputs": [],
   "source": [
    "# tmp = xr.DataArray([[0, 0, 1], [0, 1, 0], [1, 0, 0]], coords={'x': [1, 2, 3], 'y': [1, 2, 3]})\n",
    "# tmp\n",
    "\n",
    "# tmp.diff('y', label='upper')\n",
    "\n",
    "# tmp.diff('y', label='lower')"
   ]
  },
  {
   "cell_type": "code",
   "execution_count": null,
   "id": "e60235bf-a870-43d3-8aaf-ce4cf5a55fc5",
   "metadata": {},
   "outputs": [],
   "source": []
  },
  {
   "cell_type": "code",
   "execution_count": null,
   "id": "38b6a2a5-af85-42d3-8452-6e532e42b451",
   "metadata": {},
   "outputs": [],
   "source": []
  },
  {
   "cell_type": "code",
   "execution_count": null,
   "id": "36a0dd16-689a-49bb-a9b0-0212c60976f2",
   "metadata": {},
   "outputs": [],
   "source": []
  },
  {
   "cell_type": "code",
   "execution_count": null,
   "id": "fd4fee23-012f-496d-a7d3-ed74c8118710",
   "metadata": {},
   "outputs": [],
   "source": []
  },
  {
   "cell_type": "code",
   "execution_count": null,
   "id": "0fe10916-f72e-4d33-9943-beea35c4ef16",
   "metadata": {},
   "outputs": [],
   "source": []
  },
  {
   "cell_type": "code",
   "execution_count": null,
   "id": "40c912d2-1b3b-4f36-a89f-9ee0ceded704",
   "metadata": {},
   "outputs": [],
   "source": []
  },
  {
   "cell_type": "markdown",
   "id": "b5127ad9-de26-4952-b0ae-5813f8cd69d4",
   "metadata": {},
   "source": [
    "## Compute formal notifications\n",
    "\n",
    "* One probabilistic forecast (_EUE_ or _COSMO_) exceeds Q5:\n",
    "    * With a probability of exceedance $\\geq 30 \\%$\n",
    "    * In 3 consecutive forecasts\n",
    "* One deterministic forecasts (_EUD_ or _DWD_) exceeds Q5\n",
    "* Catchment area $\\geq 2000 km^2$\n",
    "* Lead time $\\geq 48 h$"
   ]
  },
  {
   "cell_type": "code",
   "execution_count": null,
   "id": "406e4506-0df3-4baf-8a78-faa7e7182cec",
   "metadata": {},
   "outputs": [],
   "source": [
    "stations_sel[['f1', 'recall', 'precision']] = np.nan\n",
    "for i, (stn, Q5) in enumerate(zip(stations_sel.index, stations_sel.Q5)):\n",
    "\n",
    "    ### REFORECAST\n",
    "\n",
    "    # compute exceedance of Q5\n",
    "    fore_exc = {model: compute_exceedance(files[model], stn, Q5) for model in models}\n",
    "    # compute formal notifications\n",
    "    notifications = compute_notifications(fore_exc, leadtime=4, probability=.3, persistence=3)\n",
    "\n",
    "    ### REANALYSIS\n",
    "\n",
    "    # Compute exceedance\n",
    "    rea_exc = (reanalysis[stn] >= Q5).astype(int)\n",
    "\n",
    "    # check if there was an event in each of the forecast windows\n",
    "    events = []\n",
    "    for forecast in notifications.forecast.values:\n",
    "        start = forecast\n",
    "        end = start + np.timedelta64(10, 'D')\n",
    "        events.append(rea_exc[start:end].any())\n",
    "    events = xr.DataArray(events, dims='forecast', coords={'forecast': notifications.forecast})\n",
    "\n",
    "    # SKILL\n",
    "    stations_sel.loc[stn, 'f1'] = f1_score(events, notifications)\n",
    "    stations_sel.loc[stn, 'recall'] = recall_score(events, notifications)\n",
    "    stations_sel.loc[stn, 'precision'] = precision_score(events, notifications)\n",
    "    \n",
    "    print('station {0:<3} of {1:<3} | {2:>4}:\\t{3:.3f}'.format(i + 1, stations_sel.shape[0], stn, stations_sel.loc[stn, 'f1']))"
   ]
  },
  {
   "cell_type": "code",
   "execution_count": null,
   "id": "7a647196-c02b-4e4f-91bc-489f97a7ff22",
   "metadata": {},
   "outputs": [],
   "source": [
    "stations_sel[['f1', 'recall', 'precision']].describe()"
   ]
  },
  {
   "cell_type": "code",
   "execution_count": null,
   "id": "a1e28aeb-6bd8-444b-8171-04ec1c538302",
   "metadata": {},
   "outputs": [],
   "source": [
    "im = plt.scatter(stations_sel.LisfloodX, stations_sel.LisfloodY, s=stations_sel['DrainingArea.km2.LDD'] / 1000,\n",
    "                 c=stations_sel.recall, cmap='virireanalysis', vmin=0, vmax=1)\n",
    "plt.colorbar(im);"
   ]
  },
  {
   "cell_type": "code",
   "execution_count": null,
   "id": "6670ab47-a6c8-46b9-b227-3a32bacaea6a",
   "metadata": {},
   "outputs": [],
   "source": [
    "stations_sel.loc[stations_sel.f1 == 0]"
   ]
  },
  {
   "cell_type": "code",
   "execution_count": null,
   "id": "6365bcbc-acd5-4b4a-a9bc-26d8ed4f9137",
   "metadata": {},
   "outputs": [],
   "source": [
    "stations_sel.to_csv(f'../data/stations_{catchment}.csv', float_format='%.3f')"
   ]
  },
  {
   "cell_type": "markdown",
   "id": "73953943-2066-49bf-9da2-4628d39dc3b8",
   "metadata": {},
   "source": [
    "For each station:\n",
    "1. Identify flood events.\n",
    "2"
   ]
  }
 ],
 "metadata": {
  "kernelspec": {
   "display_name": "Python 3 (ipykernel)",
   "language": "python",
   "name": "python3"
  },
  "language_info": {
   "codemirror_mode": {
    "name": "ipython",
    "version": 3
   },
   "file_extension": ".py",
   "mimetype": "text/x-python",
   "name": "python",
   "nbconvert_exporter": "python",
   "pygments_lexer": "ipython3",
   "version": "3.9.13"
  }
 },
 "nbformat": 4,
 "nbformat_minor": 5
}
