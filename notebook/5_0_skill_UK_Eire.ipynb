{
 "cells": [
  {
   "cell_type": "markdown",
   "id": "5fd5f453-13c1-47c1-ad27-8af80b47ee08",
   "metadata": {},
   "source": [
    "# Skill assessment\n",
    "***\n",
    "\n",
    "**Author**: Chus Casado<br>\n",
    "**Date**: 02-01-2023<br>\n",
    "\n",
    "**Introduction**:<br>\n",
    "\n",
    "\n",
    "**Questions**:<br>\n",
    "\n",
    "* Should we resample to 12-hourly timesteps?\n",
    "* What if every event is supposed to last 12 h?\n",
    "\n",
    "**Tasks to do**:<br>\n",
    "\n",
    "* [ ] Compute skill only in stations with a KGE over a threshold.\n",
    "* [ ] Average `f1` score for each station.\n",
    "\n",
    "\n",
    "**Interesting links**<br>\n",
    "[Pythonic way to perform statistics across multiple variables with Xarray](https://towardsdatascience.com/pythonic-way-to-perform-statistics-across-multiple-variables-with-xarray-d0221c78e34a)"
   ]
  },
  {
   "cell_type": "code",
   "execution_count": 1,
   "id": "a4ee7a0f-f62b-4a8b-8147-c46a2e2471ae",
   "metadata": {},
   "outputs": [],
   "source": [
    "import os\n",
    "import glob\n",
    "import numpy as np\n",
    "import pandas as pd\n",
    "import xarray as xr\n",
    "import matplotlib.pyplot as plt\n",
    "import matplotlib.gridspec as gridspec\n",
    "from matplotlib.patches import Rectangle\n",
    "import cartopy.crs as ccrs\n",
    "import cartopy.feature as cf\n",
    "from datetime import datetime, timedelta\n",
    "import seaborn as sns\n",
    "from sklearn.metrics import f1_score, recall_score, precision_score, confusion_matrix\n",
    "\n",
    "path_root = os.getcwd()\n",
    "path_forecast = '../data/CDS/forecast/'\n",
    "\n",
    "import warnings\n",
    "warnings.filterwarnings(\"ignore\")\n",
    "\n",
    "os.environ['USE_PYGEOS'] = '0'\n",
    "import geopandas as gpd\n",
    "\n",
    "os.chdir('../py/')\n",
    "from notifications import *\n",
    "os.chdir(path_root)"
   ]
  },
  {
   "cell_type": "markdown",
   "id": "b9ca1667-e5d2-45fb-83a1-647f9c9c4e7a",
   "metadata": {},
   "source": [
    "## 1 Data"
   ]
  },
  {
   "cell_type": "code",
   "execution_count": 2,
   "id": "6f59d008-a915-4cdb-90e1-48ddd1bcb6da",
   "metadata": {},
   "outputs": [],
   "source": [
    "name = 'UK_Eire'\n",
    "catchments = ['Thames', 'Ouse', 'Trent', 'Severn', 'Wye', 'Great Ouse',\n",
    "              'Tweed', 'Tay', 'Nith', 'Eden', 'Blackwater', 'Barrow',\n",
    "              'Shannon', 'Bann', 'Boyne', 'Erne', 'Corrib', 'Moy']"
   ]
  },
  {
   "cell_type": "code",
   "execution_count": 3,
   "id": "36a0dc94-11bb-4fea-b860-d3074b5c6b7d",
   "metadata": {},
   "outputs": [],
   "source": [
    "# path where results will be saved\n",
    "path_out = f'results/skill/{name}/'\n",
    "if os.path.exists(path_out) is False:\n",
    "    os.makedirs(path_out)"
   ]
  },
  {
   "cell_type": "code",
   "execution_count": 4,
   "id": "255bdfbd-2b12-4cd0-b3cd-0f1dd211c858",
   "metadata": {},
   "outputs": [],
   "source": [
    "# shapefile with rivers\n",
    "rivers_shp = gpd.read_file(f'../data/GIS/RiversForWebPage_EU_ready.shp')\n",
    "mask = rivers_shp.BASIN.isin(catchments)\n",
    "rivers_shp = rivers_shp.loc[mask]"
   ]
  },
  {
   "cell_type": "markdown",
   "id": "3b284a86-2d64-4907-a259-e3c67b6de2d5",
   "metadata": {},
   "source": [
    "### 1.1 Stations "
   ]
  },
  {
   "cell_type": "code",
   "execution_count": 5,
   "id": "f4d459c3-b604-42b4-aafd-f3040099992e",
   "metadata": {},
   "outputs": [
    {
     "name": "stdout",
     "output_type": "stream",
     "text": [
      "no. stations:\t37\n"
     ]
    }
   ],
   "source": [
    "# load selected points for all the catchments\n",
    "stations = pd.DataFrame()\n",
    "for catchment in catchments:\n",
    "    stn_cat = pd.read_csv(f'results/{catchment}/points_selected.csv', index_col='station_id')\n",
    "    stations = pd.concat((stations, stn_cat))\n",
    "n_stations = stations.shape[0]\n",
    "print('no. stations:\\t{0}'.format(n_stations))\n",
    "\n",
    "# add columns where skill will be saved\n",
    "new_cols = [f'f1_{model}' for model in ['current', 'model_mean', 'weighted_mean']]\n",
    "stations[new_cols] = np.nan"
   ]
  },
  {
   "cell_type": "markdown",
   "id": "20c23cc9-47d1-45a9-9387-66788d90aed1",
   "metadata": {},
   "source": [
    "### 1.2 Exceedance reanalysis"
   ]
  },
  {
   "cell_type": "code",
   "execution_count": 6,
   "id": "9cd238e0-6e93-4dbd-98dc-af76011a2228",
   "metadata": {},
   "outputs": [],
   "source": [
    "# load probability of exceeding the discharge threshold in the REANALYSIS data\n",
    "path_reanalysis = '../data/exceedance/reanalysis/'\n",
    "rean_events = pd.read_parquet(f'{path_reanalysis}/events_rl5.parquet')\n",
    "rean_events.columns = rean_events.columns.astype(int)\n",
    "rean_events = rean_events[stations.index.tolist()]"
   ]
  },
  {
   "cell_type": "markdown",
   "id": "ccda4dbe-2b16-46fd-b057-6d7dd431fae8",
   "metadata": {},
   "source": [
    "### 1.3 Exceedance forecast"
   ]
  },
  {
   "cell_type": "code",
   "execution_count": 7,
   "id": "e5f8870a-1354-474e-a119-0dc9876ed3dd",
   "metadata": {},
   "outputs": [],
   "source": [
    "# models\n",
    "models = {'COS': {'members': 20, 'leadtimes': 23},\n",
    "          'DWD': {'members': 1, 'leadtimes': 29},\n",
    "          'EUD': {'members': 1, 'leadtimes': 41},\n",
    "          'EUE': {'members': 51, 'leadtimes': 41},}"
   ]
  },
  {
   "cell_type": "code",
   "execution_count": 8,
   "id": "ea5ba70b-0d47-40df-b0bd-812ebb2f32c9",
   "metadata": {
    "tags": []
   },
   "outputs": [],
   "source": [
    "# load probability of exceeding the discharge threshold in the FORECAST data\n",
    "path_forecast = '../data/exceedance/forecast/'\n",
    "\n",
    "fore_exc = {}\n",
    "for stn in stations.index:\n",
    "    da = xr.open_dataarray(f'{path_forecast}{stn:04d}.nc')\n",
    "    if 'id' in da.coords:\n",
    "        da = da.drop_vars('id')\n",
    "    fore_exc[stn] = da\n",
    "    da.close()\n",
    "\n",
    "# convert into a Dataset\n",
    "stn = stations.index[0]\n",
    "fore_exc = xr.Dataset(fore_exc, coords={'model': fore_exc[stn].model, 'forecast': fore_exc[stn].forecast, 'leadtime': fore_exc[stn].leadtime})"
   ]
  },
  {
   "cell_type": "code",
   "execution_count": 9,
   "id": "56b14c06-ce43-4cda-8ba9-d3aab511f223",
   "metadata": {},
   "outputs": [],
   "source": [
    "# DataArray with weights for each model and leadtime\n",
    "weights = np.zeros((len(fore_exc.model), len(fore_exc.leadtime)))\n",
    "for i, (key, value) in enumerate(models.items()):\n",
    "    leadtimes = value['leadtimes']\n",
    "    members = value['members']\n",
    "    weights[i,:leadtimes] = members\n",
    "weights = xr.DataArray(weights, coords={'model': list(models), 'leadtime': fore_exc.leadtime})"
   ]
  },
  {
   "cell_type": "markdown",
   "id": "49e91ac9-ff24-4cfd-aa65-3c98f8a27001",
   "metadata": {},
   "source": [
    "## 2. Compute events\n",
    "\n",
    "In this section I will create two boolean _DataArray_ with the onset of flood events, i.e., a matrix of zeros and ones where a one means the beginning of a flood.\n",
    "\n",
    "* `obs_events` is a _DataArray_ with three dimensions that contains the \"observed\" events: \n",
    "    * `id`: the stations ID\n",
    "    * `forecast`: the timestamp of the beginning of the forecast\n",
    "    * `leadtime`: the timedelta of the specific timestep. The addition of forecast and leadtime renders the actual date and time of the timestep\n",
    "* `pred_events` is a _DataArray_ with five dimensions that contains the forecasted events:\n",
    "    * `id`\n",
    "    * `forecast`\n",
    "    * `leadtime`\n",
    "    * `model` corresponds to the different procedures to compute the occcurrence of events.\n",
    "        * `current` is the current EFAS criteria, i.e., at least a deterministic model must predict the flood, and one of the probabilistic models must predict a probability of event higher than a probability threshold.\n",
    "        * `model_mean` computes total probability giving the same weight to every model, i.e., 25% weight to each of the 4 meteorological forcings.\n",
    "        * `weighted_mean` computes total probability giving the same weight to each run, i.e., probabilistic models (with more than 1 run) have a higher weight.\n",
    "    * `probability` are different thresholds to consider a flood event."
   ]
  },
  {
   "cell_type": "code",
   "execution_count": 10,
   "id": "276a4ae4-5c7f-4465-9f38-202fffbaca53",
   "metadata": {},
   "outputs": [
    {
     "name": "stdout",
     "output_type": "stream",
     "text": [
      "Station 1419 (  37 of   37)\r"
     ]
    }
   ],
   "source": [
    "# probability thresholds\n",
    "probabilities = np.arange(0.05, .96, .05).round(2)\n",
    "\n",
    "# compute observed events and predicted events\n",
    "obs_events = {}\n",
    "pred_events = {}\n",
    "for i, stn in enumerate(stations.index):  \n",
    "    \n",
    "    print(f'Station {stn:>4d} ({i+1:>4d} of {n_stations:>4d})', end='\\r')\n",
    "\n",
    "    # OBSERVED EVENTS\n",
    "    # ...............\n",
    "    \n",
    "    # find events\n",
    "    mask = rean_events[stn]\n",
    "    events = rean_events.index[mask].tolist()\n",
    "    # create DataArray of the occurrence of events\n",
    "    obs_events[stn] = dataarray_events(events, fore_exc.forecast, fore_exc.leadtime)\n",
    "    \n",
    "    # COMPUTE MODEL COMBINATIONS\n",
    "    # ..........................\n",
    "\n",
    "    # mean across equally-weighted models\n",
    "    model_mean = fore_exc[stn].mean('model')\n",
    "    model_mean = model_mean.expand_dims('model', axis=0).assign_coords(model=['model_mean']).rename(stn)\n",
    "\n",
    "    # weighted-mean across models\n",
    "    weighted_mean = fore_exc[stn].weighted(weights).mean('model')\n",
    "    weighted_mean = weighted_mean.expand_dims('model', axis=0).assign_coords(model=['weighted_mean']).rename(stn)\n",
    "\n",
    "    # join all exceedance DataArrays\n",
    "    exceedance = xr.merge([fore_exc[stn], model_mean, weighted_mean])[stn]\n",
    "\n",
    "    pred_events_stn = xr.DataArray(dims=['model', 'forecast', 'leadtime', 'probability'],\n",
    "                                   coords={'model': ['current', 'model_mean', 'weighted_mean'],\n",
    "                                         'forecast': exceedance.forecast,\n",
    "                                         'leadtime': exceedance.leadtime,\n",
    "                                         'probability': probabilities})\n",
    "    \n",
    "    for j, p in enumerate(probabilities):\n",
    "        \n",
    "        # TIMSTEPS AT WHICH CRITERIA IS MET\n",
    "        # .................................\n",
    "        \n",
    "        # dataset where all criteria will ve saved\n",
    "        criteria = xr.Dataset(coords={'forecast': exceedance.forecast,\n",
    "                                      'leadtime': exceedance.leadtime})\n",
    "\n",
    "        # boolean auxiliary Dataset of exceedance over threshold\n",
    "        aux = exceedance > p\n",
    "\n",
    "        # find where the deterministic criteria was fulfilled\n",
    "        deterministic = aux.sel(model=['DWD', 'EUD']).sum('model')\n",
    "        # find where the probabilistic criteria was fulfilled\n",
    "        probabilistic = aux.sel(model=['COS', 'EUE']).sum('model')\n",
    "        # find where both the deterministic and the probabilistic criteria was fulfilled\n",
    "        criteria['current'] = ((deterministic >= 1) & (probabilistic >= 1))\n",
    "        # find where the combinations of models exceeds the probability threshold \n",
    "        for model in ['model_mean', 'weighted_mean']:\n",
    "            criteria[model] = aux.sel(model=model)\n",
    "        # remove variable model\n",
    "        criteria = criteria.drop_vars('model')\n",
    "\n",
    "        # FORECAST EVENTS\n",
    "        # ...............\n",
    "\n",
    "        # compute the onset of the events\n",
    "        steps = criteria.astype(int).diff('leadtime') == 1\n",
    "        step0 = criteria.isel(leadtime=0)\n",
    "        onsets = xr.concat((step0, steps), 'leadtime')\n",
    "        onsets = onsets.to_array(dim='model', name='event')\n",
    "        # da_list = [onsets[model].expand_dims('model', axis=0).assign_coords(model=[model]).rename('event') for model in list(onsets)]\n",
    "        # onsets = xr.merge(da_list)['event']\n",
    "\n",
    "        pred_events_stn.loc[dict(probability=p)] = onsets\n",
    "        \n",
    "    pred_events[stn] = pred_events_stn\n",
    "\n",
    "obs_events = xr.Dataset(obs_events).to_array(dim='id', name='events')\n",
    "pred_events = xr.Dataset(pred_events).to_array(dim='id', name='events')"
   ]
  },
  {
   "cell_type": "markdown",
   "id": "a2c9a1f0-2e0d-475a-9b19-cc35c9ff5b6b",
   "metadata": {},
   "source": [
    "## 3 Assess skill\n",
    "\n",
    "In this section I will compute the skill of the EFAS predictions in different ways. In all the following sections I will work with three metrics: recall, precision and the f1-score. The three metrics are based in the contingency table of hits ($TP$ for true positives), false alarms ($FP$ for false positives) and misses ($FN$ for false negatives).\n",
    "\n",
    "$$recall = \\frac{TP}{TP + FN}$$\n",
    "$$precision = \\frac{TP}{TP + FP}$$\n",
    "$$f1 = \\frac{2 \\cdot TP}{2 \\cdot TP + FN + FP}$$"
   ]
  },
  {
   "cell_type": "markdown",
   "id": "2093e0dd-49b0-4332-abbf-c5cf20cca205",
   "metadata": {},
   "source": [
    "### 3.1 Skill within a forecast\n",
    "\n",
    "In this first analysis I will check how EFAS performs at the forecast level. For that, I will aggregate the events _DataArray_ in the `leadtime` dimension, so the resulting _DataArray_ will have one dimension less and it will represent the forecasts in which there were observed (`obs_fc`) and/or predicted (`pred_fc`) events."
   ]
  },
  {
   "cell_type": "code",
   "execution_count": 12,
   "id": "78d61ddc-e462-4571-963f-92d86a297119",
   "metadata": {},
   "outputs": [],
   "source": [
    "# observed events in each forecast\n",
    "obs_fc = obs_events.any('leadtime')\n",
    "\n",
    "# predicted events in each forecast\n",
    "pred_fc = pred_events.any('leadtime')\n",
    "\n",
    "# compute sums of hits and falses\n",
    "tp = ((obs_fc == 1) & (pred_fc == 1)).sum('forecast')\n",
    "fn = ((obs_fc == 1) & (pred_fc == 0)).sum('forecast')\n",
    "fp = ((obs_fc == 0) & (pred_fc == 1)).sum('forecast')\n",
    "\n",
    "# compute metrics and save in a Dataset\n",
    "results1 = xr.Dataset({'f1': 2 * tp / (2 * tp + fn + fp),\n",
    "                        'precision': tp / (tp + fp),\n",
    "                        'recall': tp / (tp + fn)})"
   ]
  },
  {
   "cell_type": "code",
   "execution_count": 13,
   "id": "2d1d6846-9af3-495e-a989-62d9c18867ce",
   "metadata": {},
   "outputs": [
    {
     "data": {
      "image/png": "[encoded data removed]",
      "text/plain": [
       "<Figure size 2400x900 with 31 Axes>"
      ]
     },
     "metadata": {},
     "output_type": "display_data"
    }
   ],
   "source": [
    "# plot results\n",
    "filename = f'{path_out}/forecast_skill - station_vs_model.jpg'\n",
    "plot_skill(results1, rean_events.sum(), save=filename)"
   ]
  },
  {
   "cell_type": "markdown",
   "id": "4ca9372e-2e5d-478d-9f51-4fbf5f44ec75",
   "metadata": {},
   "source": [
    "The plot above shows the performance in terms of forecasts that predicted a flood and the flood actually occurred. The leadtime for the flood is not taking into account at this point; I consider a hit a forecast that predicts a flood at any leadtime and there actually was a flood during the complete forecasted period. \n",
    "\n",
    "The graph contains 15 plots distributed in 3 columns and 5 rows. Each column represents a metric: f1 (the harmonic mean of precision and recall), precision (proportion of predicted floods that were right), and recall (proportion of observed floods that were predicted). The top 3 rows represent each of the prediction criteria; they are heatmaps of the corresponding metric depending on the station and the probability threshold; the red rectangle shows the best probability threshold for that specific criteria and metric. The plots in the fourth row aggregate the red rectangles in a single plot to ease the comparison among criteria. The plots in the last row show for the amount of forecast with flood events; it is the same plot for the 3 columns."
   ]
  },
  {
   "cell_type": "code",
   "execution_count": 14,
   "id": "b64ea01d-ada3-4065-9133-a5d366431e53",
   "metadata": {},
   "outputs": [
    {
     "ename": "NameError",
     "evalue": "name 'mpl' is not defined",
     "output_type": "error",
     "traceback": [
      "\u001b[1;31m---------------------------------------------------------------------------\u001b[0m",
      "\u001b[1;31mNameError\u001b[0m                                 Traceback (most recent call last)",
      "Cell \u001b[1;32mIn [14], line 6\u001b[0m\n\u001b[0;32m      4\u001b[0m cmap \u001b[38;5;241m=\u001b[39m plt\u001b[38;5;241m.\u001b[39mcm\u001b[38;5;241m.\u001b[39mcoolwarm_r\n\u001b[0;32m      5\u001b[0m cmaplist \u001b[38;5;241m=\u001b[39m [cmap(i) \u001b[38;5;28;01mfor\u001b[39;00m i \u001b[38;5;129;01min\u001b[39;00m \u001b[38;5;28mrange\u001b[39m(cmap\u001b[38;5;241m.\u001b[39mN)]\n\u001b[1;32m----> 6\u001b[0m cmap \u001b[38;5;241m=\u001b[39m \u001b[43mmpl\u001b[49m\u001b[38;5;241m.\u001b[39mcolors\u001b[38;5;241m.\u001b[39mLinearSegmentedColormap\u001b[38;5;241m.\u001b[39mfrom_list(\u001b[38;5;124m'\u001b[39m\u001b[38;5;124mf1 cmap\u001b[39m\u001b[38;5;124m'\u001b[39m, cmaplist, cmap\u001b[38;5;241m.\u001b[39mN)\n\u001b[0;32m      7\u001b[0m bounds \u001b[38;5;241m=\u001b[39m np\u001b[38;5;241m.\u001b[39marange(\u001b[38;5;241m0\u001b[39m, \u001b[38;5;241m1.01\u001b[39m, \u001b[38;5;241m.1\u001b[39m)\n\u001b[0;32m      8\u001b[0m norm \u001b[38;5;241m=\u001b[39m mpl\u001b[38;5;241m.\u001b[39mcolors\u001b[38;5;241m.\u001b[39mBoundaryNorm(bounds, cmap\u001b[38;5;241m.\u001b[39mN)\n",
      "\u001b[1;31mNameError\u001b[0m: name 'mpl' is not defined"
     ]
    }
   ],
   "source": [
    "# plot map of f1 score\n",
    "f1_stn = results1['f1'].sel(model='current', probability=.3).to_pandas()\n",
    "\n",
    "cmap = plt.cm.coolwarm_r\n",
    "cmaplist = [cmap(i) for i in range(cmap.N)]\n",
    "cmap = mpl.colors.LinearSegmentedColormap.from_list('f1 cmap', cmaplist, cmap.N)\n",
    "bounds = np.arange(0, 1.01, .1)\n",
    "norm = mpl.colors.BoundaryNorm(bounds, cmap.N)\n",
    "\n",
    "plot_map_f1(stations.X, stations.Y, f1_stn, rivers=rivers_shp, size=6, alpha=.6, lw=.1,\n",
    "                  cmap=cmap, norm=norm, cbar=True, cbar_kws={'label': 'f1 (-)', 'shrink': .66})"
   ]
  },
  {
   "cell_type": "markdown",
   "id": "5908f212-513b-4c27-b2bb-6dd4ed99ec58",
   "metadata": {},
   "source": [
    "### 3.2 Skill predicting the onset of the flood\n",
    "\n",
    "In this section the analysis will be harder, and we will assess the EFAS skill at predicting the correct time of the onset of the event. Since the first tries proved that predicting the exact time of the onset is an extremely complicated task, we will consider various time windows around the observed event. A window of 3 timesteps, for instance, considers a hit when the EFAS forecast predicts the onset of the flood with an error of $\\pm6\\,h$.\n",
    "\n",
    "#### 3.2.1 Find hits, misses and false alarms\n",
    "\n",
    "After several tries, I've found a way to compute quickly and easily the skill metrics. It's importance to notice that skill metrics can't be aggregated (added or averaged) because they are quotions with an addition in the denominator. Therefore, the analysis must start computing the hits (true positives), misses (false negatives) and false alarms (false positives) without any aggregation. This first step is done in this section.\n",
    "\n",
    "As mentioned earlier, the probability of predicting the onset of an event at the right time is very, very low. Therefore, we need to add certain flexibility in what's considered a hit, i.e., we will consider hits predictions close enough (with an offset of 1 or 2 timesteps). I came up with a procedure to count hits, misses and false alarms taking into account this flexibility on the leadtime. The plot below explains it graphically.\n",
    "\n",
    "1. I compute a rolling sum over both the observed and predicted events. The width of the window is the flexibility we accept in the leadtime.\n",
    "2. I apply a mask based on the observed events over the rolling sum of predicted events (top, right). From this matrix we can count the **true positives** (ones) and the **false negatives** (zeros).\n",
    "3. I apply a mask based on the inverse of the rolling sum of observed events over the predicted events (bottom, right). The sum of ones in this matrix are the **false alarms**."
   ]
  },
  {
   "cell_type": "code",
   "execution_count": null,
   "id": "a90d688c-eb25-4b3d-bff1-a7cee2bad29d",
   "metadata": {},
   "outputs": [],
   "source": [
    "# number of timesteps surrounding the actual event\n",
    "windows = [1, 3, 5]\n",
    "\n",
    "hits = {var: {w: {} for w in windows} for var in ['tp', 'fn', 'fp']}\n",
    "for w in windows:\n",
    "    # rolling sum of observations and predictions\n",
    "    mp = int(w / 2) + 1\n",
    "    obs_w = obs_events.rolling({'leadtime': w}, center=True, min_periods=mp).sum() > 0\n",
    "    pred_w = pred_events.rolling({'leadtime': w}, center=True, min_periods=mp).sum() > 0\n",
    "    \n",
    "    # compute true positives and false negatives\n",
    "    aux1 = pred_w.where(obs_events == 1)\n",
    "    tp, fn = (aux1 == 1), (aux1 == 0)\n",
    "    \n",
    "    # compute false positives\n",
    "    aux2 = pred_events.where(obs_w == 0)\n",
    "    fp = (aux2 == 1)\n",
    "       \n",
    "    # save results  \n",
    "    hits['tp'][w] = tp\n",
    "    hits['fn'][w] = fn\n",
    "    hits['fp'][w] = fp\n",
    "\n",
    "# convert results into a Dataset\n",
    "data_vars = {var: xr.Dataset(dct).to_array(dim='window', name=var) for var, dct in hits.items()}\n",
    "hits = xr.Dataset(data_vars)\n",
    "# hits['leadtime'] = (pred_events.leadtime / 3600e9).astype(int)\n",
    "\n",
    "hits.dims"
   ]
  },
  {
   "cell_type": "markdown",
   "id": "7af104c8-c1c9-4de6-9b85-9cd27b17c1d6",
   "metadata": {},
   "source": [
    "The resulting `hits` _Dataset_ has 6 dimensions: `model`, `forecast`, `leadtime`, `probability`, `id`, `window`. In the following subsection I will compute the skill metrics from this Dataset using diverse aggregations over these dimension."
   ]
  },
  {
   "cell_type": "markdown",
   "id": "ae871175-2b5c-4cb8-9ed8-13093ebc5171",
   "metadata": {},
   "source": [
    "#### 3.2.2 Aggregation over forecast and leadtime\n",
    "\n",
    "Once computed the hits and misses for different time windows, the first approach will be to compute the metrics (f1, recall and precision) aggregating them over the dimensions `forecast` and `leadtime`. The resulting metrics have 4 dimensions: `model`, `probability`, `id` and `window`."
   ]
  },
  {
   "cell_type": "code",
   "execution_count": null,
   "id": "d3fe768f-9a98-418c-b8e5-fdfe60d12250",
   "metadata": {},
   "outputs": [],
   "source": [
    "# compute skill\n",
    "results22 = compute_metrics(hits, ['forecast', 'leadtime'])\n",
    "print(results22.dims)"
   ]
  },
  {
   "cell_type": "markdown",
   "id": "b2532b3f-93b4-40d4-8333-f2a03dd5583c",
   "metadata": {},
   "source": [
    "**Plot id vs window**"
   ]
  },
  {
   "cell_type": "code",
   "execution_count": null,
   "id": "379675f3-9371-4108-85d2-115cc13d997a",
   "metadata": {},
   "outputs": [],
   "source": [
    "# plot results for a model depending on the window\n",
    "model = 'weighted_mean'\n",
    "filename = f'{path_out}/{model}_skill - station_vs_window.jpg'\n",
    "plot_skill(results22.sel(model=model), rean_events.sum(), rowdim='window',\n",
    "           save=filename)"
   ]
  },
  {
   "cell_type": "markdown",
   "id": "32011102-008f-4e9e-ad90-ffaa0ab2cecd",
   "metadata": {},
   "source": [
    "**Plot id vs model**"
   ]
  },
  {
   "cell_type": "code",
   "execution_count": null,
   "id": "11e77dac-2820-4a17-8ca1-fa9f1a7a2643",
   "metadata": {},
   "outputs": [],
   "source": [
    "# plot results for a window depending on the model\n",
    "window = 5\n",
    "filename = f'{path_out}/{model}_skill - station_vs_model.jpg'\n",
    "plot_skill(results22.sel(window=window), rean_events.sum(), rowdim='model')"
   ]
  },
  {
   "cell_type": "markdown",
   "id": "bc880c50-c30a-4d5d-a2b3-1ca8fc8bc288",
   "metadata": {},
   "source": [
    "#### 3.2.3 Aggregation over forecast and station\n",
    "\n",
    "The second approach is to aggregate the hits/misses _Dataset_ over the dimensions `forecast` and `station`, so we can check how performance changes over `leadtime`."
   ]
  },
  {
   "cell_type": "code",
   "execution_count": null,
   "id": "06d1a31b-4201-4851-a7e2-347283006772",
   "metadata": {},
   "outputs": [],
   "source": [
    "# compute skill\n",
    "results23 = compute_metrics(hits, ['forecast', 'id'])\n",
    "print(results23.dims)"
   ]
  },
  {
   "cell_type": "markdown",
   "id": "b054755d-e517-4113-80f8-b86247af364b",
   "metadata": {},
   "source": [
    "**Plot leadtime vs window**"
   ]
  },
  {
   "cell_type": "code",
   "execution_count": null,
   "id": "1261a4e2-1be8-4d1e-bd66-43de037bf387",
   "metadata": {},
   "outputs": [],
   "source": [
    "# plot results for a model depending on the window\n",
    "model = 'weighted_mean'\n",
    "filename = f'{path_out}/{model}_skill - leadtime_vs_window.jpg'\n",
    "plot_skill(results23.sel(model=model), xdim='leadtime', ydim='probability', rowdim='window', xtick_step=2,\n",
    "           save=filename)"
   ]
  },
  {
   "cell_type": "markdown",
   "id": "f2a04d76-02f6-4169-b2d2-6c392398c8e3",
   "metadata": {},
   "source": [
    "##### Limiting leadtime to 7 days"
   ]
  },
  {
   "cell_type": "code",
   "execution_count": null,
   "id": "498184fa-dcf0-4199-98d4-54dc08364398",
   "metadata": {},
   "outputs": [],
   "source": [
    "# ploat results for a model depending on the window\n",
    "plot_skill(results23.sel(model='weighted_mean', leadtime=slice(None, 7 * 24)),\n",
    "           xdim='leadtime', ydim='probability', rowdim='window', xtick_step=2)"
   ]
  },
  {
   "cell_type": "markdown",
   "id": "596eeb64-e423-4cd8-95fe-c754052f2372",
   "metadata": {},
   "source": [
    "**Plot leadtime vs model**"
   ]
  },
  {
   "cell_type": "code",
   "execution_count": null,
   "id": "f0c0c2aa-28fd-4e19-b218-f37b1df8796c",
   "metadata": {},
   "outputs": [],
   "source": [
    "# plot results for a model depending on the window\n",
    "window = 5\n",
    "filename = f'{path_out}/{window}_skill - leadtime_vs_model.jpg'\n",
    "plot_skill(results23.sel(window=window), xdim='leadtime', ydim='probability', rowdim='model',\n",
    "           save=filename)"
   ]
  },
  {
   "cell_type": "markdown",
   "id": "5535d732-c552-4963-8682-96493f84faa1",
   "metadata": {},
   "source": [
    "##### Limiting leadtime to 7 days"
   ]
  },
  {
   "cell_type": "code",
   "execution_count": null,
   "id": "5321417e-c5d9-4fa7-9153-997967b73f86",
   "metadata": {},
   "outputs": [],
   "source": [
    "# plot results for a model depending on the window\n",
    "plot_skill(results23.sel(window=5, leadtime=slice(None, 7 * 24)),\n",
    "           xdim='leadtime', ydim='probability', rowdim='model')"
   ]
  },
  {
   "cell_type": "markdown",
   "id": "98e5b069-9ae1-4420-b4b0-19c510af2994",
   "metadata": {},
   "source": [
    "##### Resampling hits/misses to 12-hourly resolution\n",
    "\n",
    "To avoid the noise in the `leadtime` dimension caused by the fact that the model resolution is 6 h, but the forecast frequency is 12 h, I propose to resample the `hits` _Dataset_ to 12 h resolution."
   ]
  },
  {
   "cell_type": "code",
   "execution_count": null,
   "id": "4d59472f-8d58-4124-8299-041d5dbac97f",
   "metadata": {},
   "outputs": [],
   "source": [
    "# resample the dataset of hits and misses\n",
    "resample_dict = {'leadtime': '12h'}\n",
    "hits_12h = hits.resample(resample_dict).any()\n",
    "\n",
    "# compute skill\n",
    "results23_12h = compute_metrics(hits_12h, ['forecast', 'id'])\n",
    "results23_12h.dims"
   ]
  },
  {
   "cell_type": "markdown",
   "id": "26f1ea51-89c4-411d-a3b6-463faf0aff30",
   "metadata": {},
   "source": [
    "**Plot leadtime vs window**"
   ]
  },
  {
   "cell_type": "code",
   "execution_count": null,
   "id": "7f5e2c45-3eaf-40c7-9c64-ba3ed125703e",
   "metadata": {},
   "outputs": [],
   "source": [
    "# plot results for a model depending on the window\n",
    "plot_skill(results23_12h.sel(model='current'), xdim='leadtime', ydim='probability', rowdim='window', xtick_step=1)"
   ]
  },
  {
   "cell_type": "markdown",
   "id": "a253f2f1-da60-4963-809a-41f5d571a145",
   "metadata": {},
   "source": [
    "The results are clearer than with the 6-hourly resolution, but show the same pattern:\n",
    "* Performance increases as we increase the wime window.\n",
    "* Precision has higher values than recall, which actually requires the minimum probability threshold.\n",
    "* Skill is higher at shorter leadtimes, with the exception of the first step."
   ]
  },
  {
   "cell_type": "markdown",
   "id": "52d6de7c-bd73-49cc-ba3d-f021b5b62d99",
   "metadata": {},
   "source": [
    "**Plot leadtime vs model**"
   ]
  },
  {
   "cell_type": "code",
   "execution_count": null,
   "id": "f3004b20-3415-4eca-bc2d-66e7e4995921",
   "metadata": {},
   "outputs": [],
   "source": [
    "# plot results for a model depending on the window\n",
    "plot_skill(results23_12h.sel(window=5), xdim='leadtime', ydim='probability', rowdim='model', xtick_step=1)"
   ]
  },
  {
   "cell_type": "markdown",
   "id": "1f3d1e96-fde4-413c-b70c-f72eec67f184",
   "metadata": {},
   "source": [
    "The conclusions are similar to the 6-hourly plot:\n",
    "* The pattern is similar regardless the model. \n",
    "    * Skill increases towards shorter leadtimes (except the first step).\n",
    "    * Skill maximizes at probability thresholds between in the lower range, but not minium (except recall).\n",
    "    * Precision values are significantly higher than recall.\n",
    "* The highest f1 value is found for the `model_mean` and a probability threshold of 35%."
   ]
  },
  {
   "cell_type": "code",
   "execution_count": null,
   "id": "0351ee34-772e-42c9-8135-bf65b8ec72de",
   "metadata": {},
   "outputs": [],
   "source": []
  }
 ],
 "metadata": {
  "kernelspec": {
   "display_name": "Python 3 (ipykernel)",
   "language": "python",
   "name": "python3"
  },
  "language_info": {
   "codemirror_mode": {
    "name": "ipython",
    "version": 3
   },
   "file_extension": ".py",
   "mimetype": "text/x-python",
   "name": "python",
   "nbconvert_exporter": "python",
   "pygments_lexer": "ipython3",
   "version": "3.9.13"
  }
 },
 "nbformat": 4,
 "nbformat_minor": 5
}
