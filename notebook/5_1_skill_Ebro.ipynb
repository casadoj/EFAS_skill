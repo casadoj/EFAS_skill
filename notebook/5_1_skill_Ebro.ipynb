{
 "cells": [
  {
   "cell_type": "markdown",
   "id": "5fd5f453-13c1-47c1-ad27-8af80b47ee08",
   "metadata": {},
   "source": [
    "# Forecast\n",
    "***\n",
    "\n",
    "**Author**: Chus Casado<br>\n",
    "**Date**: 19-01-2023<br>\n",
    "\n",
    "**Introduction**:<br>\n",
    "\n",
    "\n",
    "**Questions**:<br>\n",
    "\n",
    "\n",
    "**Tasks to do**:<br>\n",
    "\n",
    "\n",
    "**Interesting links**<br>\n",
    "[Pythonic way to perform statistics across multiple variables with Xarray](https://towardsdatascience.com/pythonic-way-to-perform-statistics-across-multiple-variables-with-xarray-d0221c78e34a)"
   ]
  },
  {
   "cell_type": "code",
   "execution_count": 1,
   "id": "a4ee7a0f-f62b-4a8b-8147-c46a2e2471ae",
   "metadata": {},
   "outputs": [],
   "source": [
    "import os\n",
    "import glob\n",
    "import numpy as np\n",
    "import pandas as pd\n",
    "import xarray as xr\n",
    "import matplotlib.pyplot as plt\n",
    "import matplotlib.gridspec as gridspec\n",
    "import cartopy.crs as ccrs\n",
    "import cartopy.feature as cf\n",
    "from datetime import datetime, timedelta\n",
    "import seaborn as sns\n",
    "from sklearn.metrics import f1_score, recall_score, precision_score, confusion_matrix\n",
    "\n",
    "path_root = os.getcwd()\n",
    "path_forecast = '../data/CDS/forecast/'\n",
    "\n",
    "import warnings\n",
    "warnings.filterwarnings(\"ignore\")\n",
    "\n",
    "os.environ['USE_PYGEOS'] = '0'\n",
    "import geopandas as gpd\n",
    "\n",
    "os.chdir('../py/')\n",
    "from notifications import *\n",
    "os.chdir(path_root)"
   ]
  },
  {
   "cell_type": "markdown",
   "id": "b9ca1667-e5d2-45fb-83a1-647f9c9c4e7a",
   "metadata": {},
   "source": [
    "# 1 Data"
   ]
  },
  {
   "cell_type": "code",
   "execution_count": 2,
   "id": "6f59d008-a915-4cdb-90e1-48ddd1bcb6da",
   "metadata": {},
   "outputs": [],
   "source": [
    "catchment = 'Ebro'\n",
    "\n",
    "# shapefile with rivers\n",
    "rivers = gpd.read_file(f'../data/GIS/A3RIOS_{catchment}.shp')"
   ]
  },
  {
   "cell_type": "markdown",
   "id": "3b284a86-2d64-4907-a259-e3c67b6de2d5",
   "metadata": {},
   "source": [
    "### 1.1 Stations "
   ]
  },
  {
   "cell_type": "code",
   "execution_count": 3,
   "id": "1ad2ba6a-e095-4c1c-8f2c-3738dee497be",
   "metadata": {},
   "outputs": [
    {
     "name": "stdout",
     "output_type": "stream",
     "text": [
      "no. stations:\t50\n"
     ]
    }
   ],
   "source": [
    "# load selected points\n",
    "stations = pd.read_csv(f'results/{catchment}/points_selected.csv', index_col='station_id')\n",
    "print('no. stations:\\t{0}'.format(stations.shape[0]))\n",
    "\n",
    "# add columns where skill will be saved\n",
    "new_cols = [f'f1_{model}' for model in ['current', 'model_mean', 'grand_ensemble']]\n",
    "stations[new_cols] = np.nan"
   ]
  },
  {
   "cell_type": "markdown",
   "id": "20c23cc9-47d1-45a9-9387-66788d90aed1",
   "metadata": {},
   "source": [
    "### 1.2 Exceedance reanalysis"
   ]
  },
  {
   "cell_type": "code",
   "execution_count": 4,
   "id": "9cd238e0-6e93-4dbd-98dc-af76011a2228",
   "metadata": {},
   "outputs": [],
   "source": [
    "# load events\n",
    "path_reanalysis = '../data/exceedance/reanalysis/'\n",
    "rean_events = pd.read_parquet(f'{path_reanalysis}/events_rl5.parquet')\n",
    "rean_events.columns = rean_events.columns.astype(int)\n",
    "rean_events = rean_events[stations.index.tolist()]"
   ]
  },
  {
   "cell_type": "markdown",
   "id": "ccda4dbe-2b16-46fd-b057-6d7dd431fae8",
   "metadata": {},
   "source": [
    "### 1.3 Exceedance forecast"
   ]
  },
  {
   "cell_type": "code",
   "execution_count": 6,
   "id": "e5f8870a-1354-474e-a119-0dc9876ed3dd",
   "metadata": {},
   "outputs": [],
   "source": [
    "# models\n",
    "models = {'COS': {'members': 20, 'leadtimes': 23},\n",
    "          'DWD': {'members': 1, 'leadtimes': 29},\n",
    "          'EUD': {'members': 1, 'leadtimes': 41},\n",
    "          'EUE': {'members': 51, 'leadtimes': 41},}"
   ]
  },
  {
   "cell_type": "code",
   "execution_count": 7,
   "id": "bf58032a-a82c-41db-9a48-f86a3dc0a242",
   "metadata": {},
   "outputs": [],
   "source": [
    "# load exceedance data\n",
    "path_forecast = '../data/exceedance/forecast/'\n",
    "\n",
    "fore_exc = {}\n",
    "for stn in stations.index:\n",
    "    fore_exc[stn] = xr.open_dataarray(f'{path_forecast}{stn:04d}.nc')\n",
    "\n",
    "# convert into a Dataset\n",
    "stn = stations.index[0]\n",
    "fore_exc = xr.Dataset(fore_exc, coords={'model': fore_exc[stn].model, 'forecast': fore_exc[stn].forecast, 'leadtime': fore_exc[stn].leadtime})\n",
    "\n",
    "# convert the dataset into a DataArray in which models is a dimension instead of different variables\n",
    "# da_list = [ds[stn].expand_dims('id', axis=0).assign_coords(id=[stn]).rename('exceedance') for stn in stations.index]\n",
    "# da = xr.merge(da_list)['exceedance']"
   ]
  },
  {
   "cell_type": "code",
   "execution_count": 8,
   "id": "56b14c06-ce43-4cda-8ba9-d3aab511f223",
   "metadata": {},
   "outputs": [],
   "source": [
    "# DataArray with weights for each model and leadtime\n",
    "weights = np.zeros((len(fore_exc.model), len(fore_exc.leadtime)))\n",
    "for i, (key, value) in enumerate(models.items()):\n",
    "    leadtimes = value['leadtimes']\n",
    "    members = value['members']\n",
    "    weights[i,:leadtimes] = members\n",
    "weights = xr.DataArray(weights, coords={'model': list(models), 'leadtime': fore_exc.leadtime})"
   ]
  },
  {
   "cell_type": "markdown",
   "id": "a2c9a1f0-2e0d-475a-9b19-cc35c9ff5b6b",
   "metadata": {},
   "source": [
    "## 2 Prediction skill"
   ]
  },
  {
   "cell_type": "code",
   "execution_count": 9,
   "id": "4381a2b3-332c-4d67-887b-315829d8a7b1",
   "metadata": {},
   "outputs": [],
   "source": [
    "# probability thresholds\n",
    "probabilities = np.arange(0.1, 1., .1).round(1)\n",
    "# number of timesteps surrounding the actual event\n",
    "windows = np.arange(0, 5).astype(int)\n",
    "\n",
    "# Dataset where results will be saved\n",
    "results = xr.Dataset(coords={'model': ['current', 'model_mean', 'weighted_mean'],\n",
    "                             'probability': probabilities,\n",
    "                             'window': windows})"
   ]
  },
  {
   "cell_type": "code",
   "execution_count": 11,
   "id": "822563fe-b587-47ba-aab2-5bfeea8a93f6",
   "metadata": {},
   "outputs": [
    {
     "name": "stdout",
     "output_type": "stream",
     "text": [
      "Station  636 (  50 of   50)\r"
     ]
    }
   ],
   "source": [
    "n_stations = stations.shape[0]\n",
    "for i, stn in enumerate(stations.index):  \n",
    "    \n",
    "    print(f'Station {stn:>4d} ({i+1:>4d} of {n_stations:>4d})', end='\\r')\n",
    "    \n",
    "    # array where station results will be saved temporarily\n",
    "    results_station = np.zeros((len(results.model), len(results.probability), len(results.window))) * np.nan\n",
    "\n",
    "    # find events\n",
    "    mask = rean_events[stn]\n",
    "    events = rean_events.index[mask].tolist()\n",
    "    # create DataArray of the occurrence of events\n",
    "    obs_events = dataarray_events(events, fore_exc.forecast, fore_exc.leadtime)\n",
    "\n",
    "    # COMPUTE MODEL COMBINATIONS\n",
    "    # ..........................\n",
    "\n",
    "    # mean across equally-weighted models\n",
    "    model_mean = fore_exc[stn].mean('model')\n",
    "    model_mean = model_mean.expand_dims('model', axis=0).assign_coords(model=['model_mean']).rename(stn)\n",
    "\n",
    "    # weighted-mean across models\n",
    "    weighted_mean = fore_exc[stn].weighted(weights).mean('model')\n",
    "    weighted_mean = weighted_mean.expand_dims('model', axis=0).assign_coords(model=['weighted_mean']).rename(stn)\n",
    "\n",
    "    # join all exceedance DataArrays\n",
    "    exceedance = xr.merge([fore_exc[stn], model_mean, weighted_mean])[stn]\n",
    "    \n",
    "    for j, p in enumerate(probabilities):\n",
    "        \n",
    "        # TIMSTEPS AT WHICH CRITERIA IS MET\n",
    "        # .................................\n",
    "        # dataset where all criteria will ve saved\n",
    "        criteria = xr.Dataset(coords={'forecast': exceedance.forecast,\n",
    "                                      'leadtime': exceedance.leadtime})\n",
    "\n",
    "        # boolean auxiliary Dataset of exceedance over threshold\n",
    "        aux = exceedance > p\n",
    "\n",
    "        # find where the deterministic criteria was fulfilled\n",
    "        deterministic = aux.sel(model=['DWD', 'EUD']).sum('model')\n",
    "        # find where the probabilistic criteria was fulfilled\n",
    "        probabilistic = aux.sel(model=['COS', 'EUE']).sum('model')\n",
    "        # find where both the deterministic and the probabilistic criteria was fulfilled\n",
    "        criteria['current'] = ((deterministic >= 1) & (probabilistic >= 1))\n",
    "        # find where the combinations of models exceeds the probability threshold \n",
    "        for model in ['model_mean', 'weighted_mean']:\n",
    "            criteria[model] = aux.sel(model=model)\n",
    "        # remove variable model\n",
    "        criteria = criteria.drop_vars('model')\n",
    "\n",
    "        # FORECAST EVENTS\n",
    "        # ...............\n",
    "\n",
    "        # compute the onset of the events\n",
    "        steps = criteria.astype(int).diff('leadtime') == 1\n",
    "        step0 = criteria.isel(leadtime=0)\n",
    "        fore_events = xr.concat((step0, steps), 'leadtime')\n",
    "        \n",
    "        # PERFORMANCE\n",
    "        # -----------\n",
    "        \n",
    "        for k, w in enumerate(windows):\n",
    "            # compute f1 score and add values to the station table\n",
    "            f1 = compute_f1(obs_events, fore_events, window=w)\n",
    "            results_station[:, j, k] = f1.max(axis=1).values\n",
    "            \n",
    "    results[stn] = xr.DataArray(results_station, coords=results.coords)\n",
    "\n",
    "# merge all variables in a new dimension\n",
    "da_list = [results[stn].expand_dims('id', axis=0).assign_coords(id=[stn]).rename('f1') for stn in list(results)]\n",
    "results = xr.merge(da_list)['f1']"
   ]
  },
  {
   "cell_type": "code",
   "execution_count": 12,
   "id": "21dbfbda-25f7-420e-9320-484c4b53cc9b",
   "metadata": {},
   "outputs": [
    {
     "data": {
      "image/png": "[encoded data removed]",
      "text/plain": [
       "<Figure size 1200x400 with 3 Axes>"
      ]
     },
     "metadata": {},
     "output_type": "display_data"
    }
   ],
   "source": [
    "# stations with observed events\n",
    "mask_stn = rean_events.sum() > 0\n",
    "stations_ = stations.loc[mask_stn]\n",
    "\n",
    "p = .5\n",
    "\n",
    "ncols = len(results.model)\n",
    "\n",
    "fig, axes = plt.subplots(ncols=ncols, figsize=(12, 4), sharex=True, sharey=True)\n",
    "\n",
    "for ax, model in zip(axes, results.model.data):\n",
    "    \n",
    "    data = results.sel(id=stations_.index.to_list(), probability=p, model=model).data\n",
    "    df = pd.DataFrame(data, index=stations_.index, columns=results.window)\n",
    "    df['id'] = df.index\n",
    "    df = pd.melt(df, id_vars='id', value_vars=[0, 1, 2, 3, 4])\n",
    "    df.columns = ['id', 'window', 'f1']\n",
    "    \n",
    "    sns.boxplot(x=df.window, y=df.f1, ax=ax)\n",
    "    \n",
    "    ax.set(ylabel='f1-score (-)', ylim=(-.05, 1.05), title=model)"
   ]
  },
  {
   "cell_type": "markdown",
   "id": "b023657b-bd81-4602-aa1e-52462d5a0e88",
   "metadata": {},
   "source": [
    "* The figures are very low even with a 4 timestep window, i.e., when we accept a 24 h error in the prediction of the onset of the event.\n",
    "* The results are underrated because they take into account all leadtimes together. I should repeat the process grouping the f1 score by lead time.\n",
    "* What if I simply check if a forecast predicts flooding (no matter when) and there actually was flooding during that forecast period."
   ]
  },
  {
   "cell_type": "markdown",
   "id": "6075387f-5a14-4302-82d7-45f55c500abe",
   "metadata": {},
   "source": [
    "***"
   ]
  },
  {
   "cell_type": "markdown",
   "id": "6a1b0aa6-fc90-4921-83a9-4978e164f97d",
   "metadata": {},
   "source": [
    "**Daily resample**"
   ]
  },
  {
   "cell_type": "code",
   "execution_count": null,
   "id": "7b02ff4b-67b9-4811-8c0b-2e3bd79b3be5",
   "metadata": {},
   "outputs": [],
   "source": [
    "resample_dict = {'leadtime': 'd'}\n",
    "events_daily = events_da.resample(resample_dict).any()\n",
    "notification_d = xr.Dataset({variable: da.resample(resample_dict).any() for variable, da in notification.data_vars.items()})\n",
    "notification_d = xr.Dataset(notification_d)"
   ]
  },
  {
   "cell_type": "code",
   "execution_count": null,
   "id": "6018454f-8a0c-4803-adc3-a0275e7d37bd",
   "metadata": {},
   "outputs": [],
   "source": [
    "fig, axes = plt.subplots(nrows=3, figsize=(16, 12), sharex=True)\n",
    "for ax, (variable, da) in zip(axes, notification_d.data_vars.items()):\n",
    "    heatmap_forecast(da, events, leadtime_grid=1, title=variable, ax=ax)\n",
    "    heatmap_forecast(events_daily, vmax=2, cmap='Reds', alpha=.1, leadtime_grid=1, cbar=False, ax=ax)"
   ]
  },
  {
   "cell_type": "code",
   "execution_count": null,
   "id": "2c807e50-06a9-42c4-902e-4ae1523f91da",
   "metadata": {},
   "outputs": [],
   "source": [
    "compute_performance(notification_d, events_daily)"
   ]
  },
  {
   "cell_type": "markdown",
   "id": "d66f755e-38ed-4ca2-bca9-209b44676098",
   "metadata": {},
   "source": [
    "**Rolling sum**"
   ]
  },
  {
   "cell_type": "code",
   "execution_count": null,
   "id": "b4adb003-3f8a-41f2-b474-07edbcd792d9",
   "metadata": {},
   "outputs": [],
   "source": [
    "w = 5\n",
    "rolling_dict = {'leadtime': w}\n",
    "mp = int(w / 2) + 1\n",
    "notification_r = xr.Dataset({var: da.rolling(rolling_dict, center=True, min_periods=mp).sum() > 0 for var, da in notification.data_vars.items()})\n",
    "events_r = events_da.rolling(rolling_dict, center=True, min_periods=mp).sum() > 0"
   ]
  },
  {
   "cell_type": "code",
   "execution_count": null,
   "id": "0b6752eb-dd1f-4c23-a900-490ad8da8c87",
   "metadata": {},
   "outputs": [],
   "source": [
    "fig, axes = plt.subplots(nrows=3, figsize=(16, 12), sharex=True)\n",
    "for ax, (variable, da) in zip(axes, notification_r.data_vars.items()):\n",
    "    heatmap_forecast(da, events=None, vmax=2, title=variable, ax=ax)\n",
    "    heatmap_forecast(events_da, vmax=2, cmap='Reds', alpha=.5, cbar=False, ax=ax)"
   ]
  },
  {
   "cell_type": "code",
   "execution_count": null,
   "id": "1a082c5b-e335-45dc-9e45-7f31784d44b3",
   "metadata": {},
   "outputs": [],
   "source": [
    "compute_performance(notification_r, events_da)"
   ]
  },
  {
   "cell_type": "code",
   "execution_count": null,
   "id": "cc63be6d-8094-4039-a0f0-a6c9bd07ec9e",
   "metadata": {},
   "outputs": [],
   "source": [
    "compute_performance(notification_r, events_r)"
   ]
  },
  {
   "cell_type": "code",
   "execution_count": null,
   "id": "b954a240-a2b1-4249-8ee2-d08e8596769e",
   "metadata": {},
   "outputs": [],
   "source": [
    "events_da.sum('leadtime')"
   ]
  },
  {
   "cell_type": "code",
   "execution_count": null,
   "id": "4dc1adfb-c61f-4618-a082-b7d7df8c2a02",
   "metadata": {},
   "outputs": [],
   "source": [
    "ev = events_da.isel(forecast=i)"
   ]
  },
  {
   "cell_type": "code",
   "execution_count": null,
   "id": "eda42699-d4d1-4d98-979e-127fef9ebf34",
   "metadata": {},
   "outputs": [],
   "source": [
    "da = notification['model_mean']\n",
    "da.sum('leadtime')"
   ]
  },
  {
   "cell_type": "code",
   "execution_count": null,
   "id": "ef2622c4-2624-4d94-8364-cbec79efd02b",
   "metadata": {},
   "outputs": [],
   "source": [
    "i = 47"
   ]
  },
  {
   "cell_type": "code",
   "execution_count": null,
   "id": "5a72a6eb-bf25-46e9-b80c-ae27bf0ebcd5",
   "metadata": {},
   "outputs": [],
   "source": [
    "y_true = events_da.isel(forecast=i).data.astype(float)\n",
    "\n",
    "y_pred1 = da.isel(forecast=i).data.astype(float)\n",
    "cm1 = confusion_matrix(y_true, y_pred1)"
   ]
  },
  {
   "cell_type": "code",
   "execution_count": null,
   "id": "99108819-9a35-45b6-ba09-f53944c61f79",
   "metadata": {},
   "outputs": [],
   "source": [
    "y_pred0 = da.isel(forecast=i).shift(leadtime=1).data.astype(float)\n",
    "y_pred0[0] = 0\n",
    "cm0 = confusion_matrix(y_true, y_pred0)"
   ]
  },
  {
   "cell_type": "code",
   "execution_count": null,
   "id": "06d67605-ff83-49bd-a95f-f92829fe7860",
   "metadata": {},
   "outputs": [],
   "source": [
    "y_pred2 = da.isel(forecast=i).shift(leadtime=-1).data.astype(float)\n",
    "y_pred2[-1] = 0\n",
    "cm2 = confusion_matrix(y_true, y_pred2)"
   ]
  },
  {
   "cell_type": "code",
   "execution_count": null,
   "id": "7e4439a1-becc-476a-8443-04ce514f0ce8",
   "metadata": {},
   "outputs": [],
   "source": [
    "np.max(cm0, cm1, cm2)"
   ]
  },
  {
   "cell_type": "code",
   "execution_count": null,
   "id": "9a8b1cef-8711-44a3-bd10-e6d4baa822c8",
   "metadata": {},
   "outputs": [],
   "source": [
    "# tmp = xr.DataArray([[0, 0, 1], [0, 1, 0], [1, 0, 0]], coords={'x': [1, 2, 3], 'y': [1, 2, 3]})\n",
    "# tmp\n",
    "\n",
    "# tmp.diff('y', label='upper')\n",
    "\n",
    "# tmp.diff('y', label='lower')"
   ]
  },
  {
   "cell_type": "code",
   "execution_count": null,
   "id": "e60235bf-a870-43d3-8aaf-ce4cf5a55fc5",
   "metadata": {},
   "outputs": [],
   "source": []
  },
  {
   "cell_type": "code",
   "execution_count": null,
   "id": "38b6a2a5-af85-42d3-8452-6e532e42b451",
   "metadata": {},
   "outputs": [],
   "source": []
  },
  {
   "cell_type": "code",
   "execution_count": null,
   "id": "36a0dd16-689a-49bb-a9b0-0212c60976f2",
   "metadata": {},
   "outputs": [],
   "source": []
  },
  {
   "cell_type": "code",
   "execution_count": null,
   "id": "fd4fee23-012f-496d-a7d3-ed74c8118710",
   "metadata": {},
   "outputs": [],
   "source": []
  },
  {
   "cell_type": "code",
   "execution_count": null,
   "id": "0fe10916-f72e-4d33-9943-beea35c4ef16",
   "metadata": {},
   "outputs": [],
   "source": []
  },
  {
   "cell_type": "code",
   "execution_count": null,
   "id": "40c912d2-1b3b-4f36-a89f-9ee0ceded704",
   "metadata": {},
   "outputs": [],
   "source": []
  },
  {
   "cell_type": "markdown",
   "id": "b5127ad9-de26-4952-b0ae-5813f8cd69d4",
   "metadata": {},
   "source": [
    "## Compute formal notifications\n",
    "\n",
    "* One probabilistic forecast (_EUE_ or _COSMO_) exceeds Q5:\n",
    "    * With a probability of exceedance $\\geq 30 \\%$\n",
    "    * In 3 consecutive forecasts\n",
    "* One deterministic forecasts (_EUD_ or _DWD_) exceeds Q5\n",
    "* Catchment area $\\geq 2000 km^2$\n",
    "* Lead time $\\geq 48 h$"
   ]
  },
  {
   "cell_type": "code",
   "execution_count": null,
   "id": "406e4506-0df3-4baf-8a78-faa7e7182cec",
   "metadata": {},
   "outputs": [],
   "source": [
    "stations_sel[['f1', 'recall', 'precision']] = np.nan\n",
    "for i, (stn, Q5) in enumerate(zip(stations_sel.index, stations_sel.Q5)):\n",
    "\n",
    "    ### REFORECAST\n",
    "\n",
    "    # compute exceedance of Q5\n",
    "    fore_exc = {model: compute_exceedance(files[model], stn, Q5) for model in models}\n",
    "    # compute formal notifications\n",
    "    notifications = compute_notifications(fore_exc, leadtime=4, probability=.3, persistence=3)\n",
    "\n",
    "    ### REANALYSIS\n",
    "\n",
    "    # Compute exceedance\n",
    "    rea_exc = (reanalysis[stn] >= Q5).astype(int)\n",
    "\n",
    "    # check if there was an event in each of the forecast windows\n",
    "    events = []\n",
    "    for forecast in notifications.forecast.values:\n",
    "        start = forecast\n",
    "        end = start + np.timedelta64(10, 'D')\n",
    "        events.append(rea_exc[start:end].any())\n",
    "    events = xr.DataArray(events, dims='forecast', coords={'forecast': notifications.forecast})\n",
    "\n",
    "    # SKILL\n",
    "    stations_sel.loc[stn, 'f1'] = f1_score(events, notifications)\n",
    "    stations_sel.loc[stn, 'recall'] = recall_score(events, notifications)\n",
    "    stations_sel.loc[stn, 'precision'] = precision_score(events, notifications)\n",
    "    \n",
    "    print('station {0:<3} of {1:<3} | {2:>4}:\\t{3:.3f}'.format(i + 1, stations_sel.shape[0], stn, stations_sel.loc[stn, 'f1']))"
   ]
  },
  {
   "cell_type": "code",
   "execution_count": null,
   "id": "7a647196-c02b-4e4f-91bc-489f97a7ff22",
   "metadata": {},
   "outputs": [],
   "source": [
    "stations_sel[['f1', 'recall', 'precision']].describe()"
   ]
  },
  {
   "cell_type": "code",
   "execution_count": null,
   "id": "a1e28aeb-6bd8-444b-8171-04ec1c538302",
   "metadata": {},
   "outputs": [],
   "source": [
    "im = plt.scatter(stations_sel.LisfloodX, stations_sel.LisfloodY, s=stations_sel['DrainingArea.km2.LDD'] / 1000,\n",
    "                 c=stations_sel.recall, cmap='virireanalysis', vmin=0, vmax=1)\n",
    "plt.colorbar(im);"
   ]
  },
  {
   "cell_type": "code",
   "execution_count": null,
   "id": "6670ab47-a6c8-46b9-b227-3a32bacaea6a",
   "metadata": {},
   "outputs": [],
   "source": [
    "stations_sel.loc[stations_sel.f1 == 0]"
   ]
  },
  {
   "cell_type": "code",
   "execution_count": null,
   "id": "6365bcbc-acd5-4b4a-a9bc-26d8ed4f9137",
   "metadata": {},
   "outputs": [],
   "source": [
    "stations_sel.to_csv(f'../data/stations_{catchment}.csv', float_format='%.3f')"
   ]
  },
  {
   "cell_type": "markdown",
   "id": "73953943-2066-49bf-9da2-4628d39dc3b8",
   "metadata": {},
   "source": [
    "For each station:\n",
    "1. Identify flood events.\n",
    "2"
   ]
  }
 ],
 "metadata": {
  "kernelspec": {
   "display_name": "Python 3 (ipykernel)",
   "language": "python",
   "name": "python3"
  },
  "language_info": {
   "codemirror_mode": {
    "name": "ipython",
    "version": 3
   },
   "file_extension": ".py",
   "mimetype": "text/x-python",
   "name": "python",
   "nbconvert_exporter": "python",
   "pygments_lexer": "ipython3",
   "version": "3.9.13"
  }
 },
 "nbformat": 4,
 "nbformat_minor": 5
}
