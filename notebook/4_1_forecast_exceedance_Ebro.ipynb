{
 "cells": [
  {
   "cell_type": "markdown",
   "id": "5fd5f453-13c1-47c1-ad27-8af80b47ee08",
   "metadata": {},
   "source": [
    "# Forecast\n",
    "***\n",
    "\n",
    "**Author**: Chus Casado<br>\n",
    "**Date**: 19-01-2023<br>\n",
    "\n",
    "**Introduction**:<br>\n",
    "\n",
    "\n",
    "**Questions**:<br>\n",
    "* The ECMWF ensemble forecast hast only 15 timesteps (aprox. 5 days), instead of 10 days.\n",
    "* The forecasts from DWD and EUD the 2018-06-20 12:00:00 is missing.\n",
    "* How to remove temporal autocorrelation?\n",
    "* See if floods were ever notified?\n",
    "\n",
    "**Tasks to do**:<br>\n",
    "\n",
    "- [ ] Find how many formal notifications would have been sent.\n",
    "\n",
    "**Interesting links**<br>\n",
    "[Pythonic way to perform statistics across multiple variables with Xarray](https://towardsdatascience.com/pythonic-way-to-perform-statistics-across-multiple-variables-with-xarray-d0221c78e34a)"
   ]
  },
  {
   "cell_type": "code",
   "execution_count": 1,
   "id": "a4ee7a0f-f62b-4a8b-8147-c46a2e2471ae",
   "metadata": {},
   "outputs": [],
   "source": [
    "import os\n",
    "import glob\n",
    "import numpy as np\n",
    "import pandas as pd\n",
    "import xarray as xr\n",
    "import matplotlib.pyplot as plt\n",
    "import matplotlib.gridspec as gridspec\n",
    "import cartopy.crs as ccrs\n",
    "import cartopy.feature as cf\n",
    "from datetime import datetime, timedelta\n",
    "import seaborn as sns\n",
    "from sklearn.metrics import f1_score, recall_score, precision_score, confusion_matrix\n",
    "\n",
    "path_root = os.getcwd()\n",
    "path_forecast = '../data/CDS/forecast/'\n",
    "\n",
    "import warnings\n",
    "warnings.filterwarnings(\"ignore\")\n",
    "\n",
    "os.environ['USE_PYGEOS'] = '0'\n",
    "import geopandas as gpd\n",
    "\n",
    "os.chdir('../py/')\n",
    "from notifications import *\n",
    "os.chdir(path_root)"
   ]
  },
  {
   "cell_type": "markdown",
   "id": "b9ca1667-e5d2-45fb-83a1-647f9c9c4e7a",
   "metadata": {},
   "source": [
    "# 1 Data"
   ]
  },
  {
   "cell_type": "code",
   "execution_count": 2,
   "id": "6f59d008-a915-4cdb-90e1-48ddd1bcb6da",
   "metadata": {},
   "outputs": [],
   "source": [
    "catchment = 'Ebro'\n",
    "\n",
    "# shapefile with rivers\n",
    "rivers = gpd.read_file(f'../data/GIS/A3RIOS_{catchment}.shp')"
   ]
  },
  {
   "cell_type": "markdown",
   "id": "3b284a86-2d64-4907-a259-e3c67b6de2d5",
   "metadata": {},
   "source": [
    "### 1.1 Stations "
   ]
  },
  {
   "cell_type": "code",
   "execution_count": 3,
   "id": "1ad2ba6a-e095-4c1c-8f2c-3738dee497be",
   "metadata": {},
   "outputs": [
    {
     "name": "stdout",
     "output_type": "stream",
     "text": [
      "no. stations:\t50\n"
     ]
    }
   ],
   "source": [
    "# load selected points\n",
    "stations = pd.read_csv(f'results/{catchment}/points_selected.csv', index_col='station_id')\n",
    "print('no. stations:\\t{0}'.format(stations.shape[0]))"
   ]
  },
  {
   "cell_type": "markdown",
   "id": "d6ec6de5-35d0-4e78-a74d-0b9cc867050c",
   "metadata": {},
   "source": [
    "### 1.2 Discharge forecast\n",
    "\n",
    "#### List available data"
   ]
  },
  {
   "cell_type": "code",
   "execution_count": 5,
   "id": "8cc96c95-c6ab-40ec-b54b-1e9993280b3b",
   "metadata": {},
   "outputs": [],
   "source": [
    "models = ['COS', 'DWD', 'EUD', 'EUE']"
   ]
  },
  {
   "cell_type": "code",
   "execution_count": 6,
   "id": "ab2a31eb-ecdc-4dac-8a65-15e1b212b1d3",
   "metadata": {},
   "outputs": [
    {
     "name": "stdout",
     "output_type": "stream",
     "text": [
      "mising files: {'COS': [], 'DWD': [], 'EUD': [], 'EUE': []}\n",
      "COS:\t730 files\n",
      "DWD:\t730 files\n",
      "EUD:\t730 files\n",
      "EUE:\t730 files\n"
     ]
    }
   ],
   "source": [
    "# list files\n",
    "fore_files = {model: [] for model in models}\n",
    "for year in [2020, 2021, 2022]:\n",
    "    for month in range(1, 13):    \n",
    "        # list files\n",
    "        for model in models:\n",
    "            fore_files[model] += glob.glob(f'{path_forecast}{model}/{year}/{month:02d}/*.nc')\n",
    "\n",
    "# count files and check if all are avaible\n",
    "n_files = pd.Series(data=[len(fore_files[model]) for model in models], index=models)\n",
    "\n",
    "# list of forecast from the beginning to the end of the data\n",
    "start, end = datetime(1900, 1, 1), datetime(2100, 1, 1)\n",
    "for model in models:\n",
    "    st, en = [datetime.strptime(fore_files[model][step][-13:-3], '%Y%m%d%H') for step in [0, -1]]\n",
    "    start = max(st, start)\n",
    "    end = min(en, end)\n",
    "dates = pd.date_range(start, end, freq='12h')\n",
    "\n",
    "# find missing files\n",
    "if any(n_files != len(dates)):\n",
    "    missing = {}\n",
    "    for model in models:\n",
    "        filedates = [datetime.strptime(file[-13:-3], '%Y%m%d%H') for file in fore_files[model]]    \n",
    "        missing[model] = [date for date in dates if date not in filedates]\n",
    "    print('mising files:', missing)\n",
    "\n",
    "# trim files to the period where all models are available\n",
    "for model in models:\n",
    "    fore_files[model] = [file for file in fore_files[model] if start <= datetime.strptime(file[-13:-3], '%Y%m%d%H') <= end]\n",
    "    print('{0}:\\t{1} files'.format(model, len(fore_files[model])))"
   ]
  },
  {
   "cell_type": "markdown",
   "id": "7b836cce-6600-4d18-907f-c7d5730791de",
   "metadata": {},
   "source": [
    "### 1.3 Discharge reanalysis"
   ]
  },
  {
   "cell_type": "code",
   "execution_count": 7,
   "id": "1053101a-f8a6-43e3-bec6-f4ad18887dd8",
   "metadata": {},
   "outputs": [
    {
     "name": "stdout",
     "output_type": "stream",
     "text": [
      "Reanalysis timeseries:\n",
      "1459\ttimesteps\n",
      "50\tstations\n"
     ]
    }
   ],
   "source": [
    "# load discharge reanalysis data\n",
    "rean_files = glob.glob(f'../data/CDS/reanalysis/*202*.csv')\n",
    "if 'reanalysis' in locals():\n",
    "    del reanalysis\n",
    "for file in rean_files:\n",
    "    temp = pd.read_csv(file, parse_dates=True, index_col=0)\n",
    "    if 'reanalysis' in locals():\n",
    "        reanalysis = pd.concat((reanalysis, temp), axis=0)\n",
    "    else:\n",
    "        reanalysis = temp.copy()\n",
    "    del temp\n",
    "\n",
    "# cut the timeseries from 14-10-2020 12 pm and the selected reporting points\n",
    "reanalysis.columns = reanalysis.columns.astype(int)\n",
    "reanalysis = reanalysis.loc[start:end, stations.index]\n",
    "\n",
    "print('Reanalysis timeseries:\\n{0}\\ttimesteps\\n{1}\\tstations'.format(*reanalysis.shape))"
   ]
  },
  {
   "cell_type": "markdown",
   "id": "2eb4b874-c34c-4cd0-a3cd-b1b268fc3ecf",
   "metadata": {},
   "source": [
    "## 2 Analysis\n",
    "\n",
    "### 2.1 Flood events in the reanalysis data"
   ]
  },
  {
   "cell_type": "code",
   "execution_count": 9,
   "id": "64e9e606-2a9e-4134-aaef-52e36b1024ff",
   "metadata": {},
   "outputs": [
    {
     "name": "stdout",
     "output_type": "stream",
     "text": [
      "no. stations with events:\t15\n",
      "total no. events:\t\t20\n"
     ]
    },
    {
     "data": {
      "image/png": "[encoded data removed]",
      "text/plain": [
       "<Figure size 1200x400 with 1 Axes>"
      ]
     },
     "metadata": {},
     "output_type": "display_data"
    }
   ],
   "source": [
    "# compute exceedances of the discharge threshold\n",
    "rean_exc = (reanalysis > stations.rl5).astype(int)\n",
    "rean_events = rean_exc.diff() == 1\n",
    "# compute number of events in each station\n",
    "stations['n_events_5'] = rean_events.sum(axis=0)\n",
    "\n",
    "print('no. stations with events:\\t{0}'.format(stations.loc[stations.n_events_5 > 0, :].shape[0]))\n",
    "print('total no. events:\\t\\t{0}'.format(stations.n_events_5.sum()))\n",
    "\n",
    "thrs = ['rl5', 'rl20']\n",
    "figsize = (12, 4)\n",
    "exceedances_timeline(reanalysis, stations, thresholds=thrs, figsize=figsize, grid=True, title=f'reanalysis {catchment}')"
   ]
  },
  {
   "cell_type": "code",
   "execution_count": 12,
   "id": "d2b01561-a620-4685-90c1-d42c1cca4893",
   "metadata": {},
   "outputs": [
    {
     "name": "stdout",
     "output_type": "stream",
     "text": [
      "Station 4627 - 3 events: [Timestamp('2021-12-03 00:00:00'), Timestamp('2021-12-05 06:00:00'), Timestamp('2021-12-09 12:00:00')]\n"
     ]
    },
    {
     "data": {
      "image/png": "[encoded data removed]",
      "text/plain": [
       "<Figure size 1600x300 with 1 Axes>"
      ]
     },
     "metadata": {},
     "output_type": "display_data"
    }
   ],
   "source": [
    "# list of stations with events\n",
    "stns = rean_events.loc[rean_events.any(axis=1), rean_events.any(axis=0)].columns.tolist()\n",
    "# station with more events\n",
    "stn = rean_events[stns].sum().idxmax()\n",
    "\n",
    "# list of the onset of events in that station\n",
    "mask = (rean_events[stn].astype(int).diff() == 1)\n",
    "events = rean_events.index[mask].tolist()\n",
    "\n",
    "print('Station {0} - {1} events: {2}'.format(stn, len(events), events))\n",
    "\n",
    "title = '{0} - {1} ({2}) - {3:.0f} km2 ({4:.0f})'.format(stn, *stations.loc[stn, ['river', 'subcatchment', 'area', 'pfafstetter']])\n",
    "plot_events_timeseries(reanalysis[stn], rean_events[stn], thresholds=stations.loc[stn, ['rl1.5', 'rl2', 'rl5', 'rl20']],\n",
    "                       title=title)"
   ]
  },
  {
   "cell_type": "markdown",
   "id": "31d30099-20a5-41c6-8c8d-d80751c43d8a",
   "metadata": {},
   "source": [
    "### 2.2 Flood events in the reforecast data"
   ]
  },
  {
   "cell_type": "code",
   "execution_count": 13,
   "id": "78cdee98-43ba-4412-add7-7660720ca531",
   "metadata": {},
   "outputs": [
    {
     "name": "stdout",
     "output_type": "stream",
     "text": [
      "Station  636 (  50 of   50) - EUE\r"
     ]
    }
   ],
   "source": [
    "n_stations = stations.shape[0]\n",
    "path = f'../data/exceedance/forecast/'\n",
    "\n",
    "for i, stn in enumerate(stations.index):    \n",
    "    \n",
    "    file = f'{stn:04d}.nc'\n",
    "    if file in os.listdir(path):\n",
    "        print(f'File {file} already exists')\n",
    "        continue\n",
    "            \n",
    "    dct = {}\n",
    "    for model in models:\n",
    "        \n",
    "        print(f'Station {stn:>4d} ({i+1:>4d} of {n_stations:>4d}) - {model}', end='\\r')\n",
    "        \n",
    "        # compute exceedance of discharge threshold\n",
    "        exceedance = compute_exceedance(fore_files[model], str(stn), stations.loc[stn, 'rl5'])\n",
    "        # limit to 10 days leadtime\n",
    "        if len(exceedance.leadtime) > 41:\n",
    "            exceedance = exceedance.isel(leadtime=slice(0, 41))\n",
    "        # if probabilistic, compute probability of exceedance\n",
    "        if 'member' in exceedance.dims:\n",
    "            dct[model] = exceedance.mean('member')\n",
    "        else:\n",
    "            dct[model] = exceedance\n",
    "    \n",
    "    # convert exceedance data into a Dataset\n",
    "    ds = xr.Dataset(dct, coords={'forecast': dct['EUE'].forecast, 'leadtime': dct['EUE'].leadtime})\n",
    "\n",
    "    # convert the dataset into a DataArray in which models is a dimension instead of different variables\n",
    "    da_list = [ds[model].expand_dims('model', axis=0).assign_coords(model=[model]).rename('exceedance') for model in models]\n",
    "    da = xr.merge(da_list)['exceedance']\n",
    "    \n",
    "    # export as NetCDF\n",
    "    da.to_netcdf(f'{path}{file}')"
   ]
  },
  {
   "cell_type": "code",
   "execution_count": null,
   "id": "22f639e5-025d-47fb-a567-efbb896d0c02",
   "metadata": {},
   "outputs": [],
   "source": [
    "stn = stns[0]\n",
    "\n",
    "fore_exc = {}\n",
    "members = []\n",
    "leadtimes = []\n",
    "for model in models:\n",
    "    # compute exceedance of discharge threshold\n",
    "    exceedance = compute_exceedance(fore_files[model], str(stn), stations.loc[stn, 'rl5'])\n",
    "    # limit to 10 days leadtime\n",
    "    if len(exceedance.leadtime) > 41:\n",
    "        exceedance = exceedance.isel(leadtime=slice(0, 41))\n",
    "    # if probabilistic, compute probability of exceedance\n",
    "    if 'member' in exceedance.dims:\n",
    "        fore_exc[model] = exceedance.mean('member')\n",
    "        members.append(len(exceedance.member))\n",
    "    else:\n",
    "        fore_exc[model] = exceedance\n",
    "        members.append(1)\n",
    "    leadtimes.append(len(exceedance.leadtime))"
   ]
  },
  {
   "cell_type": "code",
   "execution_count": null,
   "id": "c6ff7587-8b4a-4246-917f-1ca7477a1ab1",
   "metadata": {},
   "outputs": [],
   "source": [
    "# convert exceedance data into a Dataset\n",
    "fore_exc_ds = xr.Dataset(fore_exc, coords={'forecast': fore_exc['EUE'].forecast, 'leadtime': fore_exc['EUE'].leadtime})\n",
    "\n",
    "# convert the dataset into a DataArray in which models is a dimension instead of different variables\n",
    "da_list = [fore_exc_ds[model].expand_dims('model', axis=0).assign_coords(model=[model]).rename('exceedance') for model in models]\n",
    "fore_exc_da = xr.merge(da_list)['exceedance']"
   ]
  },
  {
   "cell_type": "code",
   "execution_count": null,
   "id": "199fd6ec-90e9-48c5-94a6-503ea3025df2",
   "metadata": {},
   "outputs": [],
   "source": [
    "# DataArray with weights for each model and leadtime\n",
    "weights = np.zeros((len(models), max(leadtimes)))\n",
    "for i, (model, member, leadtime) in enumerate(zip(models, members, leadtimes)):\n",
    "    weights[i,:leadtime] = member\n",
    "weights = xr.DataArray(weights, coords={'model': models, 'leadtime': fore_exc_da.leadtime})"
   ]
  },
  {
   "cell_type": "code",
   "execution_count": null,
   "id": "20f3b4f1-3662-47a3-9dcc-5a7e6c33fe8d",
   "metadata": {},
   "outputs": [],
   "source": [
    "# setup the plot\n",
    "nrows = len(models) + 2\n",
    "fig, axes = plt.subplots(nrows=nrows, figsize=(16, 4 * nrows), sharey=True, sharex=True)\n",
    "\n",
    "# each NWP model\n",
    "for ax, model in zip(axes, fore_exc_da.model.data):\n",
    "    heatmap_forecast(fore_exc_da.sel(model=model), events=events, title=model, label='exceedance probability (-)', ax=ax)\n",
    "    \n",
    "# mean across equally-weighted models\n",
    "model_mean = fore_exc_da.mean('model')\n",
    "heatmap_forecast(model_mean, events=events, title='model mean', label='exceedance probability (-)', ax=axes[-2])\n",
    "\n",
    "# weighted-mean across models\n",
    "weighted_mean = fore_exc_da.weighted(weights).mean('model')\n",
    "heatmap_forecast(weighted_mean, events=events, title='weighted mean', label='exceedance probability (-)', ax=axes[-1])"
   ]
  },
  {
   "cell_type": "markdown",
   "id": "a2c9a1f0-2e0d-475a-9b19-cc35c9ff5b6b",
   "metadata": {},
   "source": [
    "### 2.3 Prediction skill"
   ]
  },
  {
   "cell_type": "code",
   "execution_count": null,
   "id": "8c56f0bd-789b-4cd0-9ffc-b0f8597c9737",
   "metadata": {},
   "outputs": [],
   "source": [
    "# probability threshold\n",
    "p_thr = .3"
   ]
  },
  {
   "cell_type": "code",
   "execution_count": null,
   "id": "8ef95acd-224d-4bf4-b34d-b043772a73c9",
   "metadata": {},
   "outputs": [],
   "source": [
    "# dataset where all criteria will ve saved\n",
    "criteria = xr.Dataset(coords={'forecast': fore_exc_da.forecast, 'leadtime': fore_exc_da.leadtime})\n",
    "\n",
    "# find where the deterministic criteria was fulfilled\n",
    "criteria['deterministic'] = fore_exc_da.sel(model=['DWD', 'EUD']).sum('model')\n",
    "# find where the probabilistic criteria was fulfilled\n",
    "criteria['probabilistic'] = ((fore_exc_da.sel(model='COS') > p_thr).astype(int) + (fore_exc_da.sel(model='EUE') > p_thr).astype(int))\n",
    "# find where both the deterministic and the probabilistic criteria was fulfilled\n",
    "criteria['current'] = ((criteria['deterministic'] >= 1) & (criteria['probabilistic'] >= 1))#.astype(int)\n",
    "# find where the model mean exceeds the probability threshold\n",
    "criteria['model_mean'] = (model_mean > p_thr)#.astype(int)\n",
    "# find where the grand ensemble exceeds the probability threshold\n",
    "criteria['grand_ensemble'] = (weighted_mean > p_thr)#.astype(int)\n",
    "\n",
    "# plot\n",
    "for variable, da in criteria.data_vars.items():\n",
    "    if variable in ['deterministic', 'probabilistic']:\n",
    "        label, vmax = 'no. models (-)', 2\n",
    "    else:\n",
    "        label, vmax = None, 1\n",
    "    heatmap_forecast(da, events, vmin=0, vmax=vmax, title=variable, label=label)"
   ]
  },
  {
   "cell_type": "code",
   "execution_count": null,
   "id": "2abe1bbf-e309-4570-8cf6-87e27b0df622",
   "metadata": {},
   "outputs": [],
   "source": [
    "# create DataArray of the occurrence of events\n",
    "events_da = dataarray_events(events, fore_exc_da.forecast, fore_exc_da.leadtime)\n",
    "\n",
    "fig, ax = plt.subplots(figsize=(16, 4))\n",
    "# heatmap_forecast(criteria['current'], events, vmax=1, title='notifications according to weighted mean', ax=ax)\n",
    "heatmap_forecast(events_da, cmap='Reds', vmax=2, alpha=.1, cbar=False, ax=ax);"
   ]
  },
  {
   "cell_type": "code",
   "execution_count": null,
   "id": "78780784-718d-441b-ab5a-923bd6be0fcc",
   "metadata": {},
   "outputs": [],
   "source": [
    "notification = xr.Dataset(coords=criteria.coords)\n",
    "for variable in ['current', 'model_mean', 'grand_ensemble']:\n",
    "    \n",
    "    da = criteria[variable]\n",
    "    \n",
    "    # find first leadtime that exceeds the threshold for each event\n",
    "    steps = da.astype(int).diff('leadtime') == 1\n",
    "    step1 = da.isel(leadtime=0)\n",
    "    # steps.loc[step1] = False\n",
    "    notification[variable] = xr.concat((step1, steps), 'leadtime')\n",
    "\n",
    "# plot\n",
    "for variable, da in notification.data_vars.items():\n",
    "    heatmap_forecast(da, events, vmin=0, vmax=1, title=variable, label='notification')"
   ]
  },
  {
   "cell_type": "code",
   "execution_count": null,
   "id": "d07913a7-3dd3-455e-b361-852a48bd78fb",
   "metadata": {},
   "outputs": [],
   "source": [
    "compute_performance(notification, events_da)"
   ]
  },
  {
   "cell_type": "markdown",
   "id": "6a1b0aa6-fc90-4921-83a9-4978e164f97d",
   "metadata": {},
   "source": [
    "**Daily resample**"
   ]
  },
  {
   "cell_type": "code",
   "execution_count": null,
   "id": "7b02ff4b-67b9-4811-8c0b-2e3bd79b3be5",
   "metadata": {},
   "outputs": [],
   "source": [
    "resample_dict = {'leadtime': 'd'}\n",
    "events_daily = events_da.resample(resample_dict).any()\n",
    "notification_d = xr.Dataset({variable: da.resample(resample_dict).any() for variable, da in notification.data_vars.items()})\n",
    "notification_d = xr.Dataset(notification_d)"
   ]
  },
  {
   "cell_type": "code",
   "execution_count": null,
   "id": "6018454f-8a0c-4803-adc3-a0275e7d37bd",
   "metadata": {},
   "outputs": [],
   "source": [
    "fig, axes = plt.subplots(nrows=3, figsize=(16, 12), sharex=True)\n",
    "for ax, (variable, da) in zip(axes, notification_d.data_vars.items()):\n",
    "    heatmap_forecast(da, events, leadtime_grid=1, title=variable, ax=ax)\n",
    "    #heatmap_forecast(events_daily, vmax=2, cmap='Reds', alpha=.1, leadtime_grid=1, cbar=False, ax=ax)"
   ]
  },
  {
   "cell_type": "code",
   "execution_count": null,
   "id": "2c807e50-06a9-42c4-902e-4ae1523f91da",
   "metadata": {},
   "outputs": [],
   "source": [
    "compute_performance(notification_d, events_daily)"
   ]
  },
  {
   "cell_type": "markdown",
   "id": "d66f755e-38ed-4ca2-bca9-209b44676098",
   "metadata": {},
   "source": [
    "**Rolling sum**"
   ]
  },
  {
   "cell_type": "code",
   "execution_count": null,
   "id": "b4adb003-3f8a-41f2-b474-07edbcd792d9",
   "metadata": {},
   "outputs": [],
   "source": [
    "w = 5\n",
    "rolling_dict = {'leadtime': w}\n",
    "mp = int(w / 2) + 1\n",
    "notification_r = xr.Dataset({var: da.rolling(rolling_dict, center=True, min_periods=mp).sum() > 0 for var, da in notification.data_vars.items()})\n",
    "events_r = events_da.rolling(rolling_dict, center=True, min_periods=mp).sum() > 0"
   ]
  },
  {
   "cell_type": "code",
   "execution_count": null,
   "id": "0b6752eb-dd1f-4c23-a900-490ad8da8c87",
   "metadata": {},
   "outputs": [],
   "source": [
    "fig, axes = plt.subplots(nrows=3, figsize=(16, 12), sharex=True)\n",
    "for ax, (variable, da) in zip(axes, notification_r.data_vars.items()):\n",
    "    heatmap_forecast(da, events=None, vmax=2, title=variable, ax=ax)\n",
    "    heatmap_forecast(events_da, vmax=2, cmap='Reds', alpha=.5, cbar=False, ax=ax)"
   ]
  },
  {
   "cell_type": "code",
   "execution_count": null,
   "id": "1a082c5b-e335-45dc-9e45-7f31784d44b3",
   "metadata": {},
   "outputs": [],
   "source": [
    "compute_performance(notification_r, events_da)"
   ]
  },
  {
   "cell_type": "code",
   "execution_count": null,
   "id": "cc63be6d-8094-4039-a0f0-a6c9bd07ec9e",
   "metadata": {},
   "outputs": [],
   "source": [
    "compute_performance(notification_r, events_r)"
   ]
  },
  {
   "cell_type": "code",
   "execution_count": null,
   "id": "b954a240-a2b1-4249-8ee2-d08e8596769e",
   "metadata": {},
   "outputs": [],
   "source": [
    "events_da.sum('leadtime')"
   ]
  },
  {
   "cell_type": "code",
   "execution_count": null,
   "id": "4dc1adfb-c61f-4618-a082-b7d7df8c2a02",
   "metadata": {},
   "outputs": [],
   "source": [
    "ev = events_da.isel(forecast=i)"
   ]
  },
  {
   "cell_type": "code",
   "execution_count": null,
   "id": "eda42699-d4d1-4d98-979e-127fef9ebf34",
   "metadata": {},
   "outputs": [],
   "source": [
    "da = notification['model_mean']\n",
    "da.sum('leadtime')"
   ]
  },
  {
   "cell_type": "code",
   "execution_count": null,
   "id": "ef2622c4-2624-4d94-8364-cbec79efd02b",
   "metadata": {},
   "outputs": [],
   "source": [
    "i = 47"
   ]
  },
  {
   "cell_type": "code",
   "execution_count": null,
   "id": "5a72a6eb-bf25-46e9-b80c-ae27bf0ebcd5",
   "metadata": {},
   "outputs": [],
   "source": [
    "y_true = events_da.isel(forecast=i).data.astype(float)\n",
    "\n",
    "y_pred1 = da.isel(forecast=i).data.astype(float)\n",
    "cm1 = confusion_matrix(y_true, y_pred1)"
   ]
  },
  {
   "cell_type": "code",
   "execution_count": null,
   "id": "99108819-9a35-45b6-ba09-f53944c61f79",
   "metadata": {},
   "outputs": [],
   "source": [
    "y_pred0 = da.isel(forecast=i).shift(leadtime=1).data.astype(float)\n",
    "y_pred0[0] = 0\n",
    "cm0 = confusion_matrix(y_true, y_pred0)"
   ]
  },
  {
   "cell_type": "code",
   "execution_count": null,
   "id": "06d67605-ff83-49bd-a95f-f92829fe7860",
   "metadata": {},
   "outputs": [],
   "source": [
    "y_pred2 = da.isel(forecast=i).shift(leadtime=-1).data.astype(float)\n",
    "y_pred2[-1] = 0\n",
    "cm2 = confusion_matrix(y_true, y_pred2)"
   ]
  },
  {
   "cell_type": "code",
   "execution_count": null,
   "id": "7e4439a1-becc-476a-8443-04ce514f0ce8",
   "metadata": {},
   "outputs": [],
   "source": [
    "np.max(cm0, cm1, cm2)"
   ]
  },
  {
   "cell_type": "code",
   "execution_count": null,
   "id": "9a8b1cef-8711-44a3-bd10-e6d4baa822c8",
   "metadata": {},
   "outputs": [],
   "source": [
    "# tmp = xr.DataArray([[0, 0, 1], [0, 1, 0], [1, 0, 0]], coords={'x': [1, 2, 3], 'y': [1, 2, 3]})\n",
    "# tmp\n",
    "\n",
    "# tmp.diff('y', label='upper')\n",
    "\n",
    "# tmp.diff('y', label='lower')"
   ]
  },
  {
   "cell_type": "code",
   "execution_count": null,
   "id": "e60235bf-a870-43d3-8aaf-ce4cf5a55fc5",
   "metadata": {},
   "outputs": [],
   "source": []
  },
  {
   "cell_type": "code",
   "execution_count": null,
   "id": "38b6a2a5-af85-42d3-8452-6e532e42b451",
   "metadata": {},
   "outputs": [],
   "source": []
  },
  {
   "cell_type": "code",
   "execution_count": null,
   "id": "36a0dd16-689a-49bb-a9b0-0212c60976f2",
   "metadata": {},
   "outputs": [],
   "source": []
  },
  {
   "cell_type": "code",
   "execution_count": null,
   "id": "fd4fee23-012f-496d-a7d3-ed74c8118710",
   "metadata": {},
   "outputs": [],
   "source": []
  },
  {
   "cell_type": "code",
   "execution_count": null,
   "id": "0fe10916-f72e-4d33-9943-beea35c4ef16",
   "metadata": {},
   "outputs": [],
   "source": []
  },
  {
   "cell_type": "code",
   "execution_count": null,
   "id": "40c912d2-1b3b-4f36-a89f-9ee0ceded704",
   "metadata": {},
   "outputs": [],
   "source": []
  },
  {
   "cell_type": "markdown",
   "id": "b5127ad9-de26-4952-b0ae-5813f8cd69d4",
   "metadata": {},
   "source": [
    "## Compute formal notifications\n",
    "\n",
    "* One probabilistic forecast (_EUE_ or _COSMO_) exceeds Q5:\n",
    "    * With a probability of exceedance $\\geq 30 \\%$\n",
    "    * In 3 consecutive forecasts\n",
    "* One deterministic forecasts (_EUD_ or _DWD_) exceeds Q5\n",
    "* Catchment area $\\geq 2000 km^2$\n",
    "* Lead time $\\geq 48 h$"
   ]
  },
  {
   "cell_type": "code",
   "execution_count": null,
   "id": "406e4506-0df3-4baf-8a78-faa7e7182cec",
   "metadata": {},
   "outputs": [],
   "source": [
    "stations_sel[['f1', 'recall', 'precision']] = np.nan\n",
    "for i, (stn, Q5) in enumerate(zip(stations_sel.index, stations_sel.Q5)):\n",
    "\n",
    "    ### REFORECAST\n",
    "\n",
    "    # compute exceedance of Q5\n",
    "    fore_exc = {model: compute_exceedance(files[model], stn, Q5) for model in models}\n",
    "    # compute formal notifications\n",
    "    notifications = compute_notifications(fore_exc, leadtime=4, probability=.3, persistence=3)\n",
    "\n",
    "    ### REANALYSIS\n",
    "\n",
    "    # Compute exceedance\n",
    "    rea_exc = (reanalysis[stn] >= Q5).astype(int)\n",
    "\n",
    "    # check if there was an event in each of the forecast windows\n",
    "    events = []\n",
    "    for forecast in notifications.forecast.values:\n",
    "        start = forecast\n",
    "        end = start + np.timedelta64(10, 'D')\n",
    "        events.append(rea_exc[start:end].any())\n",
    "    events = xr.DataArray(events, dims='forecast', coords={'forecast': notifications.forecast})\n",
    "\n",
    "    # SKILL\n",
    "    stations_sel.loc[stn, 'f1'] = f1_score(events, notifications)\n",
    "    stations_sel.loc[stn, 'recall'] = recall_score(events, notifications)\n",
    "    stations_sel.loc[stn, 'precision'] = precision_score(events, notifications)\n",
    "    \n",
    "    print('station {0:<3} of {1:<3} | {2:>4}:\\t{3:.3f}'.format(i + 1, stations_sel.shape[0], stn, stations_sel.loc[stn, 'f1']))"
   ]
  },
  {
   "cell_type": "code",
   "execution_count": null,
   "id": "7a647196-c02b-4e4f-91bc-489f97a7ff22",
   "metadata": {},
   "outputs": [],
   "source": [
    "stations_sel[['f1', 'recall', 'precision']].describe()"
   ]
  },
  {
   "cell_type": "code",
   "execution_count": null,
   "id": "a1e28aeb-6bd8-444b-8171-04ec1c538302",
   "metadata": {},
   "outputs": [],
   "source": [
    "im = plt.scatter(stations_sel.LisfloodX, stations_sel.LisfloodY, s=stations_sel['DrainingArea.km2.LDD'] / 1000,\n",
    "                 c=stations_sel.recall, cmap='virireanalysis', vmin=0, vmax=1)\n",
    "plt.colorbar(im);"
   ]
  },
  {
   "cell_type": "code",
   "execution_count": null,
   "id": "6670ab47-a6c8-46b9-b227-3a32bacaea6a",
   "metadata": {},
   "outputs": [],
   "source": [
    "stations_sel.loc[stations_sel.f1 == 0]"
   ]
  },
  {
   "cell_type": "code",
   "execution_count": null,
   "id": "6365bcbc-acd5-4b4a-a9bc-26d8ed4f9137",
   "metadata": {},
   "outputs": [],
   "source": [
    "stations_sel.to_csv(f'../data/stations_{catchment}.csv', float_format='%.3f')"
   ]
  },
  {
   "cell_type": "markdown",
   "id": "73953943-2066-49bf-9da2-4628d39dc3b8",
   "metadata": {},
   "source": [
    "For each station:\n",
    "1. Identify flood events.\n",
    "2"
   ]
  }
 ],
 "metadata": {
  "kernelspec": {
   "display_name": "Python 3 (ipykernel)",
   "language": "python",
   "name": "python3"
  },
  "language_info": {
   "codemirror_mode": {
    "name": "ipython",
    "version": 3
   },
   "file_extension": ".py",
   "mimetype": "text/x-python",
   "name": "python",
   "nbconvert_exporter": "python",
   "pygments_lexer": "ipython3",
   "version": "3.9.12"
  }
 },
 "nbformat": 4,
 "nbformat_minor": 5
}
