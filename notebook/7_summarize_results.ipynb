{
 "cells": [
  {
   "cell_type": "markdown",
   "id": "654baf6d-f8eb-49dc-a90d-d8dd284d451d",
   "metadata": {},
   "source": [
    "# Summarize skill results\n",
    "***\n",
    "\n",
    "**Author**: Chus Casado Rodríguez<br>\n",
    "**Date**: 082-08-2023<br>\n",
    "\n",
    "\n",
    "**Introduction**:<br>\n",
    "This notebook creates a table comparing the skill of the diverse notification criteria optimized for different f-scores."
   ]
  },
  {
   "cell_type": "code",
   "execution_count": 1,
   "id": "f417aff7-e56d-4497-8e8e-727ea08402f9",
   "metadata": {},
   "outputs": [],
   "source": [
    "import os\n",
    "path_root = os.getcwd()\n",
    "import glob\n",
    "import numpy as np\n",
    "import pandas as pd\n",
    "import xarray as xr\n",
    "# from datetime import datetime, timedelta\n",
    "import pickle\n",
    "import yaml\n",
    "import warnings\n",
    "warnings.filterwarnings(\"ignore\")\n",
    "\n",
    "os.chdir('../py/')\n",
    "from compute import hits2skill, limit_leadtime\n",
    "os.chdir(path_root)"
   ]
  },
  {
   "cell_type": "markdown",
   "id": "c1a899f4-7f7b-4404-a63e-f1344fa1f331",
   "metadata": {},
   "source": [
    "## 1 Configuration"
   ]
  },
  {
   "cell_type": "code",
   "execution_count": 2,
   "id": "2febe9c2-a0e7-441a-9c19-0109c3bd6aec",
   "metadata": {},
   "outputs": [],
   "source": [
    "config_file = '../conf/config_COMB_all_leadtimes.yml'\n",
    "# config_file = '../conf/config_COMB_leadtime_ranges.yml'\n",
    "# config_file = '../conf/config_COMB_daily.yml'\n",
    "# config_file = '../conf/config_NWP_all_leadtimes.yml'\n",
    "# config_file = '../conf/config_NWP_leadtime_ranges.yml'\n",
    "# config_file = '../conf/config_NWP_daily.yml'\n",
    "\n",
    "with open(config_file, \"r\", encoding='utf8') as ymlfile:\n",
    "    cfg = yaml.load(ymlfile, Loader=yaml.FullLoader)"
   ]
  },
  {
   "cell_type": "markdown",
   "id": "7e915052-7b61-41cc-981c-1b135c8b2357",
   "metadata": {},
   "source": [
    "### 1.1 Reporting points"
   ]
  },
  {
   "cell_type": "code",
   "execution_count": 3,
   "id": "ea338ed0-5ebe-4565-8f2c-e2398bc6c6bd",
   "metadata": {},
   "outputs": [],
   "source": [
    "# area threshold\n",
    "area_threshold = cfg.get('reporting_points', {}).get('area', 500)\n",
    "\n",
    "# reporting points\n",
    "path_stations = cfg.get('reporting_points', {}).get('output', '../results/reporting_points/')\n",
    "file_stations = f'{path_stations}reporting_points_over_{area_threshold}km2.parquet'\n",
    "\n",
    "# catchments\n",
    "catchments = cfg.get('reporting_points', {}).get('catchments', None)\n",
    "\n",
    "# minimum performance required from the reporting points\n",
    "min_kge = cfg.get('reporting_points', {}).get('KGE', None)"
   ]
  },
  {
   "cell_type": "markdown",
   "id": "d59b30d3-d313-4db6-b0f7-f4aa5acbf8b4",
   "metadata": {},
   "source": [
    "### 1.2 Hits"
   ]
  },
  {
   "cell_type": "code",
   "execution_count": 4,
   "id": "7ce26e71-7110-466e-bcd2-b2343ecf72d0",
   "metadata": {},
   "outputs": [],
   "source": [
    "# lead time ranges\n",
    "leadtime = cfg.get('hits', {}).get('leadtime', None)\n",
    "\n",
    "# parameters of the rolling window used to compute hits\n",
    "window = cfg.get('hits', {}).get('window', 1)\n",
    "\n",
    "# dissagregate the analysis by seasons?\n",
    "seasonality = cfg.get('hits', {}).get('seasonality', False)\n",
    "\n",
    "# path that contains the NetCDFs with hit, misses and false alarms pro\n",
    "path_in = cfg.get('hits', {}).get('output', '../results/hits/')\n",
    "path_in = f'{path_in}window_{window}/'"
   ]
  },
  {
   "cell_type": "code",
   "execution_count": 5,
   "id": "cbb3d619-c230-46b8-9c22-421153e36901",
   "metadata": {},
   "outputs": [],
   "source": [
    "# path that contains the NetCDFs with hit, misses and false alarms pro\n",
    "path_in = cfg.get('hits', {}).get('output', '../results/hits/')\n",
    "if leadtime is None:\n",
    "    folder = 'all_leadtimes'\n",
    "elif len(leadtime) == 10:\n",
    "    folder = 'daily'\n",
    "elif len(leadtime) == 20:\n",
    "    folder = '12h'\n",
    "else:\n",
    "    folder = '_'.join([str(lt + 12) for lt in leadtime])\n",
    "if 'COMB' in config_file:\n",
    "    path_in = f'{path_in}combination/{folder}/window_{window}/'\n",
    "elif 'NWP' in config_file:\n",
    "    path_in = f'{path_in}NWP/{folder}/window_{window}/'"
   ]
  },
  {
   "cell_type": "markdown",
   "id": "65389aa3-8726-45ee-adec-5930ce6c8fb9",
   "metadata": {},
   "source": [
    "### 1.3 Skill"
   ]
  },
  {
   "cell_type": "code",
   "execution_count": 6,
   "id": "a8b31a26-f636-4b02-a16f-0a1167e28a21",
   "metadata": {},
   "outputs": [],
   "source": [
    "# current operationa criteria\n",
    "current_criteria = cfg.get('skill', {}).get('current_criteria', None)\n",
    "\n",
    "# fixed notification criteria\n",
    "min_leadtime = cfg.get('skill', {}).get('leadtime', 60) \n",
    "min_area = cfg.get('skill', {}).get('area', 2000) \n",
    "\n",
    "# path where results will be saved\n",
    "path_out_root = cfg.get('skill', {}).get('output', f'../results/skill/')\n",
    "if 'COMB' in config_file:\n",
    "    path_out = f'{path_out_root}combination/{folder}/'\n",
    "elif 'NWP' in config_file:\n",
    "    path_out = f'{path_out_root}NWP/{folder}/'\n",
    "if min_kge is not None:\n",
    "    path_out = f'{path_out}window_{window}/kge_{min_kge}/'\n",
    "else:\n",
    "    path_out = f'{path_out}window_{window}/no_kge/'\n",
    "    \n",
    "# coefficient of the fbeta-score\n",
    "betas = [float(item[1:]) for item in os.listdir(path_out) if os.path.isdir(f'{path_out}{item}') and item.startswith('f')]\n",
    "betas = [1 if beta == 1.0 else beta for beta in betas]"
   ]
  },
  {
   "cell_type": "markdown",
   "id": "8827e1d7-7c0c-43de-b83f-4409dba98094",
   "metadata": {
    "tags": []
   },
   "source": [
    "## 2 Data\n",
    "\n",
    "### 2.1 Reporting points\n",
    "\n",
    "I load all the stations that where selected in a previous [notebook](3_0_select_stations.ipynb)."
   ]
  },
  {
   "cell_type": "code",
   "execution_count": 7,
   "id": "7758ac43-6d08-465c-913f-f09d2adc33f7",
   "metadata": {},
   "outputs": [
    {
     "name": "stdout",
     "output_type": "stream",
     "text": [
      "All points\n",
      "----------\n",
      "no. reporting points:\t\t1979\n",
      "no. stations with events:\t966\n",
      "no. observed events:\t\t1683\n",
      "\n",
      "Points selected for otimization\n",
      "-------------------------------\n",
      "no. reporting points:\t\t1239\n",
      "no. stations with events:\t562\n",
      "no. observed events:\t\t874\n"
     ]
    }
   ],
   "source": [
    "# load table of fixed reporting points\n",
    "stations = pd.read_parquet(file_stations)\n",
    "stations[['X', 'Y', 'area']] = stations[['X', 'Y', 'area']].astype(int)\n",
    "\n",
    "# select stations that belong to the selected catchments\n",
    "if catchments is not None:\n",
    "    if isinstance(catchments, list) is False:\n",
    "        catchments = [catchments]\n",
    "    stations = stations.loc[stations.catchment.isin(catchments),:]\n",
    "\n",
    "# remove points with a performance (KGE) lower than the established threshold\n",
    "if min_kge is not None:\n",
    "    mask_kge = ~(stations.KGE <= min_kge)\n",
    "    stations = stations.loc[mask_kge]\n",
    "else:\n",
    "    # remove station with erroneous behaviour\n",
    "    stations = stations.loc[~(stations.n_events_obs >= 6)]\n",
    "\n",
    "# mask stations with events\n",
    "stations_w_events = (stations.n_events_obs > 0)\n",
    "\n",
    "print('All points')\n",
    "print('----------')\n",
    "print(f'no. reporting points:\\t\\t{stations.shape[0]}')\n",
    "print('no. stations with events:\\t{0}'.format(stations_w_events.sum()))\n",
    "print('no. observed events:\\t\\t{0}'.format(stations.n_events_obs.sum()))\n",
    "\n",
    "# select stations according to catchment area\n",
    "if min_area > area_threshold:\n",
    "    stations_optimize = stations.loc[stations.area >= min_area].index\n",
    "else:\n",
    "    stations_optimize = stations.index\n",
    "\n",
    "print('\\nPoints selected for otimization')\n",
    "print('-------------------------------')\n",
    "print(f'no. reporting points:\\t\\t{len(stations_optimize)}')\n",
    "print('no. stations with events:\\t{0}'.format((stations.loc[stations_optimize, 'n_events_obs'] > 0).sum()))\n",
    "print('no. observed events:\\t\\t{0}'.format(stations.loc[stations_optimize, 'n_events_obs'].sum()))\n",
    "\n",
    "# suffix that will be used when saving plots\n",
    "suffix = f'{min_area}km2_{len(stations_optimize)}points'"
   ]
  },
  {
   "cell_type": "markdown",
   "id": "8c959c12-b037-40a9-aa8e-62cb4e4e2803",
   "metadata": {
    "tags": []
   },
   "source": [
    "### 2.2 Hits, misses and false alarms"
   ]
  },
  {
   "cell_type": "code",
   "execution_count": 8,
   "id": "6926cdde-578c-40b7-884d-e493da060be1",
   "metadata": {},
   "outputs": [],
   "source": [
    "# import hits for each station\n",
    "hits_stn = xr.open_mfdataset(f'{path_in}*.nc', combine='nested', concat_dim='id')\n",
    "\n",
    "# extract selected stations\n",
    "hits_stn = hits_stn.sel(id=stations.index.to_list()).compute()\n",
    "\n",
    "# convert to NaN lead times that can't be reached due to model limitations or persistence\n",
    "hits_stn = limit_leadtime(hits_stn)\n",
    "\n",
    "# subset of the 'hits' dataset with the stations selected for the optimization\n",
    "if min_leadtime is None:\n",
    "    hits_opt = hits_stn.sel(id=stations_optimize).sum('id', skipna=False)\n",
    "else:\n",
    "    hits_opt = hits_stn.sel(id=stations_optimize, leadtime=min_leadtime).sum('id', skipna=False)\n",
    "\n",
    "if 'approach' in hits_stn.dims:\n",
    "    dim = 'approach'\n",
    "elif 'model' in hits_stn.dims:\n",
    "    dim = 'model'"
   ]
  },
  {
   "cell_type": "markdown",
   "id": "53af8555-835c-4d54-a967-b530054a5cb2",
   "metadata": {},
   "source": [
    "## 3 Analysis\n",
    "\n",
    "In this section I will compute the skill of the EFAS predictions in different ways. In all the following sections I will work with three metrics: $recall$, $precision$ and the $f_{beta}$ score. The three metrics are based in the contingency table of hits ($TP$ for true positives), false alarms ($FP$ for false positives) and misses ($FN$ for false negatives).\n",
    "\n",
    "$$recall = \\frac{TP}{TP + FN}$$\n",
    "$$precision = \\frac{TP}{TP + FP}$$\n",
    "$$f_{beta} = \\frac{(1 + \\beta^2) \\cdot TP}{(1 + \\beta^2) \\cdot TP + \\beta^2 \\cdot FN + FP}$$\n"
   ]
  },
  {
   "cell_type": "markdown",
   "id": "7bfdfc6d-19a1-4cdf-81e2-27dc2c7b3a24",
   "metadata": {
    "tags": []
   },
   "source": [
    "### 3.2 Compare approaches\n",
    "#### 3.2.1 Import optimize criteria"
   ]
  },
  {
   "cell_type": "code",
   "execution_count": 9,
   "id": "ff220536-3de4-498a-ae31-14fbb61495f5",
   "metadata": {
    "tags": []
   },
   "outputs": [],
   "source": [
    "criteria = {}\n",
    "for beta in betas:\n",
    "    metric = f'f{beta}'\n",
    "    file = glob.glob(f'{path_out}{metric}/*{suffix}.pkl')[0]\n",
    "    opt_crit = pickle.load(open(file, 'rb'))\n",
    "        \n",
    "    # if criteria was fitted for a single lead time value\n",
    "    if min_leadtime is not None:\n",
    "        if dim == 'approach':\n",
    "            criteria['current'] = current_criteria\n",
    "        for key, crit in opt_crit.items():\n",
    "            if metric in crit:\n",
    "                del crit[metric]\n",
    "            criteria[f'{metric}_{key}'] = crit\n",
    "            \n",
    "    # if criteria was fitted for several lead time ranges\n",
    "    else:\n",
    "        for lt, crit1 in opt_crit.items():\n",
    "            if dim == 'approach':\n",
    "                current_criteria['leadtime'] = lt\n",
    "                criteria[f'current_{lt}'] =  current_criteria.copy()\n",
    "            for key2, crit2 in crit1.items():\n",
    "                if metric in crit2:\n",
    "                    del crit2[metric]\n",
    "                crit2['leadtime'] = lt\n",
    "                criteria[f'{metric}_{lt}_{key2}'] = crit2"
   ]
  },
  {
   "cell_type": "code",
   "execution_count": 10,
   "id": "fef52d5f-9721-4a2c-acaf-4fa7f2659293",
   "metadata": {},
   "outputs": [],
   "source": [
    "#del criteria['current_60']\n",
    "#del criteria['current_144']"
   ]
  },
  {
   "cell_type": "markdown",
   "id": "1bcae12c-e390-4109-8f94-8b3d362faa82",
   "metadata": {},
   "source": [
    "#### 3.2.2 Compare approaches"
   ]
  },
  {
   "cell_type": "code",
   "execution_count": 11,
   "id": "e0cdd873-a2fc-4d3c-99b9-ac6616860e9f",
   "metadata": {},
   "outputs": [
    {
     "data": {
      "text/html": [
       "<div>\n",
       "<style scoped>\n",
       "    .dataframe tbody tr th:only-of-type {\n",
       "        vertical-align: middle;\n",
       "    }\n",
       "\n",
       "    .dataframe tbody tr th {\n",
       "        vertical-align: top;\n",
       "    }\n",
       "\n",
       "    .dataframe thead th {\n",
       "        text-align: right;\n",
       "    }\n",
       "</style>\n",
       "<table border=\"1\" class=\"dataframe\">\n",
       "  <thead>\n",
       "    <tr style=\"text-align: right;\">\n",
       "      <th></th>\n",
       "      <th>approach</th>\n",
       "      <th>window</th>\n",
       "      <th>KGE</th>\n",
       "      <th>OF</th>\n",
       "      <th>probability</th>\n",
       "      <th>persistence</th>\n",
       "      <th>TP</th>\n",
       "      <th>FN</th>\n",
       "      <th>FP</th>\n",
       "      <th>no_events</th>\n",
       "      <th>recall</th>\n",
       "      <th>precision</th>\n",
       "      <th>f0.8</th>\n",
       "    </tr>\n",
       "  </thead>\n",
       "  <tbody>\n",
       "    <tr>\n",
       "      <th>current</th>\n",
       "      <td>1D+1P</td>\n",
       "      <td>1</td>\n",
       "      <td>0.5</td>\n",
       "      <td></td>\n",
       "      <td>0.300</td>\n",
       "      <td>3/3</td>\n",
       "      <td>361</td>\n",
       "      <td>513</td>\n",
       "      <td>230</td>\n",
       "      <td>874</td>\n",
       "      <td>0.413043</td>\n",
       "      <td>0.610829</td>\n",
       "      <td>0.514656</td>\n",
       "    </tr>\n",
       "    <tr>\n",
       "      <th>f0.8_1_deterministic_+_1_probabilistic</th>\n",
       "      <td>1D+1P</td>\n",
       "      <td>1</td>\n",
       "      <td>0.5</td>\n",
       "      <td>f0.8</td>\n",
       "      <td>0.650</td>\n",
       "      <td>1/1</td>\n",
       "      <td>388</td>\n",
       "      <td>486</td>\n",
       "      <td>206</td>\n",
       "      <td>874</td>\n",
       "      <td>0.443936</td>\n",
       "      <td>0.653199</td>\n",
       "      <td>0.551710</td>\n",
       "    </tr>\n",
       "    <tr>\n",
       "      <th>f0.8_brier_weighted</th>\n",
       "      <td>BW</td>\n",
       "      <td>1</td>\n",
       "      <td>0.5</td>\n",
       "      <td>f0.8</td>\n",
       "      <td>0.525</td>\n",
       "      <td>1/1</td>\n",
       "      <td>388</td>\n",
       "      <td>486</td>\n",
       "      <td>196</td>\n",
       "      <td>874</td>\n",
       "      <td>0.443936</td>\n",
       "      <td>0.664384</td>\n",
       "      <td>0.556535</td>\n",
       "    </tr>\n",
       "    <tr>\n",
       "      <th>f0.8_model_mean</th>\n",
       "      <td>MM</td>\n",
       "      <td>1</td>\n",
       "      <td>0.5</td>\n",
       "      <td>f0.8</td>\n",
       "      <td>0.825</td>\n",
       "      <td>1/1</td>\n",
       "      <td>319</td>\n",
       "      <td>555</td>\n",
       "      <td>148</td>\n",
       "      <td>874</td>\n",
       "      <td>0.364989</td>\n",
       "      <td>0.683084</td>\n",
       "      <td>0.509724</td>\n",
       "    </tr>\n",
       "    <tr>\n",
       "      <th>f0.8_member_weighted</th>\n",
       "      <td>MW</td>\n",
       "      <td>1</td>\n",
       "      <td>0.5</td>\n",
       "      <td>f0.8</td>\n",
       "      <td>0.500</td>\n",
       "      <td>1/1</td>\n",
       "      <td>389</td>\n",
       "      <td>485</td>\n",
       "      <td>200</td>\n",
       "      <td>874</td>\n",
       "      <td>0.445080</td>\n",
       "      <td>0.660441</td>\n",
       "      <td>0.555540</td>\n",
       "    </tr>\n",
       "  </tbody>\n",
       "</table>\n",
       "</div>"
      ],
      "text/plain": [
       "                                       approach  window  KGE    OF  \\\n",
       "current                                   1D+1P       1  0.5         \n",
       "f0.8_1_deterministic_+_1_probabilistic    1D+1P       1  0.5  f0.8   \n",
       "f0.8_brier_weighted                          BW       1  0.5  f0.8   \n",
       "f0.8_model_mean                              MM       1  0.5  f0.8   \n",
       "f0.8_member_weighted                         MW       1  0.5  f0.8   \n",
       "\n",
       "                                        probability persistence   TP   FN  \\\n",
       "current                                       0.300         3/3  361  513   \n",
       "f0.8_1_deterministic_+_1_probabilistic        0.650         1/1  388  486   \n",
       "f0.8_brier_weighted                           0.525         1/1  388  486   \n",
       "f0.8_model_mean                               0.825         1/1  319  555   \n",
       "f0.8_member_weighted                          0.500         1/1  389  485   \n",
       "\n",
       "                                         FP  no_events    recall  precision  \\\n",
       "current                                 230        874  0.413043   0.610829   \n",
       "f0.8_1_deterministic_+_1_probabilistic  206        874  0.443936   0.653199   \n",
       "f0.8_brier_weighted                     196        874  0.443936   0.664384   \n",
       "f0.8_model_mean                         148        874  0.364989   0.683084   \n",
       "f0.8_member_weighted                    200        874  0.445080   0.660441   \n",
       "\n",
       "                                            f0.8  \n",
       "current                                 0.514656  \n",
       "f0.8_1_deterministic_+_1_probabilistic  0.551710  \n",
       "f0.8_brier_weighted                     0.556535  \n",
       "f0.8_model_mean                         0.509724  \n",
       "f0.8_member_weighted                    0.555540  "
      ]
     },
     "execution_count": 11,
     "metadata": {},
     "output_type": "execute_result"
    }
   ],
   "source": [
    "# transform criteria into a DataFrame\n",
    "summary_criteria = pd.concat([pd.DataFrame(crtr, index=[i]) for i, crtr in criteria.items()], axis=0)\n",
    "if dim == 'approach':\n",
    "    summary_criteria[dim] = [''.join([x[0].upper() for x in app.split('_')]) for app in summary_criteria[dim]]\n",
    "summary_criteria['window'] = window\n",
    "summary_criteria['KGE'] = min_kge\n",
    "summary_criteria['OF'] = [x.split('_')[0] if x.split('_')[0] != 'current' else '' for x in summary_criteria.index]\n",
    "if leadtime is None:\n",
    "    summary_criteria = summary_criteria[[dim, 'window', 'KGE', 'OF', 'probability', 'persistence']]\n",
    "else:\n",
    "    summary_criteria = summary_criteria[[dim, 'window', 'KGE', 'OF', 'leadtime', 'probability', 'persistence']]\n",
    "\n",
    "# compute hits, misses and false alarms\n",
    "if leadtime is None:\n",
    "    #summary_hits = pd.DataFrame({i: hits_opt.sel(leadtime=min_leadtime).sel(crtr).to_pandas() for i, crtr in criteria.items()}).transpose()\n",
    "    summary_hits = pd.DataFrame({i: hits_opt.sel(crtr).to_pandas() for i, crtr in criteria.items()}).transpose()\n",
    "else:\n",
    "    summary_hits = pd.DataFrame({i: hits_opt.sel(crtr).to_pandas() for i, crtr in criteria.items()}).transpose()\n",
    "\n",
    "summary_hits = summary_hits.dropna(axis=0, how='all').astype(int)\n",
    "summary_hits['no_events'] = summary_hits.TP + summary_hits.FN\n",
    "\n",
    "# compute skill\n",
    "summary_hits['recall'] = summary_hits.TP / (summary_hits.TP + summary_hits.FN)\n",
    "summary_hits['precision'] = summary_hits.TP / (summary_hits.TP + summary_hits.FP)\n",
    "for beta in betas:\n",
    "    summary_hits[f'f{beta}'] = (1 + beta**2) * summary_hits.TP / ((1 + beta**2) * summary_hits.TP + beta**2 * summary_hits.FN + summary_hits.FP)\n",
    "\n",
    "# concat criteria, hits and summary data frames\n",
    "summary = pd.concat((summary_criteria, summary_hits), axis=1)\n",
    "if leadtime is None:\n",
    "    summary.sort_values([dim, 'OF'], inplace=True)\n",
    "else:\n",
    "    summary.sort_values([dim, 'leadtime', 'OF'], inplace=True)\n",
    "\n",
    "summary.head()"
   ]
  },
  {
   "cell_type": "code",
   "execution_count": 12,
   "id": "ba6aaaae-b9ae-4254-ada1-07807868bab2",
   "metadata": {},
   "outputs": [],
   "source": [
    "# export\n",
    "summary.to_csv(f'{path_out}skill_by_criteria.csv', float_format='%.3f', index=False)"
   ]
  }
 ],
 "metadata": {
  "kernelspec": {
   "display_name": "Python 3 (ipykernel)",
   "language": "python",
   "name": "python3"
  },
  "language_info": {
   "codemirror_mode": {
    "name": "ipython",
    "version": 3
   },
   "file_extension": ".py",
   "mimetype": "text/x-python",
   "name": "python",
   "nbconvert_exporter": "python",
   "pygments_lexer": "ipython3",
   "version": "3.9.13"
  }
 },
 "nbformat": 4,
 "nbformat_minor": 5
}
