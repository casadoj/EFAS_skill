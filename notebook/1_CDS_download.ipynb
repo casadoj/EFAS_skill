{
 "cells": [
  {
   "cell_type": "markdown",
   "id": "308d3347-298b-482a-a9a1-3afb69580010",
   "metadata": {},
   "source": [
    "# CDS download\n",
    "***\n",
    "\n",
    "__Author__: Chus Casado<br>\n",
    "__Date__:   30-11-2022<br>\n",
    "\n",
    "__Introduction__:<br>\n",
    "This code downloads data from the Copernicus Climate Data Store. So far, it discharges the EFAS reanalysis (water balance run) from October 2018 to September 2022 in monthly periods."
   ]
  },
  {
   "cell_type": "code",
   "execution_count": 1,
   "id": "b0c360c3-610e-4344-8c6e-8b532d3d9dc2",
   "metadata": {},
   "outputs": [],
   "source": [
    "import numpy as np\n",
    "import cdsapi\n",
    "import pandas as pd"
   ]
  },
  {
   "cell_type": "markdown",
   "id": "9ae2ed87-7889-406d-87ac-a2d1b14b8e7e",
   "metadata": {},
   "source": [
    "## EFA reanalysis"
   ]
  },
  {
   "cell_type": "code",
   "execution_count": 2,
   "id": "4a505d78-1d1d-4990-bdc5-f60f204a63e6",
   "metadata": {},
   "outputs": [],
   "source": [
    "product = 'efas-historical'\n",
    "path_out = '../data/CDS/reanalysis/'\n",
    "\n",
    "# time periods in which divide the download\n",
    "periods = pd.date_range('2018-10-01', '2022-10-01', freq='m')\n",
    "periods = pd.date_range('2021-01-01', '2021-12-31', freq='m')"
   ]
  },
  {
   "cell_type": "code",
   "execution_count": 4,
   "id": "9a66f16a-8526-4277-934e-68aa48628b75",
   "metadata": {},
   "outputs": [
    {
     "name": "stderr",
     "output_type": "stream",
     "text": [
      "2022-11-30 09:12:48,423 INFO Welcome to the CDS\n",
      "2022-11-30 09:12:48,425 INFO Sending request to https://cds.climate.copernicus.eu/api/v2/resources/efas-historical\n",
      "2022-11-30 09:12:48,500 INFO Request is completed\n",
      "2022-11-30 09:12:48,503 INFO Downloading https://download-0018.copernicus-climate.eu/cache-compute-0018/cache/data3/adaptor.mars_and_url.retrieve-1669737867.6630917-23381-16-aa3e05cb-e6f0-4c52-8bdb-0d4fefdbbb24.zip to ../data/CDS/reanalysis/EFAS_reanalysis_202101.nc (33.6M)\n",
      "2022-11-30 09:12:49,690 INFO Download rate 28.3M/s                                                                     \n",
      "2022-11-30 09:12:49,700 INFO Welcome to the CDS\n",
      "2022-11-30 09:12:49,700 INFO Sending request to https://cds.climate.copernicus.eu/api/v2/resources/efas-historical\n"
     ]
    },
    {
     "name": "stdout",
     "output_type": "stream",
     "text": [
      "2021 1\n"
     ]
    },
    {
     "name": "stderr",
     "output_type": "stream",
     "text": [
      "2022-11-30 09:12:49,912 INFO Request is completed\n",
      "2022-11-30 09:12:49,913 INFO Downloading https://download-0006-clone.copernicus-climate.eu/cache-compute-0006/cache/data3/adaptor.mars_and_url.retrieve-1669737878.8544621-22003-19-f7d2d82f-51b2-494c-b27c-86c1be009c4c.zip to ../data/CDS/reanalysis/EFAS_reanalysis_202102.nc (33.6M)\n",
      "2022-11-30 09:12:51,225 INFO Download rate 25.6M/s                                                                     \n",
      "2022-11-30 09:12:51,249 INFO Welcome to the CDS\n",
      "2022-11-30 09:12:51,250 INFO Sending request to https://cds.climate.copernicus.eu/api/v2/resources/efas-historical\n",
      "2022-11-30 09:12:51,362 INFO Request is completed\n",
      "2022-11-30 09:12:51,365 INFO Downloading https://download-0012-clone.copernicus-climate.eu/cache-compute-0012/cache/data4/adaptor.mars_and_url.retrieve-1669737901.650197-25858-9-c3fb650f-a671-4abc-95d6-193e5ce916aa.zip to ../data/CDS/reanalysis/EFAS_reanalysis_202103.nc (33.6M)\n"
     ]
    },
    {
     "name": "stdout",
     "output_type": "stream",
     "text": [
      "2021 2\n"
     ]
    },
    {
     "name": "stderr",
     "output_type": "stream",
     "text": [
      "2022-11-30 09:12:52,597 INFO Download rate 27.3M/s                                                                     \n",
      "2022-11-30 09:12:52,624 INFO Welcome to the CDS\n",
      "2022-11-30 09:12:52,624 INFO Sending request to https://cds.climate.copernicus.eu/api/v2/resources/efas-historical\n"
     ]
    },
    {
     "name": "stdout",
     "output_type": "stream",
     "text": [
      "2021 3\n"
     ]
    },
    {
     "name": "stderr",
     "output_type": "stream",
     "text": [
      "2022-11-30 09:12:52,927 INFO Request is completed\n",
      "2022-11-30 09:12:52,928 INFO Downloading https://download-0021.copernicus-climate.eu/cache-compute-0021/cache/data6/adaptor.mars_and_url.retrieve-1669737917.189562-27492-18-0496cd47-1968-41b1-b891-2dc133a5627e.zip to ../data/CDS/reanalysis/EFAS_reanalysis_202104.nc (33.6M)\n",
      "2022-11-30 09:12:54,086 INFO Download rate 29M/s                                                                       \n",
      "2022-11-30 09:12:54,111 INFO Welcome to the CDS\n",
      "2022-11-30 09:12:54,111 INFO Sending request to https://cds.climate.copernicus.eu/api/v2/resources/efas-historical\n"
     ]
    },
    {
     "name": "stdout",
     "output_type": "stream",
     "text": [
      "2021 4\n"
     ]
    },
    {
     "name": "stderr",
     "output_type": "stream",
     "text": [
      "2022-11-30 09:12:54,385 INFO Request is completed\n",
      "2022-11-30 09:12:54,385 INFO Downloading https://download-0012-clone.copernicus-climate.eu/cache-compute-0012/cache/data8/adaptor.mars_and_url.retrieve-1669737929.0464747-25862-7-46c22aa5-a0cd-448b-9ae5-077cade4ad7f.zip to ../data/CDS/reanalysis/EFAS_reanalysis_202105.nc (33.6M)\n",
      "2022-11-30 09:12:55,409 INFO Download rate 32.8M/s                                                                     \n",
      "2022-11-30 09:12:55,434 INFO Welcome to the CDS\n",
      "2022-11-30 09:12:55,436 INFO Sending request to https://cds.climate.copernicus.eu/api/v2/resources/efas-historical\n",
      "2022-11-30 09:12:55,537 INFO Request is completed\n",
      "2022-11-30 09:12:55,539 INFO Downloading https://download-0002-clone.copernicus-climate.eu/cache-compute-0002/cache/data2/adaptor.mars_and_url.retrieve-1669737940.1619997-29036-19-f846b04e-0b29-4184-8c38-b6ce5b9bcab3.zip to ../data/CDS/reanalysis/EFAS_reanalysis_202106.nc (33.6M)\n"
     ]
    },
    {
     "name": "stdout",
     "output_type": "stream",
     "text": [
      "2021 5\n"
     ]
    },
    {
     "name": "stderr",
     "output_type": "stream",
     "text": [
      "2022-11-30 09:12:56,687 INFO Download rate 29.3M/s                                                                     \n",
      "2022-11-30 09:12:56,712 INFO Welcome to the CDS\n",
      "2022-11-30 09:12:56,712 INFO Sending request to https://cds.climate.copernicus.eu/api/v2/resources/efas-historical\n"
     ]
    },
    {
     "name": "stdout",
     "output_type": "stream",
     "text": [
      "2021 6\n"
     ]
    },
    {
     "name": "stderr",
     "output_type": "stream",
     "text": [
      "2022-11-30 09:12:56,905 INFO Request is completed\n",
      "2022-11-30 09:12:56,906 INFO Downloading https://download-0013-clone.copernicus-climate.eu/cache-compute-0013/cache/data2/adaptor.mars_and_url.retrieve-1669737951.7382033-13632-18-89609dab-3643-4e74-9f40-96f9a223cc98.zip to ../data/CDS/reanalysis/EFAS_reanalysis_202107.nc (33.6M)\n",
      "2022-11-30 09:12:58,090 INFO Download rate 28.3M/s                                                                     \n",
      "2022-11-30 09:12:58,114 INFO Welcome to the CDS\n",
      "2022-11-30 09:12:58,115 INFO Sending request to https://cds.climate.copernicus.eu/api/v2/resources/efas-historical\n",
      "2022-11-30 09:12:58,217 INFO Request is completed\n",
      "2022-11-30 09:12:58,219 INFO Downloading https://download-0018.copernicus-climate.eu/cache-compute-0018/cache/data6/adaptor.mars_and_url.retrieve-1669737962.053293-23681-15-350c2b47-3309-41c0-a195-872011e7ef88.zip to ../data/CDS/reanalysis/EFAS_reanalysis_202108.nc (33.6M)\n"
     ]
    },
    {
     "name": "stdout",
     "output_type": "stream",
     "text": [
      "2021 7\n"
     ]
    },
    {
     "name": "stderr",
     "output_type": "stream",
     "text": [
      "2022-11-30 09:12:59,265 INFO Download rate 32.1M/s                                                                     \n",
      "2022-11-30 09:12:59,291 INFO Welcome to the CDS\n",
      "2022-11-30 09:12:59,291 INFO Sending request to https://cds.climate.copernicus.eu/api/v2/resources/efas-historical\n",
      "2022-11-30 09:12:59,408 INFO Request is queued\n"
     ]
    },
    {
     "name": "stdout",
     "output_type": "stream",
     "text": [
      "2021 8\n"
     ]
    },
    {
     "name": "stderr",
     "output_type": "stream",
     "text": [
      "2022-11-30 09:13:00,425 INFO Request is running\n",
      "2022-11-30 09:13:07,601 INFO Request is completed\n",
      "2022-11-30 09:13:07,604 INFO Downloading https://download-0000-clone.copernicus-climate.eu/cache-compute-0000/cache/data1/adaptor.mars_and_url.retrieve-1669795818.804235-17929-18-9d9fb368-d62f-4967-aa78-37c08b578357.zip to ../data/CDS/reanalysis/EFAS_reanalysis_202109.nc (33.6M)\n",
      "2022-11-30 09:13:08,782 INFO Download rate 28.5M/s                                                                     \n",
      "2022-11-30 09:13:08,807 INFO Welcome to the CDS\n",
      "2022-11-30 09:13:08,808 INFO Sending request to https://cds.climate.copernicus.eu/api/v2/resources/efas-historical\n",
      "2022-11-30 09:13:08,913 INFO Request is completed\n",
      "2022-11-30 09:13:08,914 INFO Downloading https://download-0009-clone.copernicus-climate.eu/cache-compute-0009/cache/data5/adaptor.mars_and_url.retrieve-1669737983.4796045-26038-20-665c86cc-63ab-4ee5-ab24-ff02f3946c28.zip to ../data/CDS/reanalysis/EFAS_reanalysis_202110.nc (33.6M)\n"
     ]
    },
    {
     "name": "stdout",
     "output_type": "stream",
     "text": [
      "2021 9\n"
     ]
    },
    {
     "name": "stderr",
     "output_type": "stream",
     "text": [
      "2022-11-30 09:13:10,138 INFO Download rate 27.4M/s                                                                     \n",
      "2022-11-30 09:13:10,161 INFO Welcome to the CDS\n",
      "2022-11-30 09:13:10,162 INFO Sending request to https://cds.climate.copernicus.eu/api/v2/resources/efas-historical\n",
      "2022-11-30 09:13:10,329 INFO Request is completed\n"
     ]
    },
    {
     "name": "stdout",
     "output_type": "stream",
     "text": [
      "2021 10\n"
     ]
    },
    {
     "name": "stderr",
     "output_type": "stream",
     "text": [
      "2022-11-30 09:13:10,333 INFO Downloading https://download-0021.copernicus-climate.eu/cache-compute-0021/cache/data6/adaptor.mars_and_url.retrieve-1669737998.3723598-28209-18-b7263c52-efb9-4bcf-afc9-73fbb11ce57f.zip to ../data/CDS/reanalysis/EFAS_reanalysis_202111.nc (33.6M)\n",
      "2022-11-30 09:13:11,419 INFO Download rate 31M/s                                                                       \n",
      "2022-11-30 09:13:11,443 INFO Welcome to the CDS\n",
      "2022-11-30 09:13:11,443 INFO Sending request to https://cds.climate.copernicus.eu/api/v2/resources/efas-historical\n"
     ]
    },
    {
     "name": "stdout",
     "output_type": "stream",
     "text": [
      "2021 11\n"
     ]
    },
    {
     "name": "stderr",
     "output_type": "stream",
     "text": [
      "2022-11-30 09:13:11,642 INFO Request is completed\n",
      "2022-11-30 09:13:11,642 INFO Downloading https://download-0018.copernicus-climate.eu/cache-compute-0018/cache/data3/adaptor.mars_and_url.retrieve-1669738008.950616-24234-16-95615071-82f9-4447-a666-733f9a70bdcb.zip to ../data/CDS/reanalysis/EFAS_reanalysis_202112.nc (33.6M)\n",
      "2022-11-30 09:13:12,733 INFO Download rate 30.8M/s                                                                     \n"
     ]
    },
    {
     "name": "stdout",
     "output_type": "stream",
     "text": [
      "2021 12\n"
     ]
    }
   ],
   "source": [
    "# download a netCDF file for each of the periods\n",
    "for period in periods:\n",
    "    year, month, day = period.year, period.month, period.day\n",
    "    c = cdsapi.Client()\n",
    "    data = c.retrieve(product,\n",
    "                      {'system_version': 'version_4_0',\n",
    "                       'variable': 'river_discharge_in_the_last_6_hours',\n",
    "                       'model_levels': 'surface_level',\n",
    "                       'hyear': str(year),\n",
    "                       'hmonth': f'{month:02d}',\n",
    "                       'hday': [f'{1:02d}' for d in np.arange(1, day + 1)],\n",
    "                       'time': ['00:00', '06:00', '12:00', '18:00'],\n",
    "                       'format': 'netcdf'},\n",
    "                      f'{path_out}EFAS_reanalysis_{year}{month:02d}.nc')"
   ]
  },
  {
   "cell_type": "code",
   "execution_count": null,
   "id": "02ccd933-5546-469f-baaa-87342344463d",
   "metadata": {},
   "outputs": [],
   "source": []
  }
 ],
 "metadata": {
  "kernelspec": {
   "display_name": "Python 3 (ipykernel)",
   "language": "python",
   "name": "python3"
  },
  "language_info": {
   "codemirror_mode": {
    "name": "ipython",
    "version": 3
   },
   "file_extension": ".py",
   "mimetype": "text/x-python",
   "name": "python",
   "nbconvert_exporter": "python",
   "pygments_lexer": "ipython3",
   "version": "3.9.13"
  }
 },
 "nbformat": 4,
 "nbformat_minor": 5
}
