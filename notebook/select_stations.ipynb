{
 "cells": [
  {
   "cell_type": "code",
   "execution_count": 1,
   "id": "c691752b-a298-4cbf-8684-5bef536ff388",
   "metadata": {},
   "outputs": [],
   "source": [
    "import os\n",
    "import numpy as np\n",
    "import pandas as pd"
   ]
  },
  {
   "cell_type": "code",
   "execution_count": 2,
   "id": "98ccefba-41aa-458a-9c32-83e54187c7b8",
   "metadata": {},
   "outputs": [
    {
     "name": "stdout",
     "output_type": "stream",
     "text": [
      "Original no. reporting points:\t3337\n"
     ]
    }
   ],
   "source": [
    "# load table of reporting points\n",
    "stations = pd.read_csv('../data/Station-2022-10-27v12.csv', index_col='station_id')\n",
    "stations = stations.loc[stations.FixedRepPoint == True]\n",
    "print(f'Original no. reporting points:\\t{stations.shape[0]}')"
   ]
  },
  {
   "cell_type": "markdown",
   "id": "8ba57dd6-2995-4622-8701-807446ab8735",
   "metadata": {},
   "source": [
    "## Corentin"
   ]
  },
  {
   "cell_type": "code",
   "execution_count": null,
   "id": "1e49f9c0-7dd5-4369-a58b-3b56f869a53d",
   "metadata": {},
   "outputs": [],
   "source": [
    "# filter reporting points\n",
    "area_threshold = 500\n",
    "\n",
    "mask = stations['DrainingArea.km2.LDD'] >= area_threshold\n",
    "stations_sel = stations.loc[mask, ['StationName', 'LisfloodX', 'LisfloodY']]\n",
    "print(f'Selected no. reporting points:\\t{stations_sel.shape[0]}')"
   ]
  },
  {
   "cell_type": "code",
   "execution_count": null,
   "id": "f007504c-4846-4d6e-bd6a-ba6d4b0934a0",
   "metadata": {},
   "outputs": [],
   "source": [
    "stations_sel.duplicated(subset=['LisfloodX', 'LisfloodY']).sum()"
   ]
  },
  {
   "cell_type": "code",
   "execution_count": null,
   "id": "80e7db08-bcd2-49ef-9b50-b02ff621b4be",
   "metadata": {},
   "outputs": [],
   "source": [
    "# export selected reporting points\n",
    "stations_sel.to_csv(f'../data/Station_over_{area_threshold}km2.csv')"
   ]
  },
  {
   "cell_type": "markdown",
   "id": "b047466b-488b-420d-8b86-ae989439cf73",
   "metadata": {},
   "source": [
    "## Juliana"
   ]
  },
  {
   "cell_type": "code",
   "execution_count": null,
   "id": "4d7d663e-8969-4a1b-9d72-3f454463437f",
   "metadata": {},
   "outputs": [],
   "source": [
    "calib_points = stations.loc[(stations.LSFCalib == True) & (stations.Alive == 1) & (stations.CAL_TYPE == 'NRT_6h')]\n",
    "print(f'Calibration points:\\t{calib_points.shape[0]}')"
   ]
  },
  {
   "cell_type": "code",
   "execution_count": null,
   "id": "55ae4378-2e2e-485e-92e7-3d5d2a93feff",
   "metadata": {},
   "outputs": [],
   "source": [
    "# select the downstream calibration point for each catchment\n",
    "sel_calib_points = pd.DataFrame(columns=calib_points.columns, dtype=float)\n",
    "for catchment in calib_points.Catchment.unique():\n",
    "    aux = calib_points.loc[calib_points.Catchment == catchment]\n",
    "    aux_sort = aux.sort_values('DrainingArea.km2.LDD')\n",
    "    sel_calib_points = pd.concat((sel_calib_points, pd.DataFrame(aux_sort.iloc[-1,:]).T), axis=0)\n",
    "sel_calib_points.index.name = 'station_id'\n",
    "print(f'Selected calibration points:\\t{sel_calib_points.shape[0]}')"
   ]
  },
  {
   "cell_type": "code",
   "execution_count": null,
   "id": "a07187c6-1fdd-4f05-ad69-6bfe14a3ea24",
   "metadata": {},
   "outputs": [],
   "source": [
    "# export selected reporting points\n",
    "sel_calib_points.to_csv(f'../data/calibration_points_juliana.csv')"
   ]
  }
 ],
 "metadata": {
  "kernelspec": {
   "display_name": "Python 3 (ipykernel)",
   "language": "python",
   "name": "python3"
  },
  "language_info": {
   "codemirror_mode": {
    "name": "ipython",
    "version": 3
   },
   "file_extension": ".py",
   "mimetype": "text/x-python",
   "name": "python",
   "nbconvert_exporter": "python",
   "pygments_lexer": "ipython3",
   "version": "3.9.13"
  }
 },
 "nbformat": 4,
 "nbformat_minor": 5
}
